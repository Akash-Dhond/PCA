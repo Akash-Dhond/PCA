{
  "cells": [
    {
      "cell_type": "markdown",
      "metadata": {
        "id": "nR_KyheVYapi"
      },
      "source": [
        "### Import libraries"
      ]
    },
    {
      "cell_type": "code",
      "execution_count": 1,
      "metadata": {
        "id": "NQgDytyzYapk"
      },
      "outputs": [],
      "source": [
        "import pandas as pd \n",
        "import numpy as np\n",
        "\n",
        "import matplotlib.pyplot as plt\n",
        "import seaborn as sns\n",
        "\n",
        "import scipy.cluster.hierarchy as sch\n",
        "from sklearn.cluster import AgglomerativeClustering\n",
        "\n",
        "from sklearn.decomposition import PCA\n",
        "from sklearn.preprocessing import scale \n",
        "\n",
        "from sklearn.cluster import KMeans\n",
        "\n",
        "from sklearn import metrics\n",
        "\n",
        "import warnings\n",
        "warnings.filterwarnings('ignore')"
      ]
    },
    {
      "cell_type": "markdown",
      "metadata": {
        "id": "M2ZUPUvHYapl"
      },
      "source": [
        "### Reading the input csv file"
      ]
    },
    {
      "cell_type": "code",
      "execution_count": 2,
      "metadata": {
        "colab": {
          "base_uri": "https://localhost:8080/",
          "height": 270
        },
        "id": "CgXDlogPYapm",
        "outputId": "06a18298-3d3c-427c-85e4-19b9767656e4"
      },
      "outputs": [
        {
          "output_type": "execute_result",
          "data": {
            "text/plain": [
              "   Type  Alcohol  Malic   Ash  Alcalinity  Magnesium  Phenols  Flavanoids  \\\n",
              "0     1    14.23   1.71  2.43        15.6        127     2.80        3.06   \n",
              "1     1    13.20   1.78  2.14        11.2        100     2.65        2.76   \n",
              "2     1    13.16   2.36  2.67        18.6        101     2.80        3.24   \n",
              "3     1    14.37   1.95  2.50        16.8        113     3.85        3.49   \n",
              "4     1    13.24   2.59  2.87        21.0        118     2.80        2.69   \n",
              "\n",
              "   Nonflavanoids  Proanthocyanins  Color   Hue  Dilution  Proline  \n",
              "0           0.28             2.29   5.64  1.04      3.92     1065  \n",
              "1           0.26             1.28   4.38  1.05      3.40     1050  \n",
              "2           0.30             2.81   5.68  1.03      3.17     1185  \n",
              "3           0.24             2.18   7.80  0.86      3.45     1480  \n",
              "4           0.39             1.82   4.32  1.04      2.93      735  "
            ],
            "text/html": [
              "\n",
              "  <div id=\"df-05a68156-6bda-4c51-8e63-9c24fda12767\">\n",
              "    <div class=\"colab-df-container\">\n",
              "      <div>\n",
              "<style scoped>\n",
              "    .dataframe tbody tr th:only-of-type {\n",
              "        vertical-align: middle;\n",
              "    }\n",
              "\n",
              "    .dataframe tbody tr th {\n",
              "        vertical-align: top;\n",
              "    }\n",
              "\n",
              "    .dataframe thead th {\n",
              "        text-align: right;\n",
              "    }\n",
              "</style>\n",
              "<table border=\"1\" class=\"dataframe\">\n",
              "  <thead>\n",
              "    <tr style=\"text-align: right;\">\n",
              "      <th></th>\n",
              "      <th>Type</th>\n",
              "      <th>Alcohol</th>\n",
              "      <th>Malic</th>\n",
              "      <th>Ash</th>\n",
              "      <th>Alcalinity</th>\n",
              "      <th>Magnesium</th>\n",
              "      <th>Phenols</th>\n",
              "      <th>Flavanoids</th>\n",
              "      <th>Nonflavanoids</th>\n",
              "      <th>Proanthocyanins</th>\n",
              "      <th>Color</th>\n",
              "      <th>Hue</th>\n",
              "      <th>Dilution</th>\n",
              "      <th>Proline</th>\n",
              "    </tr>\n",
              "  </thead>\n",
              "  <tbody>\n",
              "    <tr>\n",
              "      <th>0</th>\n",
              "      <td>1</td>\n",
              "      <td>14.23</td>\n",
              "      <td>1.71</td>\n",
              "      <td>2.43</td>\n",
              "      <td>15.6</td>\n",
              "      <td>127</td>\n",
              "      <td>2.80</td>\n",
              "      <td>3.06</td>\n",
              "      <td>0.28</td>\n",
              "      <td>2.29</td>\n",
              "      <td>5.64</td>\n",
              "      <td>1.04</td>\n",
              "      <td>3.92</td>\n",
              "      <td>1065</td>\n",
              "    </tr>\n",
              "    <tr>\n",
              "      <th>1</th>\n",
              "      <td>1</td>\n",
              "      <td>13.20</td>\n",
              "      <td>1.78</td>\n",
              "      <td>2.14</td>\n",
              "      <td>11.2</td>\n",
              "      <td>100</td>\n",
              "      <td>2.65</td>\n",
              "      <td>2.76</td>\n",
              "      <td>0.26</td>\n",
              "      <td>1.28</td>\n",
              "      <td>4.38</td>\n",
              "      <td>1.05</td>\n",
              "      <td>3.40</td>\n",
              "      <td>1050</td>\n",
              "    </tr>\n",
              "    <tr>\n",
              "      <th>2</th>\n",
              "      <td>1</td>\n",
              "      <td>13.16</td>\n",
              "      <td>2.36</td>\n",
              "      <td>2.67</td>\n",
              "      <td>18.6</td>\n",
              "      <td>101</td>\n",
              "      <td>2.80</td>\n",
              "      <td>3.24</td>\n",
              "      <td>0.30</td>\n",
              "      <td>2.81</td>\n",
              "      <td>5.68</td>\n",
              "      <td>1.03</td>\n",
              "      <td>3.17</td>\n",
              "      <td>1185</td>\n",
              "    </tr>\n",
              "    <tr>\n",
              "      <th>3</th>\n",
              "      <td>1</td>\n",
              "      <td>14.37</td>\n",
              "      <td>1.95</td>\n",
              "      <td>2.50</td>\n",
              "      <td>16.8</td>\n",
              "      <td>113</td>\n",
              "      <td>3.85</td>\n",
              "      <td>3.49</td>\n",
              "      <td>0.24</td>\n",
              "      <td>2.18</td>\n",
              "      <td>7.80</td>\n",
              "      <td>0.86</td>\n",
              "      <td>3.45</td>\n",
              "      <td>1480</td>\n",
              "    </tr>\n",
              "    <tr>\n",
              "      <th>4</th>\n",
              "      <td>1</td>\n",
              "      <td>13.24</td>\n",
              "      <td>2.59</td>\n",
              "      <td>2.87</td>\n",
              "      <td>21.0</td>\n",
              "      <td>118</td>\n",
              "      <td>2.80</td>\n",
              "      <td>2.69</td>\n",
              "      <td>0.39</td>\n",
              "      <td>1.82</td>\n",
              "      <td>4.32</td>\n",
              "      <td>1.04</td>\n",
              "      <td>2.93</td>\n",
              "      <td>735</td>\n",
              "    </tr>\n",
              "  </tbody>\n",
              "</table>\n",
              "</div>\n",
              "      <button class=\"colab-df-convert\" onclick=\"convertToInteractive('df-05a68156-6bda-4c51-8e63-9c24fda12767')\"\n",
              "              title=\"Convert this dataframe to an interactive table.\"\n",
              "              style=\"display:none;\">\n",
              "        \n",
              "  <svg xmlns=\"http://www.w3.org/2000/svg\" height=\"24px\"viewBox=\"0 0 24 24\"\n",
              "       width=\"24px\">\n",
              "    <path d=\"M0 0h24v24H0V0z\" fill=\"none\"/>\n",
              "    <path d=\"M18.56 5.44l.94 2.06.94-2.06 2.06-.94-2.06-.94-.94-2.06-.94 2.06-2.06.94zm-11 1L8.5 8.5l.94-2.06 2.06-.94-2.06-.94L8.5 2.5l-.94 2.06-2.06.94zm10 10l.94 2.06.94-2.06 2.06-.94-2.06-.94-.94-2.06-.94 2.06-2.06.94z\"/><path d=\"M17.41 7.96l-1.37-1.37c-.4-.4-.92-.59-1.43-.59-.52 0-1.04.2-1.43.59L10.3 9.45l-7.72 7.72c-.78.78-.78 2.05 0 2.83L4 21.41c.39.39.9.59 1.41.59.51 0 1.02-.2 1.41-.59l7.78-7.78 2.81-2.81c.8-.78.8-2.07 0-2.86zM5.41 20L4 18.59l7.72-7.72 1.47 1.35L5.41 20z\"/>\n",
              "  </svg>\n",
              "      </button>\n",
              "      \n",
              "  <style>\n",
              "    .colab-df-container {\n",
              "      display:flex;\n",
              "      flex-wrap:wrap;\n",
              "      gap: 12px;\n",
              "    }\n",
              "\n",
              "    .colab-df-convert {\n",
              "      background-color: #E8F0FE;\n",
              "      border: none;\n",
              "      border-radius: 50%;\n",
              "      cursor: pointer;\n",
              "      display: none;\n",
              "      fill: #1967D2;\n",
              "      height: 32px;\n",
              "      padding: 0 0 0 0;\n",
              "      width: 32px;\n",
              "    }\n",
              "\n",
              "    .colab-df-convert:hover {\n",
              "      background-color: #E2EBFA;\n",
              "      box-shadow: 0px 1px 2px rgba(60, 64, 67, 0.3), 0px 1px 3px 1px rgba(60, 64, 67, 0.15);\n",
              "      fill: #174EA6;\n",
              "    }\n",
              "\n",
              "    [theme=dark] .colab-df-convert {\n",
              "      background-color: #3B4455;\n",
              "      fill: #D2E3FC;\n",
              "    }\n",
              "\n",
              "    [theme=dark] .colab-df-convert:hover {\n",
              "      background-color: #434B5C;\n",
              "      box-shadow: 0px 1px 3px 1px rgba(0, 0, 0, 0.15);\n",
              "      filter: drop-shadow(0px 1px 2px rgba(0, 0, 0, 0.3));\n",
              "      fill: #FFFFFF;\n",
              "    }\n",
              "  </style>\n",
              "\n",
              "      <script>\n",
              "        const buttonEl =\n",
              "          document.querySelector('#df-05a68156-6bda-4c51-8e63-9c24fda12767 button.colab-df-convert');\n",
              "        buttonEl.style.display =\n",
              "          google.colab.kernel.accessAllowed ? 'block' : 'none';\n",
              "\n",
              "        async function convertToInteractive(key) {\n",
              "          const element = document.querySelector('#df-05a68156-6bda-4c51-8e63-9c24fda12767');\n",
              "          const dataTable =\n",
              "            await google.colab.kernel.invokeFunction('convertToInteractive',\n",
              "                                                     [key], {});\n",
              "          if (!dataTable) return;\n",
              "\n",
              "          const docLinkHtml = 'Like what you see? Visit the ' +\n",
              "            '<a target=\"_blank\" href=https://colab.research.google.com/notebooks/data_table.ipynb>data table notebook</a>'\n",
              "            + ' to learn more about interactive tables.';\n",
              "          element.innerHTML = '';\n",
              "          dataTable['output_type'] = 'display_data';\n",
              "          await google.colab.output.renderOutput(dataTable, element);\n",
              "          const docLink = document.createElement('div');\n",
              "          docLink.innerHTML = docLinkHtml;\n",
              "          element.appendChild(docLink);\n",
              "        }\n",
              "      </script>\n",
              "    </div>\n",
              "  </div>\n",
              "  "
            ]
          },
          "metadata": {},
          "execution_count": 2
        }
      ],
      "source": [
        "wine = pd.read_csv(\"/content/wine.csv\")\n",
        "wine.head()"
      ]
    },
    {
      "cell_type": "markdown",
      "metadata": {
        "id": "e1SX2fp3Yapn"
      },
      "source": [
        "### Checking the shape"
      ]
    },
    {
      "cell_type": "code",
      "execution_count": 3,
      "metadata": {
        "colab": {
          "base_uri": "https://localhost:8080/"
        },
        "id": "gmjGANr7Yapo",
        "outputId": "c14b0663-0760-47da-9c43-c7e6824c0dfd"
      },
      "outputs": [
        {
          "output_type": "execute_result",
          "data": {
            "text/plain": [
              "(178, 14)"
            ]
          },
          "metadata": {},
          "execution_count": 3
        }
      ],
      "source": [
        "wine.shape"
      ]
    },
    {
      "cell_type": "code",
      "execution_count": 4,
      "metadata": {
        "colab": {
          "base_uri": "https://localhost:8080/"
        },
        "id": "3z7kaYEkYapo",
        "outputId": "e8688c50-d83c-4936-f85c-31723902dec1"
      },
      "outputs": [
        {
          "output_type": "execute_result",
          "data": {
            "text/plain": [
              "array([1, 2, 3])"
            ]
          },
          "metadata": {},
          "execution_count": 4
        }
      ],
      "source": [
        "wine.Type.unique()"
      ]
    },
    {
      "cell_type": "markdown",
      "metadata": {
        "id": "KGOWHF7UYapp"
      },
      "source": [
        "## Drop the \"Type\" column beacuse it contains 3 different values, which makes the total dataset into 3 cluster"
      ]
    },
    {
      "cell_type": "code",
      "execution_count": 5,
      "metadata": {
        "id": "Y8wwtz3BYapp"
      },
      "outputs": [],
      "source": [
        "wine1 = wine.drop(\"Type\",axis=1)"
      ]
    },
    {
      "cell_type": "markdown",
      "metadata": {
        "id": "f4RP0srBYapq"
      },
      "source": [
        "###  Viewing the New dataset "
      ]
    },
    {
      "cell_type": "code",
      "execution_count": 6,
      "metadata": {
        "colab": {
          "base_uri": "https://localhost:8080/",
          "height": 487
        },
        "id": "nWI9MjVuYapq",
        "outputId": "fcff9b95-db2e-437f-a004-1d05d803603e"
      },
      "outputs": [
        {
          "output_type": "execute_result",
          "data": {
            "text/plain": [
              "     Alcohol  Malic   Ash  Alcalinity  Magnesium  Phenols  Flavanoids  \\\n",
              "0      14.23   1.71  2.43        15.6        127     2.80        3.06   \n",
              "1      13.20   1.78  2.14        11.2        100     2.65        2.76   \n",
              "2      13.16   2.36  2.67        18.6        101     2.80        3.24   \n",
              "3      14.37   1.95  2.50        16.8        113     3.85        3.49   \n",
              "4      13.24   2.59  2.87        21.0        118     2.80        2.69   \n",
              "..       ...    ...   ...         ...        ...      ...         ...   \n",
              "173    13.71   5.65  2.45        20.5         95     1.68        0.61   \n",
              "174    13.40   3.91  2.48        23.0        102     1.80        0.75   \n",
              "175    13.27   4.28  2.26        20.0        120     1.59        0.69   \n",
              "176    13.17   2.59  2.37        20.0        120     1.65        0.68   \n",
              "177    14.13   4.10  2.74        24.5         96     2.05        0.76   \n",
              "\n",
              "     Nonflavanoids  Proanthocyanins  Color   Hue  Dilution  Proline  \n",
              "0             0.28             2.29   5.64  1.04      3.92     1065  \n",
              "1             0.26             1.28   4.38  1.05      3.40     1050  \n",
              "2             0.30             2.81   5.68  1.03      3.17     1185  \n",
              "3             0.24             2.18   7.80  0.86      3.45     1480  \n",
              "4             0.39             1.82   4.32  1.04      2.93      735  \n",
              "..             ...              ...    ...   ...       ...      ...  \n",
              "173           0.52             1.06   7.70  0.64      1.74      740  \n",
              "174           0.43             1.41   7.30  0.70      1.56      750  \n",
              "175           0.43             1.35  10.20  0.59      1.56      835  \n",
              "176           0.53             1.46   9.30  0.60      1.62      840  \n",
              "177           0.56             1.35   9.20  0.61      1.60      560  \n",
              "\n",
              "[178 rows x 13 columns]"
            ],
            "text/html": [
              "\n",
              "  <div id=\"df-804970d8-ddf9-4514-8c51-006e3a3cad4c\">\n",
              "    <div class=\"colab-df-container\">\n",
              "      <div>\n",
              "<style scoped>\n",
              "    .dataframe tbody tr th:only-of-type {\n",
              "        vertical-align: middle;\n",
              "    }\n",
              "\n",
              "    .dataframe tbody tr th {\n",
              "        vertical-align: top;\n",
              "    }\n",
              "\n",
              "    .dataframe thead th {\n",
              "        text-align: right;\n",
              "    }\n",
              "</style>\n",
              "<table border=\"1\" class=\"dataframe\">\n",
              "  <thead>\n",
              "    <tr style=\"text-align: right;\">\n",
              "      <th></th>\n",
              "      <th>Alcohol</th>\n",
              "      <th>Malic</th>\n",
              "      <th>Ash</th>\n",
              "      <th>Alcalinity</th>\n",
              "      <th>Magnesium</th>\n",
              "      <th>Phenols</th>\n",
              "      <th>Flavanoids</th>\n",
              "      <th>Nonflavanoids</th>\n",
              "      <th>Proanthocyanins</th>\n",
              "      <th>Color</th>\n",
              "      <th>Hue</th>\n",
              "      <th>Dilution</th>\n",
              "      <th>Proline</th>\n",
              "    </tr>\n",
              "  </thead>\n",
              "  <tbody>\n",
              "    <tr>\n",
              "      <th>0</th>\n",
              "      <td>14.23</td>\n",
              "      <td>1.71</td>\n",
              "      <td>2.43</td>\n",
              "      <td>15.6</td>\n",
              "      <td>127</td>\n",
              "      <td>2.80</td>\n",
              "      <td>3.06</td>\n",
              "      <td>0.28</td>\n",
              "      <td>2.29</td>\n",
              "      <td>5.64</td>\n",
              "      <td>1.04</td>\n",
              "      <td>3.92</td>\n",
              "      <td>1065</td>\n",
              "    </tr>\n",
              "    <tr>\n",
              "      <th>1</th>\n",
              "      <td>13.20</td>\n",
              "      <td>1.78</td>\n",
              "      <td>2.14</td>\n",
              "      <td>11.2</td>\n",
              "      <td>100</td>\n",
              "      <td>2.65</td>\n",
              "      <td>2.76</td>\n",
              "      <td>0.26</td>\n",
              "      <td>1.28</td>\n",
              "      <td>4.38</td>\n",
              "      <td>1.05</td>\n",
              "      <td>3.40</td>\n",
              "      <td>1050</td>\n",
              "    </tr>\n",
              "    <tr>\n",
              "      <th>2</th>\n",
              "      <td>13.16</td>\n",
              "      <td>2.36</td>\n",
              "      <td>2.67</td>\n",
              "      <td>18.6</td>\n",
              "      <td>101</td>\n",
              "      <td>2.80</td>\n",
              "      <td>3.24</td>\n",
              "      <td>0.30</td>\n",
              "      <td>2.81</td>\n",
              "      <td>5.68</td>\n",
              "      <td>1.03</td>\n",
              "      <td>3.17</td>\n",
              "      <td>1185</td>\n",
              "    </tr>\n",
              "    <tr>\n",
              "      <th>3</th>\n",
              "      <td>14.37</td>\n",
              "      <td>1.95</td>\n",
              "      <td>2.50</td>\n",
              "      <td>16.8</td>\n",
              "      <td>113</td>\n",
              "      <td>3.85</td>\n",
              "      <td>3.49</td>\n",
              "      <td>0.24</td>\n",
              "      <td>2.18</td>\n",
              "      <td>7.80</td>\n",
              "      <td>0.86</td>\n",
              "      <td>3.45</td>\n",
              "      <td>1480</td>\n",
              "    </tr>\n",
              "    <tr>\n",
              "      <th>4</th>\n",
              "      <td>13.24</td>\n",
              "      <td>2.59</td>\n",
              "      <td>2.87</td>\n",
              "      <td>21.0</td>\n",
              "      <td>118</td>\n",
              "      <td>2.80</td>\n",
              "      <td>2.69</td>\n",
              "      <td>0.39</td>\n",
              "      <td>1.82</td>\n",
              "      <td>4.32</td>\n",
              "      <td>1.04</td>\n",
              "      <td>2.93</td>\n",
              "      <td>735</td>\n",
              "    </tr>\n",
              "    <tr>\n",
              "      <th>...</th>\n",
              "      <td>...</td>\n",
              "      <td>...</td>\n",
              "      <td>...</td>\n",
              "      <td>...</td>\n",
              "      <td>...</td>\n",
              "      <td>...</td>\n",
              "      <td>...</td>\n",
              "      <td>...</td>\n",
              "      <td>...</td>\n",
              "      <td>...</td>\n",
              "      <td>...</td>\n",
              "      <td>...</td>\n",
              "      <td>...</td>\n",
              "    </tr>\n",
              "    <tr>\n",
              "      <th>173</th>\n",
              "      <td>13.71</td>\n",
              "      <td>5.65</td>\n",
              "      <td>2.45</td>\n",
              "      <td>20.5</td>\n",
              "      <td>95</td>\n",
              "      <td>1.68</td>\n",
              "      <td>0.61</td>\n",
              "      <td>0.52</td>\n",
              "      <td>1.06</td>\n",
              "      <td>7.70</td>\n",
              "      <td>0.64</td>\n",
              "      <td>1.74</td>\n",
              "      <td>740</td>\n",
              "    </tr>\n",
              "    <tr>\n",
              "      <th>174</th>\n",
              "      <td>13.40</td>\n",
              "      <td>3.91</td>\n",
              "      <td>2.48</td>\n",
              "      <td>23.0</td>\n",
              "      <td>102</td>\n",
              "      <td>1.80</td>\n",
              "      <td>0.75</td>\n",
              "      <td>0.43</td>\n",
              "      <td>1.41</td>\n",
              "      <td>7.30</td>\n",
              "      <td>0.70</td>\n",
              "      <td>1.56</td>\n",
              "      <td>750</td>\n",
              "    </tr>\n",
              "    <tr>\n",
              "      <th>175</th>\n",
              "      <td>13.27</td>\n",
              "      <td>4.28</td>\n",
              "      <td>2.26</td>\n",
              "      <td>20.0</td>\n",
              "      <td>120</td>\n",
              "      <td>1.59</td>\n",
              "      <td>0.69</td>\n",
              "      <td>0.43</td>\n",
              "      <td>1.35</td>\n",
              "      <td>10.20</td>\n",
              "      <td>0.59</td>\n",
              "      <td>1.56</td>\n",
              "      <td>835</td>\n",
              "    </tr>\n",
              "    <tr>\n",
              "      <th>176</th>\n",
              "      <td>13.17</td>\n",
              "      <td>2.59</td>\n",
              "      <td>2.37</td>\n",
              "      <td>20.0</td>\n",
              "      <td>120</td>\n",
              "      <td>1.65</td>\n",
              "      <td>0.68</td>\n",
              "      <td>0.53</td>\n",
              "      <td>1.46</td>\n",
              "      <td>9.30</td>\n",
              "      <td>0.60</td>\n",
              "      <td>1.62</td>\n",
              "      <td>840</td>\n",
              "    </tr>\n",
              "    <tr>\n",
              "      <th>177</th>\n",
              "      <td>14.13</td>\n",
              "      <td>4.10</td>\n",
              "      <td>2.74</td>\n",
              "      <td>24.5</td>\n",
              "      <td>96</td>\n",
              "      <td>2.05</td>\n",
              "      <td>0.76</td>\n",
              "      <td>0.56</td>\n",
              "      <td>1.35</td>\n",
              "      <td>9.20</td>\n",
              "      <td>0.61</td>\n",
              "      <td>1.60</td>\n",
              "      <td>560</td>\n",
              "    </tr>\n",
              "  </tbody>\n",
              "</table>\n",
              "<p>178 rows × 13 columns</p>\n",
              "</div>\n",
              "      <button class=\"colab-df-convert\" onclick=\"convertToInteractive('df-804970d8-ddf9-4514-8c51-006e3a3cad4c')\"\n",
              "              title=\"Convert this dataframe to an interactive table.\"\n",
              "              style=\"display:none;\">\n",
              "        \n",
              "  <svg xmlns=\"http://www.w3.org/2000/svg\" height=\"24px\"viewBox=\"0 0 24 24\"\n",
              "       width=\"24px\">\n",
              "    <path d=\"M0 0h24v24H0V0z\" fill=\"none\"/>\n",
              "    <path d=\"M18.56 5.44l.94 2.06.94-2.06 2.06-.94-2.06-.94-.94-2.06-.94 2.06-2.06.94zm-11 1L8.5 8.5l.94-2.06 2.06-.94-2.06-.94L8.5 2.5l-.94 2.06-2.06.94zm10 10l.94 2.06.94-2.06 2.06-.94-2.06-.94-.94-2.06-.94 2.06-2.06.94z\"/><path d=\"M17.41 7.96l-1.37-1.37c-.4-.4-.92-.59-1.43-.59-.52 0-1.04.2-1.43.59L10.3 9.45l-7.72 7.72c-.78.78-.78 2.05 0 2.83L4 21.41c.39.39.9.59 1.41.59.51 0 1.02-.2 1.41-.59l7.78-7.78 2.81-2.81c.8-.78.8-2.07 0-2.86zM5.41 20L4 18.59l7.72-7.72 1.47 1.35L5.41 20z\"/>\n",
              "  </svg>\n",
              "      </button>\n",
              "      \n",
              "  <style>\n",
              "    .colab-df-container {\n",
              "      display:flex;\n",
              "      flex-wrap:wrap;\n",
              "      gap: 12px;\n",
              "    }\n",
              "\n",
              "    .colab-df-convert {\n",
              "      background-color: #E8F0FE;\n",
              "      border: none;\n",
              "      border-radius: 50%;\n",
              "      cursor: pointer;\n",
              "      display: none;\n",
              "      fill: #1967D2;\n",
              "      height: 32px;\n",
              "      padding: 0 0 0 0;\n",
              "      width: 32px;\n",
              "    }\n",
              "\n",
              "    .colab-df-convert:hover {\n",
              "      background-color: #E2EBFA;\n",
              "      box-shadow: 0px 1px 2px rgba(60, 64, 67, 0.3), 0px 1px 3px 1px rgba(60, 64, 67, 0.15);\n",
              "      fill: #174EA6;\n",
              "    }\n",
              "\n",
              "    [theme=dark] .colab-df-convert {\n",
              "      background-color: #3B4455;\n",
              "      fill: #D2E3FC;\n",
              "    }\n",
              "\n",
              "    [theme=dark] .colab-df-convert:hover {\n",
              "      background-color: #434B5C;\n",
              "      box-shadow: 0px 1px 3px 1px rgba(0, 0, 0, 0.15);\n",
              "      filter: drop-shadow(0px 1px 2px rgba(0, 0, 0, 0.3));\n",
              "      fill: #FFFFFF;\n",
              "    }\n",
              "  </style>\n",
              "\n",
              "      <script>\n",
              "        const buttonEl =\n",
              "          document.querySelector('#df-804970d8-ddf9-4514-8c51-006e3a3cad4c button.colab-df-convert');\n",
              "        buttonEl.style.display =\n",
              "          google.colab.kernel.accessAllowed ? 'block' : 'none';\n",
              "\n",
              "        async function convertToInteractive(key) {\n",
              "          const element = document.querySelector('#df-804970d8-ddf9-4514-8c51-006e3a3cad4c');\n",
              "          const dataTable =\n",
              "            await google.colab.kernel.invokeFunction('convertToInteractive',\n",
              "                                                     [key], {});\n",
              "          if (!dataTable) return;\n",
              "\n",
              "          const docLinkHtml = 'Like what you see? Visit the ' +\n",
              "            '<a target=\"_blank\" href=https://colab.research.google.com/notebooks/data_table.ipynb>data table notebook</a>'\n",
              "            + ' to learn more about interactive tables.';\n",
              "          element.innerHTML = '';\n",
              "          dataTable['output_type'] = 'display_data';\n",
              "          await google.colab.output.renderOutput(dataTable, element);\n",
              "          const docLink = document.createElement('div');\n",
              "          docLink.innerHTML = docLinkHtml;\n",
              "          element.appendChild(docLink);\n",
              "        }\n",
              "      </script>\n",
              "    </div>\n",
              "  </div>\n",
              "  "
            ]
          },
          "metadata": {},
          "execution_count": 6
        }
      ],
      "source": [
        "wine1"
      ]
    },
    {
      "cell_type": "markdown",
      "metadata": {
        "id": "-4Q3mUdOYapr"
      },
      "source": [
        "### Checking the shape new dataset"
      ]
    },
    {
      "cell_type": "code",
      "execution_count": 7,
      "metadata": {
        "colab": {
          "base_uri": "https://localhost:8080/"
        },
        "id": "TtjDO8l5Yapr",
        "outputId": "2024fbbe-1bc5-491d-e861-fc6a73d96c66"
      },
      "outputs": [
        {
          "output_type": "execute_result",
          "data": {
            "text/plain": [
              "(178, 13)"
            ]
          },
          "metadata": {},
          "execution_count": 7
        }
      ],
      "source": [
        "wine1.shape"
      ]
    },
    {
      "cell_type": "markdown",
      "metadata": {
        "id": "C9j9SWpYYaps"
      },
      "source": [
        "### Cheking the statistics of the new dataset"
      ]
    },
    {
      "cell_type": "code",
      "execution_count": 8,
      "metadata": {
        "colab": {
          "base_uri": "https://localhost:8080/",
          "height": 364
        },
        "id": "eklsYCeJYaps",
        "outputId": "5bfcb00f-4c9d-4cea-e37b-459602b2b38d"
      },
      "outputs": [
        {
          "output_type": "execute_result",
          "data": {
            "text/plain": [
              "          Alcohol       Malic         Ash  Alcalinity   Magnesium     Phenols  \\\n",
              "count  178.000000  178.000000  178.000000  178.000000  178.000000  178.000000   \n",
              "mean    13.000618    2.336348    2.366517   19.494944   99.741573    2.295112   \n",
              "std      0.811827    1.117146    0.274344    3.339564   14.282484    0.625851   \n",
              "min     11.030000    0.740000    1.360000   10.600000   70.000000    0.980000   \n",
              "25%     12.362500    1.602500    2.210000   17.200000   88.000000    1.742500   \n",
              "50%     13.050000    1.865000    2.360000   19.500000   98.000000    2.355000   \n",
              "75%     13.677500    3.082500    2.557500   21.500000  107.000000    2.800000   \n",
              "max     14.830000    5.800000    3.230000   30.000000  162.000000    3.880000   \n",
              "\n",
              "       Flavanoids  Nonflavanoids  Proanthocyanins       Color         Hue  \\\n",
              "count  178.000000     178.000000       178.000000  178.000000  178.000000   \n",
              "mean     2.029270       0.361854         1.590899    5.058090    0.957449   \n",
              "std      0.998859       0.124453         0.572359    2.318286    0.228572   \n",
              "min      0.340000       0.130000         0.410000    1.280000    0.480000   \n",
              "25%      1.205000       0.270000         1.250000    3.220000    0.782500   \n",
              "50%      2.135000       0.340000         1.555000    4.690000    0.965000   \n",
              "75%      2.875000       0.437500         1.950000    6.200000    1.120000   \n",
              "max      5.080000       0.660000         3.580000   13.000000    1.710000   \n",
              "\n",
              "         Dilution      Proline  \n",
              "count  178.000000   178.000000  \n",
              "mean     2.611685   746.893258  \n",
              "std      0.709990   314.907474  \n",
              "min      1.270000   278.000000  \n",
              "25%      1.937500   500.500000  \n",
              "50%      2.780000   673.500000  \n",
              "75%      3.170000   985.000000  \n",
              "max      4.000000  1680.000000  "
            ],
            "text/html": [
              "\n",
              "  <div id=\"df-2d28b0c0-0d59-4ba6-9641-70ff1b87401b\">\n",
              "    <div class=\"colab-df-container\">\n",
              "      <div>\n",
              "<style scoped>\n",
              "    .dataframe tbody tr th:only-of-type {\n",
              "        vertical-align: middle;\n",
              "    }\n",
              "\n",
              "    .dataframe tbody tr th {\n",
              "        vertical-align: top;\n",
              "    }\n",
              "\n",
              "    .dataframe thead th {\n",
              "        text-align: right;\n",
              "    }\n",
              "</style>\n",
              "<table border=\"1\" class=\"dataframe\">\n",
              "  <thead>\n",
              "    <tr style=\"text-align: right;\">\n",
              "      <th></th>\n",
              "      <th>Alcohol</th>\n",
              "      <th>Malic</th>\n",
              "      <th>Ash</th>\n",
              "      <th>Alcalinity</th>\n",
              "      <th>Magnesium</th>\n",
              "      <th>Phenols</th>\n",
              "      <th>Flavanoids</th>\n",
              "      <th>Nonflavanoids</th>\n",
              "      <th>Proanthocyanins</th>\n",
              "      <th>Color</th>\n",
              "      <th>Hue</th>\n",
              "      <th>Dilution</th>\n",
              "      <th>Proline</th>\n",
              "    </tr>\n",
              "  </thead>\n",
              "  <tbody>\n",
              "    <tr>\n",
              "      <th>count</th>\n",
              "      <td>178.000000</td>\n",
              "      <td>178.000000</td>\n",
              "      <td>178.000000</td>\n",
              "      <td>178.000000</td>\n",
              "      <td>178.000000</td>\n",
              "      <td>178.000000</td>\n",
              "      <td>178.000000</td>\n",
              "      <td>178.000000</td>\n",
              "      <td>178.000000</td>\n",
              "      <td>178.000000</td>\n",
              "      <td>178.000000</td>\n",
              "      <td>178.000000</td>\n",
              "      <td>178.000000</td>\n",
              "    </tr>\n",
              "    <tr>\n",
              "      <th>mean</th>\n",
              "      <td>13.000618</td>\n",
              "      <td>2.336348</td>\n",
              "      <td>2.366517</td>\n",
              "      <td>19.494944</td>\n",
              "      <td>99.741573</td>\n",
              "      <td>2.295112</td>\n",
              "      <td>2.029270</td>\n",
              "      <td>0.361854</td>\n",
              "      <td>1.590899</td>\n",
              "      <td>5.058090</td>\n",
              "      <td>0.957449</td>\n",
              "      <td>2.611685</td>\n",
              "      <td>746.893258</td>\n",
              "    </tr>\n",
              "    <tr>\n",
              "      <th>std</th>\n",
              "      <td>0.811827</td>\n",
              "      <td>1.117146</td>\n",
              "      <td>0.274344</td>\n",
              "      <td>3.339564</td>\n",
              "      <td>14.282484</td>\n",
              "      <td>0.625851</td>\n",
              "      <td>0.998859</td>\n",
              "      <td>0.124453</td>\n",
              "      <td>0.572359</td>\n",
              "      <td>2.318286</td>\n",
              "      <td>0.228572</td>\n",
              "      <td>0.709990</td>\n",
              "      <td>314.907474</td>\n",
              "    </tr>\n",
              "    <tr>\n",
              "      <th>min</th>\n",
              "      <td>11.030000</td>\n",
              "      <td>0.740000</td>\n",
              "      <td>1.360000</td>\n",
              "      <td>10.600000</td>\n",
              "      <td>70.000000</td>\n",
              "      <td>0.980000</td>\n",
              "      <td>0.340000</td>\n",
              "      <td>0.130000</td>\n",
              "      <td>0.410000</td>\n",
              "      <td>1.280000</td>\n",
              "      <td>0.480000</td>\n",
              "      <td>1.270000</td>\n",
              "      <td>278.000000</td>\n",
              "    </tr>\n",
              "    <tr>\n",
              "      <th>25%</th>\n",
              "      <td>12.362500</td>\n",
              "      <td>1.602500</td>\n",
              "      <td>2.210000</td>\n",
              "      <td>17.200000</td>\n",
              "      <td>88.000000</td>\n",
              "      <td>1.742500</td>\n",
              "      <td>1.205000</td>\n",
              "      <td>0.270000</td>\n",
              "      <td>1.250000</td>\n",
              "      <td>3.220000</td>\n",
              "      <td>0.782500</td>\n",
              "      <td>1.937500</td>\n",
              "      <td>500.500000</td>\n",
              "    </tr>\n",
              "    <tr>\n",
              "      <th>50%</th>\n",
              "      <td>13.050000</td>\n",
              "      <td>1.865000</td>\n",
              "      <td>2.360000</td>\n",
              "      <td>19.500000</td>\n",
              "      <td>98.000000</td>\n",
              "      <td>2.355000</td>\n",
              "      <td>2.135000</td>\n",
              "      <td>0.340000</td>\n",
              "      <td>1.555000</td>\n",
              "      <td>4.690000</td>\n",
              "      <td>0.965000</td>\n",
              "      <td>2.780000</td>\n",
              "      <td>673.500000</td>\n",
              "    </tr>\n",
              "    <tr>\n",
              "      <th>75%</th>\n",
              "      <td>13.677500</td>\n",
              "      <td>3.082500</td>\n",
              "      <td>2.557500</td>\n",
              "      <td>21.500000</td>\n",
              "      <td>107.000000</td>\n",
              "      <td>2.800000</td>\n",
              "      <td>2.875000</td>\n",
              "      <td>0.437500</td>\n",
              "      <td>1.950000</td>\n",
              "      <td>6.200000</td>\n",
              "      <td>1.120000</td>\n",
              "      <td>3.170000</td>\n",
              "      <td>985.000000</td>\n",
              "    </tr>\n",
              "    <tr>\n",
              "      <th>max</th>\n",
              "      <td>14.830000</td>\n",
              "      <td>5.800000</td>\n",
              "      <td>3.230000</td>\n",
              "      <td>30.000000</td>\n",
              "      <td>162.000000</td>\n",
              "      <td>3.880000</td>\n",
              "      <td>5.080000</td>\n",
              "      <td>0.660000</td>\n",
              "      <td>3.580000</td>\n",
              "      <td>13.000000</td>\n",
              "      <td>1.710000</td>\n",
              "      <td>4.000000</td>\n",
              "      <td>1680.000000</td>\n",
              "    </tr>\n",
              "  </tbody>\n",
              "</table>\n",
              "</div>\n",
              "      <button class=\"colab-df-convert\" onclick=\"convertToInteractive('df-2d28b0c0-0d59-4ba6-9641-70ff1b87401b')\"\n",
              "              title=\"Convert this dataframe to an interactive table.\"\n",
              "              style=\"display:none;\">\n",
              "        \n",
              "  <svg xmlns=\"http://www.w3.org/2000/svg\" height=\"24px\"viewBox=\"0 0 24 24\"\n",
              "       width=\"24px\">\n",
              "    <path d=\"M0 0h24v24H0V0z\" fill=\"none\"/>\n",
              "    <path d=\"M18.56 5.44l.94 2.06.94-2.06 2.06-.94-2.06-.94-.94-2.06-.94 2.06-2.06.94zm-11 1L8.5 8.5l.94-2.06 2.06-.94-2.06-.94L8.5 2.5l-.94 2.06-2.06.94zm10 10l.94 2.06.94-2.06 2.06-.94-2.06-.94-.94-2.06-.94 2.06-2.06.94z\"/><path d=\"M17.41 7.96l-1.37-1.37c-.4-.4-.92-.59-1.43-.59-.52 0-1.04.2-1.43.59L10.3 9.45l-7.72 7.72c-.78.78-.78 2.05 0 2.83L4 21.41c.39.39.9.59 1.41.59.51 0 1.02-.2 1.41-.59l7.78-7.78 2.81-2.81c.8-.78.8-2.07 0-2.86zM5.41 20L4 18.59l7.72-7.72 1.47 1.35L5.41 20z\"/>\n",
              "  </svg>\n",
              "      </button>\n",
              "      \n",
              "  <style>\n",
              "    .colab-df-container {\n",
              "      display:flex;\n",
              "      flex-wrap:wrap;\n",
              "      gap: 12px;\n",
              "    }\n",
              "\n",
              "    .colab-df-convert {\n",
              "      background-color: #E8F0FE;\n",
              "      border: none;\n",
              "      border-radius: 50%;\n",
              "      cursor: pointer;\n",
              "      display: none;\n",
              "      fill: #1967D2;\n",
              "      height: 32px;\n",
              "      padding: 0 0 0 0;\n",
              "      width: 32px;\n",
              "    }\n",
              "\n",
              "    .colab-df-convert:hover {\n",
              "      background-color: #E2EBFA;\n",
              "      box-shadow: 0px 1px 2px rgba(60, 64, 67, 0.3), 0px 1px 3px 1px rgba(60, 64, 67, 0.15);\n",
              "      fill: #174EA6;\n",
              "    }\n",
              "\n",
              "    [theme=dark] .colab-df-convert {\n",
              "      background-color: #3B4455;\n",
              "      fill: #D2E3FC;\n",
              "    }\n",
              "\n",
              "    [theme=dark] .colab-df-convert:hover {\n",
              "      background-color: #434B5C;\n",
              "      box-shadow: 0px 1px 3px 1px rgba(0, 0, 0, 0.15);\n",
              "      filter: drop-shadow(0px 1px 2px rgba(0, 0, 0, 0.3));\n",
              "      fill: #FFFFFF;\n",
              "    }\n",
              "  </style>\n",
              "\n",
              "      <script>\n",
              "        const buttonEl =\n",
              "          document.querySelector('#df-2d28b0c0-0d59-4ba6-9641-70ff1b87401b button.colab-df-convert');\n",
              "        buttonEl.style.display =\n",
              "          google.colab.kernel.accessAllowed ? 'block' : 'none';\n",
              "\n",
              "        async function convertToInteractive(key) {\n",
              "          const element = document.querySelector('#df-2d28b0c0-0d59-4ba6-9641-70ff1b87401b');\n",
              "          const dataTable =\n",
              "            await google.colab.kernel.invokeFunction('convertToInteractive',\n",
              "                                                     [key], {});\n",
              "          if (!dataTable) return;\n",
              "\n",
              "          const docLinkHtml = 'Like what you see? Visit the ' +\n",
              "            '<a target=\"_blank\" href=https://colab.research.google.com/notebooks/data_table.ipynb>data table notebook</a>'\n",
              "            + ' to learn more about interactive tables.';\n",
              "          element.innerHTML = '';\n",
              "          dataTable['output_type'] = 'display_data';\n",
              "          await google.colab.output.renderOutput(dataTable, element);\n",
              "          const docLink = document.createElement('div');\n",
              "          docLink.innerHTML = docLinkHtml;\n",
              "          element.appendChild(docLink);\n",
              "        }\n",
              "      </script>\n",
              "    </div>\n",
              "  </div>\n",
              "  "
            ]
          },
          "metadata": {},
          "execution_count": 8
        }
      ],
      "source": [
        "wine1.describe()"
      ]
    },
    {
      "cell_type": "markdown",
      "metadata": {
        "id": "tHHQMIFJYapt"
      },
      "source": [
        "### Checking for the null values and teh data types"
      ]
    },
    {
      "cell_type": "code",
      "execution_count": 9,
      "metadata": {
        "colab": {
          "base_uri": "https://localhost:8080/"
        },
        "id": "2ZaHxP6VYapt",
        "outputId": "0f2700a3-0ad7-4b98-e6c7-01f8fc7cbcd2"
      },
      "outputs": [
        {
          "output_type": "stream",
          "name": "stdout",
          "text": [
            "<class 'pandas.core.frame.DataFrame'>\n",
            "RangeIndex: 178 entries, 0 to 177\n",
            "Data columns (total 13 columns):\n",
            " #   Column           Non-Null Count  Dtype  \n",
            "---  ------           --------------  -----  \n",
            " 0   Alcohol          178 non-null    float64\n",
            " 1   Malic            178 non-null    float64\n",
            " 2   Ash              178 non-null    float64\n",
            " 3   Alcalinity       178 non-null    float64\n",
            " 4   Magnesium        178 non-null    int64  \n",
            " 5   Phenols          178 non-null    float64\n",
            " 6   Flavanoids       178 non-null    float64\n",
            " 7   Nonflavanoids    178 non-null    float64\n",
            " 8   Proanthocyanins  178 non-null    float64\n",
            " 9   Color            178 non-null    float64\n",
            " 10  Hue              178 non-null    float64\n",
            " 11  Dilution         178 non-null    float64\n",
            " 12  Proline          178 non-null    int64  \n",
            "dtypes: float64(11), int64(2)\n",
            "memory usage: 18.2 KB\n"
          ]
        }
      ],
      "source": [
        "wine1.info()"
      ]
    },
    {
      "cell_type": "markdown",
      "metadata": {
        "id": "DfGY6HhoYapu"
      },
      "source": [
        "### Checking for duplicate values "
      ]
    },
    {
      "cell_type": "code",
      "execution_count": 10,
      "metadata": {
        "colab": {
          "base_uri": "https://localhost:8080/",
          "height": 113
        },
        "id": "WrVVFjqaYapu",
        "outputId": "ea12a862-12e3-4f6b-ea6f-595ac612926d"
      },
      "outputs": [
        {
          "output_type": "execute_result",
          "data": {
            "text/plain": [
              "Empty DataFrame\n",
              "Columns: [Alcohol, Malic, Ash, Alcalinity, Magnesium, Phenols, Flavanoids, Nonflavanoids, Proanthocyanins, Color, Hue, Dilution, Proline]\n",
              "Index: []"
            ],
            "text/html": [
              "\n",
              "  <div id=\"df-99006c08-69d0-4a1b-b619-9d33620aa8bb\">\n",
              "    <div class=\"colab-df-container\">\n",
              "      <div>\n",
              "<style scoped>\n",
              "    .dataframe tbody tr th:only-of-type {\n",
              "        vertical-align: middle;\n",
              "    }\n",
              "\n",
              "    .dataframe tbody tr th {\n",
              "        vertical-align: top;\n",
              "    }\n",
              "\n",
              "    .dataframe thead th {\n",
              "        text-align: right;\n",
              "    }\n",
              "</style>\n",
              "<table border=\"1\" class=\"dataframe\">\n",
              "  <thead>\n",
              "    <tr style=\"text-align: right;\">\n",
              "      <th></th>\n",
              "      <th>Alcohol</th>\n",
              "      <th>Malic</th>\n",
              "      <th>Ash</th>\n",
              "      <th>Alcalinity</th>\n",
              "      <th>Magnesium</th>\n",
              "      <th>Phenols</th>\n",
              "      <th>Flavanoids</th>\n",
              "      <th>Nonflavanoids</th>\n",
              "      <th>Proanthocyanins</th>\n",
              "      <th>Color</th>\n",
              "      <th>Hue</th>\n",
              "      <th>Dilution</th>\n",
              "      <th>Proline</th>\n",
              "    </tr>\n",
              "  </thead>\n",
              "  <tbody>\n",
              "  </tbody>\n",
              "</table>\n",
              "</div>\n",
              "      <button class=\"colab-df-convert\" onclick=\"convertToInteractive('df-99006c08-69d0-4a1b-b619-9d33620aa8bb')\"\n",
              "              title=\"Convert this dataframe to an interactive table.\"\n",
              "              style=\"display:none;\">\n",
              "        \n",
              "  <svg xmlns=\"http://www.w3.org/2000/svg\" height=\"24px\"viewBox=\"0 0 24 24\"\n",
              "       width=\"24px\">\n",
              "    <path d=\"M0 0h24v24H0V0z\" fill=\"none\"/>\n",
              "    <path d=\"M18.56 5.44l.94 2.06.94-2.06 2.06-.94-2.06-.94-.94-2.06-.94 2.06-2.06.94zm-11 1L8.5 8.5l.94-2.06 2.06-.94-2.06-.94L8.5 2.5l-.94 2.06-2.06.94zm10 10l.94 2.06.94-2.06 2.06-.94-2.06-.94-.94-2.06-.94 2.06-2.06.94z\"/><path d=\"M17.41 7.96l-1.37-1.37c-.4-.4-.92-.59-1.43-.59-.52 0-1.04.2-1.43.59L10.3 9.45l-7.72 7.72c-.78.78-.78 2.05 0 2.83L4 21.41c.39.39.9.59 1.41.59.51 0 1.02-.2 1.41-.59l7.78-7.78 2.81-2.81c.8-.78.8-2.07 0-2.86zM5.41 20L4 18.59l7.72-7.72 1.47 1.35L5.41 20z\"/>\n",
              "  </svg>\n",
              "      </button>\n",
              "      \n",
              "  <style>\n",
              "    .colab-df-container {\n",
              "      display:flex;\n",
              "      flex-wrap:wrap;\n",
              "      gap: 12px;\n",
              "    }\n",
              "\n",
              "    .colab-df-convert {\n",
              "      background-color: #E8F0FE;\n",
              "      border: none;\n",
              "      border-radius: 50%;\n",
              "      cursor: pointer;\n",
              "      display: none;\n",
              "      fill: #1967D2;\n",
              "      height: 32px;\n",
              "      padding: 0 0 0 0;\n",
              "      width: 32px;\n",
              "    }\n",
              "\n",
              "    .colab-df-convert:hover {\n",
              "      background-color: #E2EBFA;\n",
              "      box-shadow: 0px 1px 2px rgba(60, 64, 67, 0.3), 0px 1px 3px 1px rgba(60, 64, 67, 0.15);\n",
              "      fill: #174EA6;\n",
              "    }\n",
              "\n",
              "    [theme=dark] .colab-df-convert {\n",
              "      background-color: #3B4455;\n",
              "      fill: #D2E3FC;\n",
              "    }\n",
              "\n",
              "    [theme=dark] .colab-df-convert:hover {\n",
              "      background-color: #434B5C;\n",
              "      box-shadow: 0px 1px 3px 1px rgba(0, 0, 0, 0.15);\n",
              "      filter: drop-shadow(0px 1px 2px rgba(0, 0, 0, 0.3));\n",
              "      fill: #FFFFFF;\n",
              "    }\n",
              "  </style>\n",
              "\n",
              "      <script>\n",
              "        const buttonEl =\n",
              "          document.querySelector('#df-99006c08-69d0-4a1b-b619-9d33620aa8bb button.colab-df-convert');\n",
              "        buttonEl.style.display =\n",
              "          google.colab.kernel.accessAllowed ? 'block' : 'none';\n",
              "\n",
              "        async function convertToInteractive(key) {\n",
              "          const element = document.querySelector('#df-99006c08-69d0-4a1b-b619-9d33620aa8bb');\n",
              "          const dataTable =\n",
              "            await google.colab.kernel.invokeFunction('convertToInteractive',\n",
              "                                                     [key], {});\n",
              "          if (!dataTable) return;\n",
              "\n",
              "          const docLinkHtml = 'Like what you see? Visit the ' +\n",
              "            '<a target=\"_blank\" href=https://colab.research.google.com/notebooks/data_table.ipynb>data table notebook</a>'\n",
              "            + ' to learn more about interactive tables.';\n",
              "          element.innerHTML = '';\n",
              "          dataTable['output_type'] = 'display_data';\n",
              "          await google.colab.output.renderOutput(dataTable, element);\n",
              "          const docLink = document.createElement('div');\n",
              "          docLink.innerHTML = docLinkHtml;\n",
              "          element.appendChild(docLink);\n",
              "        }\n",
              "      </script>\n",
              "    </div>\n",
              "  </div>\n",
              "  "
            ]
          },
          "metadata": {},
          "execution_count": 10
        }
      ],
      "source": [
        "wine1[wine1.duplicated(keep = False)]"
      ]
    },
    {
      "cell_type": "markdown",
      "metadata": {
        "id": "iXC8ldC3Yapv"
      },
      "source": [
        "**There is no duplicate value present inside the data**"
      ]
    },
    {
      "cell_type": "markdown",
      "metadata": {
        "id": "60tPDJtEYapv"
      },
      "source": [
        "### Checking for the outliers in the dataset using Boxplot"
      ]
    },
    {
      "cell_type": "code",
      "execution_count": 11,
      "metadata": {
        "colab": {
          "base_uri": "https://localhost:8080/",
          "height": 392
        },
        "id": "qmYcJ2TEYapv",
        "outputId": "beb73b75-4fe9-4a56-b651-9401651e7c8a"
      },
      "outputs": [
        {
          "output_type": "display_data",
          "data": {
            "text/plain": [
              "<Figure size 1080x504 with 15 Axes>"
            ],
            "image/png": "[encoded data removed]"
          },
          "metadata": {
            "needs_background": "light"
          }
        }
      ],
      "source": [
        "fig, ax = plt.subplots(5, 3, figsize=(15,7))\n",
        "sns.boxplot(wine1.Alcohol,ax=ax[0,0])\n",
        "sns.boxplot(wine1.Malic,ax=ax[0,1])\n",
        "sns.boxplot(wine1.Ash,ax=ax[0,2])\n",
        "sns.boxplot(wine1.Alcalinity,ax=ax[1,0])\n",
        "sns.boxplot(wine1.Magnesium,ax=ax[1,1])\n",
        "sns.boxplot(wine1.Phenols,ax=ax[1,2])\n",
        "sns.boxplot(wine1.Flavanoids,ax=ax[2,0])\n",
        "sns.boxplot(wine1.Nonflavanoids,ax=ax[2,1])\n",
        "sns.boxplot(wine1.Proanthocyanins,ax=ax[2,2])\n",
        "sns.boxplot(wine1.Color,ax=ax[3,0])\n",
        "sns.boxplot(wine1.Hue,ax=ax[3,1])\n",
        "sns.boxplot(wine1.Dilution,ax=ax[3,2])\n",
        "sns.boxplot(wine1.Proline, ax=ax[4,0])\n",
        "plt.tight_layout()\n",
        "plt.show()"
      ]
    },
    {
      "cell_type": "markdown",
      "metadata": {
        "id": "UN8AOAGRYapw"
      },
      "source": [
        "### Cheking if the data is normally distributed using distplot"
      ]
    },
    {
      "cell_type": "code",
      "execution_count": 12,
      "metadata": {
        "colab": {
          "base_uri": "https://localhost:8080/",
          "height": 392
        },
        "id": "8hj3_k9MYapx",
        "outputId": "8dc8d01f-5f03-4aac-fcff-b3232f03fb9b"
      },
      "outputs": [
        {
          "output_type": "display_data",
          "data": {
            "text/plain": [
              "<Figure size 1080x504 with 15 Axes>"
            ],
            "image/png": "[encoded data removed]"
          },
          "metadata": {
            "needs_background": "light"
          }
        }
      ],
      "source": [
        "fig, ax = plt.subplots(5, 3, figsize=(15,7))\n",
        "sns.distplot(wine1.Alcohol,ax=ax[0,0],color='g')\n",
        "sns.distplot(wine1.Malic,ax=ax[0,1],color='g')\n",
        "sns.distplot(wine1.Ash,ax=ax[0,2],color='g')\n",
        "sns.distplot(wine1.Alcalinity,ax=ax[1,0],color='g')\n",
        "sns.distplot(wine1.Magnesium,ax=ax[1,1],color='g')\n",
        "sns.distplot(wine1.Phenols,ax=ax[1,2],color='g')\n",
        "sns.distplot(wine1.Flavanoids,ax=ax[2,0],color='g')\n",
        "sns.distplot(wine1.Nonflavanoids,ax=ax[2,1])\n",
        "sns.distplot(wine1.Proanthocyanins,ax=ax[2,2])\n",
        "sns.distplot(wine1.Color,ax=ax[3,0])\n",
        "sns.distplot(wine1.Hue,ax=ax[3,1])\n",
        "sns.distplot(wine1.Dilution,ax=ax[3,2])\n",
        "sns.distplot(wine1.Proline,ax=ax[4,0])\n",
        "plt.tight_layout()\n",
        "plt.show()"
      ]
    },
    {
      "cell_type": "markdown",
      "metadata": {
        "id": "hLf5vfAuYapx"
      },
      "source": [
        "### Normalizing the numerical data before clustering, to avoid variance in the data"
      ]
    },
    {
      "cell_type": "code",
      "execution_count": 13,
      "metadata": {
        "id": "-sopBU7KYapy"
      },
      "outputs": [],
      "source": [
        "wine1_normal = scale(wine1)"
      ]
    },
    {
      "cell_type": "code",
      "execution_count": 14,
      "metadata": {
        "colab": {
          "base_uri": "https://localhost:8080/"
        },
        "id": "gYaVHgdfYapy",
        "outputId": "c95a407c-de11-421d-eab5-94bb405c9216"
      },
      "outputs": [
        {
          "output_type": "execute_result",
          "data": {
            "text/plain": [
              "array([[ 1.51861254, -0.5622498 ,  0.23205254, ...,  0.36217728,\n",
              "         1.84791957,  1.01300893],\n",
              "       [ 0.24628963, -0.49941338, -0.82799632, ...,  0.40605066,\n",
              "         1.1134493 ,  0.96524152],\n",
              "       [ 0.19687903,  0.02123125,  1.10933436, ...,  0.31830389,\n",
              "         0.78858745,  1.39514818],\n",
              "       ...,\n",
              "       [ 0.33275817,  1.74474449, -0.38935541, ..., -1.61212515,\n",
              "        -1.48544548,  0.28057537],\n",
              "       [ 0.20923168,  0.22769377,  0.01273209, ..., -1.56825176,\n",
              "        -1.40069891,  0.29649784],\n",
              "       [ 1.39508604,  1.58316512,  1.36520822, ..., -1.52437837,\n",
              "        -1.42894777, -0.59516041]])"
            ]
          },
          "metadata": {},
          "execution_count": 14
        }
      ],
      "source": [
        "wine1_normal"
      ]
    },
    {
      "cell_type": "markdown",
      "metadata": {
        "id": "Pgnl7vl4Yapz"
      },
      "source": [
        "### We will first apply different type of clustering methods on the dataset without performing PCA and see the inference regarding clustering"
      ]
    },
    {
      "cell_type": "markdown",
      "metadata": {
        "id": "o8l4fwQpYapz"
      },
      "source": [
        "## Initially, creating a hierarchical cluster using different types of linkage method"
      ]
    },
    {
      "cell_type": "markdown",
      "metadata": {
        "id": "3VptN0V-Yapz"
      },
      "source": [
        "### Applying average linkage method"
      ]
    },
    {
      "cell_type": "code",
      "execution_count": 15,
      "metadata": {
        "colab": {
          "base_uri": "https://localhost:8080/",
          "height": 558
        },
        "id": "LTipCxa7Yapz",
        "outputId": "093d27c3-ef8b-4384-defe-8da8b4f67123"
      },
      "outputs": [
        {
          "output_type": "execute_result",
          "data": {
            "text/plain": [
              "Text(0.5, 1.0, 'Dendrogram')"
            ]
          },
          "metadata": {},
          "execution_count": 15
        },
        {
          "output_type": "display_data",
          "data": {
            "text/plain": [
              "<Figure size 1152x720 with 1 Axes>"
            ],
            "image/png": "[encoded data removed]"
          },
          "metadata": {
            "needs_background": "light"
          }
        }
      ],
      "source": [
        "fig=plt.figure(figsize=(16,10))\n",
        "dendrogram = sch.dendrogram(sch.linkage(wine1_normal, method='average'))\n",
        "plt.title(\"Dendrogram\",size=15)"
      ]
    },
    {
      "cell_type": "code",
      "execution_count": 16,
      "metadata": {
        "id": "slE36lJYYap0"
      },
      "outputs": [],
      "source": [
        "hc1 = AgglomerativeClustering(n_clusters=5, affinity = 'euclidean', linkage = 'average')"
      ]
    },
    {
      "cell_type": "markdown",
      "metadata": {
        "id": "f-kZKiE7Yap0"
      },
      "source": [
        "### Fitting the data on the hierarchial model that is created "
      ]
    },
    {
      "cell_type": "code",
      "execution_count": 17,
      "metadata": {
        "id": "qDl_hKSKYap0"
      },
      "outputs": [],
      "source": [
        "y_hc1 = hc1.fit_predict(wine1_normal)\n",
        "Clusters=pd.DataFrame(y_hc1,columns=['Clusters'])"
      ]
    },
    {
      "cell_type": "markdown",
      "metadata": {
        "id": "FKJbsSSfYap1"
      },
      "source": [
        "### Creating a cluster column in the dataset, that has categorised the data using hierrachial clustering"
      ]
    },
    {
      "cell_type": "code",
      "execution_count": 18,
      "metadata": {
        "id": "7_xg9gfzYap1"
      },
      "outputs": [],
      "source": [
        "wine['cluster'] = y_hc1"
      ]
    },
    {
      "cell_type": "code",
      "execution_count": 19,
      "metadata": {
        "colab": {
          "base_uri": "https://localhost:8080/",
          "height": 301
        },
        "id": "ZKkkbUEBYap2",
        "outputId": "ef299da9-f54c-4df9-9136-88ac0e397dbe"
      },
      "outputs": [
        {
          "output_type": "execute_result",
          "data": {
            "text/plain": [
              "  cluster      Type    Alcohol     Malic       Ash Alcalinity   Magnesium  \\\n",
              "               mean       mean      mean      mean       mean        mean   \n",
              "0       0  1.500000  13.003879  1.996207  2.343017  18.665517   97.612069   \n",
              "1       1  2.888889  13.090185  3.181111  2.414815  21.087037   99.592593   \n",
              "2       2  1.666667  12.533333  1.923333  3.016667  27.833333  127.333333   \n",
              "3       3  2.000000  12.370000  0.940000  1.360000  10.600000   88.000000   \n",
              "4       4  2.000000  12.205000  1.455000  2.160000  18.025000  145.750000   \n",
              "\n",
              "    Phenols Flavanoids Nonflavanoids Proanthocyanins    Color       Hue  \\\n",
              "       mean       mean          mean            mean     mean      mean   \n",
              "0  2.568448   2.572069      0.322672        1.776379  4.27931  1.058879   \n",
              "1  1.697222   0.837778      0.455556        1.126852  6.99463  0.717148   \n",
              "2  3.036667   3.550000      0.383333        1.916667  4.31000  1.123333   \n",
              "3  1.980000   0.570000      0.280000        0.420000  1.95000  1.050000   \n",
              "4  1.962500   1.597500      0.237500        2.525000  2.83750  1.112500   \n",
              "\n",
              "   Dilution     Proline  \n",
              "       mean        mean  \n",
              "0  3.017672  802.732759  \n",
              "1  1.710185  629.629630  \n",
              "2  3.463333  760.000000  \n",
              "3  1.820000  520.000000  \n",
              "4  2.567500  757.500000  "
            ],
            "text/html": [
              "\n",
              "  <div id=\"df-50215bbe-47d8-495a-aa68-142ddfb404ae\">\n",
              "    <div class=\"colab-df-container\">\n",
              "      <div>\n",
              "<style scoped>\n",
              "    .dataframe tbody tr th:only-of-type {\n",
              "        vertical-align: middle;\n",
              "    }\n",
              "\n",
              "    .dataframe tbody tr th {\n",
              "        vertical-align: top;\n",
              "    }\n",
              "\n",
              "    .dataframe thead tr th {\n",
              "        text-align: left;\n",
              "    }\n",
              "</style>\n",
              "<table border=\"1\" class=\"dataframe\">\n",
              "  <thead>\n",
              "    <tr>\n",
              "      <th></th>\n",
              "      <th>cluster</th>\n",
              "      <th>Type</th>\n",
              "      <th>Alcohol</th>\n",
              "      <th>Malic</th>\n",
              "      <th>Ash</th>\n",
              "      <th>Alcalinity</th>\n",
              "      <th>Magnesium</th>\n",
              "      <th>Phenols</th>\n",
              "      <th>Flavanoids</th>\n",
              "      <th>Nonflavanoids</th>\n",
              "      <th>Proanthocyanins</th>\n",
              "      <th>Color</th>\n",
              "      <th>Hue</th>\n",
              "      <th>Dilution</th>\n",
              "      <th>Proline</th>\n",
              "    </tr>\n",
              "    <tr>\n",
              "      <th></th>\n",
              "      <th></th>\n",
              "      <th>mean</th>\n",
              "      <th>mean</th>\n",
              "      <th>mean</th>\n",
              "      <th>mean</th>\n",
              "      <th>mean</th>\n",
              "      <th>mean</th>\n",
              "      <th>mean</th>\n",
              "      <th>mean</th>\n",
              "      <th>mean</th>\n",
              "      <th>mean</th>\n",
              "      <th>mean</th>\n",
              "      <th>mean</th>\n",
              "      <th>mean</th>\n",
              "      <th>mean</th>\n",
              "    </tr>\n",
              "  </thead>\n",
              "  <tbody>\n",
              "    <tr>\n",
              "      <th>0</th>\n",
              "      <td>0</td>\n",
              "      <td>1.500000</td>\n",
              "      <td>13.003879</td>\n",
              "      <td>1.996207</td>\n",
              "      <td>2.343017</td>\n",
              "      <td>18.665517</td>\n",
              "      <td>97.612069</td>\n",
              "      <td>2.568448</td>\n",
              "      <td>2.572069</td>\n",
              "      <td>0.322672</td>\n",
              "      <td>1.776379</td>\n",
              "      <td>4.27931</td>\n",
              "      <td>1.058879</td>\n",
              "      <td>3.017672</td>\n",
              "      <td>802.732759</td>\n",
              "    </tr>\n",
              "    <tr>\n",
              "      <th>1</th>\n",
              "      <td>1</td>\n",
              "      <td>2.888889</td>\n",
              "      <td>13.090185</td>\n",
              "      <td>3.181111</td>\n",
              "      <td>2.414815</td>\n",
              "      <td>21.087037</td>\n",
              "      <td>99.592593</td>\n",
              "      <td>1.697222</td>\n",
              "      <td>0.837778</td>\n",
              "      <td>0.455556</td>\n",
              "      <td>1.126852</td>\n",
              "      <td>6.99463</td>\n",
              "      <td>0.717148</td>\n",
              "      <td>1.710185</td>\n",
              "      <td>629.629630</td>\n",
              "    </tr>\n",
              "    <tr>\n",
              "      <th>2</th>\n",
              "      <td>2</td>\n",
              "      <td>1.666667</td>\n",
              "      <td>12.533333</td>\n",
              "      <td>1.923333</td>\n",
              "      <td>3.016667</td>\n",
              "      <td>27.833333</td>\n",
              "      <td>127.333333</td>\n",
              "      <td>3.036667</td>\n",
              "      <td>3.550000</td>\n",
              "      <td>0.383333</td>\n",
              "      <td>1.916667</td>\n",
              "      <td>4.31000</td>\n",
              "      <td>1.123333</td>\n",
              "      <td>3.463333</td>\n",
              "      <td>760.000000</td>\n",
              "    </tr>\n",
              "    <tr>\n",
              "      <th>3</th>\n",
              "      <td>3</td>\n",
              "      <td>2.000000</td>\n",
              "      <td>12.370000</td>\n",
              "      <td>0.940000</td>\n",
              "      <td>1.360000</td>\n",
              "      <td>10.600000</td>\n",
              "      <td>88.000000</td>\n",
              "      <td>1.980000</td>\n",
              "      <td>0.570000</td>\n",
              "      <td>0.280000</td>\n",
              "      <td>0.420000</td>\n",
              "      <td>1.95000</td>\n",
              "      <td>1.050000</td>\n",
              "      <td>1.820000</td>\n",
              "      <td>520.000000</td>\n",
              "    </tr>\n",
              "    <tr>\n",
              "      <th>4</th>\n",
              "      <td>4</td>\n",
              "      <td>2.000000</td>\n",
              "      <td>12.205000</td>\n",
              "      <td>1.455000</td>\n",
              "      <td>2.160000</td>\n",
              "      <td>18.025000</td>\n",
              "      <td>145.750000</td>\n",
              "      <td>1.962500</td>\n",
              "      <td>1.597500</td>\n",
              "      <td>0.237500</td>\n",
              "      <td>2.525000</td>\n",
              "      <td>2.83750</td>\n",
              "      <td>1.112500</td>\n",
              "      <td>2.567500</td>\n",
              "      <td>757.500000</td>\n",
              "    </tr>\n",
              "  </tbody>\n",
              "</table>\n",
              "</div>\n",
              "      <button class=\"colab-df-convert\" onclick=\"convertToInteractive('df-50215bbe-47d8-495a-aa68-142ddfb404ae')\"\n",
              "              title=\"Convert this dataframe to an interactive table.\"\n",
              "              style=\"display:none;\">\n",
              "        \n",
              "  <svg xmlns=\"http://www.w3.org/2000/svg\" height=\"24px\"viewBox=\"0 0 24 24\"\n",
              "       width=\"24px\">\n",
              "    <path d=\"M0 0h24v24H0V0z\" fill=\"none\"/>\n",
              "    <path d=\"M18.56 5.44l.94 2.06.94-2.06 2.06-.94-2.06-.94-.94-2.06-.94 2.06-2.06.94zm-11 1L8.5 8.5l.94-2.06 2.06-.94-2.06-.94L8.5 2.5l-.94 2.06-2.06.94zm10 10l.94 2.06.94-2.06 2.06-.94-2.06-.94-.94-2.06-.94 2.06-2.06.94z\"/><path d=\"M17.41 7.96l-1.37-1.37c-.4-.4-.92-.59-1.43-.59-.52 0-1.04.2-1.43.59L10.3 9.45l-7.72 7.72c-.78.78-.78 2.05 0 2.83L4 21.41c.39.39.9.59 1.41.59.51 0 1.02-.2 1.41-.59l7.78-7.78 2.81-2.81c.8-.78.8-2.07 0-2.86zM5.41 20L4 18.59l7.72-7.72 1.47 1.35L5.41 20z\"/>\n",
              "  </svg>\n",
              "      </button>\n",
              "      \n",
              "  <style>\n",
              "    .colab-df-container {\n",
              "      display:flex;\n",
              "      flex-wrap:wrap;\n",
              "      gap: 12px;\n",
              "    }\n",
              "\n",
              "    .colab-df-convert {\n",
              "      background-color: #E8F0FE;\n",
              "      border: none;\n",
              "      border-radius: 50%;\n",
              "      cursor: pointer;\n",
              "      display: none;\n",
              "      fill: #1967D2;\n",
              "      height: 32px;\n",
              "      padding: 0 0 0 0;\n",
              "      width: 32px;\n",
              "    }\n",
              "\n",
              "    .colab-df-convert:hover {\n",
              "      background-color: #E2EBFA;\n",
              "      box-shadow: 0px 1px 2px rgba(60, 64, 67, 0.3), 0px 1px 3px 1px rgba(60, 64, 67, 0.15);\n",
              "      fill: #174EA6;\n",
              "    }\n",
              "\n",
              "    [theme=dark] .colab-df-convert {\n",
              "      background-color: #3B4455;\n",
              "      fill: #D2E3FC;\n",
              "    }\n",
              "\n",
              "    [theme=dark] .colab-df-convert:hover {\n",
              "      background-color: #434B5C;\n",
              "      box-shadow: 0px 1px 3px 1px rgba(0, 0, 0, 0.15);\n",
              "      filter: drop-shadow(0px 1px 2px rgba(0, 0, 0, 0.3));\n",
              "      fill: #FFFFFF;\n",
              "    }\n",
              "  </style>\n",
              "\n",
              "      <script>\n",
              "        const buttonEl =\n",
              "          document.querySelector('#df-50215bbe-47d8-495a-aa68-142ddfb404ae button.colab-df-convert');\n",
              "        buttonEl.style.display =\n",
              "          google.colab.kernel.accessAllowed ? 'block' : 'none';\n",
              "\n",
              "        async function convertToInteractive(key) {\n",
              "          const element = document.querySelector('#df-50215bbe-47d8-495a-aa68-142ddfb404ae');\n",
              "          const dataTable =\n",
              "            await google.colab.kernel.invokeFunction('convertToInteractive',\n",
              "                                                     [key], {});\n",
              "          if (!dataTable) return;\n",
              "\n",
              "          const docLinkHtml = 'Like what you see? Visit the ' +\n",
              "            '<a target=\"_blank\" href=https://colab.research.google.com/notebooks/data_table.ipynb>data table notebook</a>'\n",
              "            + ' to learn more about interactive tables.';\n",
              "          element.innerHTML = '';\n",
              "          dataTable['output_type'] = 'display_data';\n",
              "          await google.colab.output.renderOutput(dataTable, element);\n",
              "          const docLink = document.createElement('div');\n",
              "          docLink.innerHTML = docLinkHtml;\n",
              "          element.appendChild(docLink);\n",
              "        }\n",
              "      </script>\n",
              "    </div>\n",
              "  </div>\n",
              "  "
            ]
          },
          "metadata": {},
          "execution_count": 19
        }
      ],
      "source": [
        "wine.groupby('cluster').agg(['mean']).reset_index()"
      ]
    },
    {
      "cell_type": "markdown",
      "metadata": {
        "id": "lz7nxQbvYap2"
      },
      "source": [
        "### Viewing how many wine categories are included in each cluster "
      ]
    },
    {
      "cell_type": "code",
      "execution_count": 20,
      "metadata": {
        "colab": {
          "base_uri": "https://localhost:8080/"
        },
        "id": "FzQl2XDbYap2",
        "outputId": "47fe1f5d-3cd4-4fcb-ebd4-2475a3054cc9"
      },
      "outputs": [
        {
          "output_type": "stream",
          "name": "stdout",
          "text": [
            "cluster 0\n",
            "Total Members: 116\n",
            "\n",
            "cluster 1\n",
            "Total Members: 54\n",
            "\n",
            "cluster 2\n",
            "Total Members: 3\n",
            "\n",
            "cluster 3\n",
            "Total Members: 1\n",
            "\n",
            "cluster 4\n",
            "Total Members: 4\n",
            "\n"
          ]
        }
      ],
      "source": [
        "for i in range(5):\n",
        "    print(\"cluster\", i)\n",
        "    print(\"Total Members:\", len(list(wine[wine['cluster'] == i]['Type'].values)))\n",
        "    print()"
      ]
    },
    {
      "cell_type": "markdown",
      "metadata": {
        "id": "fZqwXnQNYap3"
      },
      "source": [
        "### Applying complete linakge method, in hierrachial clustering"
      ]
    },
    {
      "cell_type": "code",
      "execution_count": 21,
      "metadata": {
        "colab": {
          "base_uri": "https://localhost:8080/",
          "height": 555
        },
        "id": "s9j3EmGtYap3",
        "outputId": "90b8befc-24be-42d9-95f0-faabce64e7db"
      },
      "outputs": [
        {
          "output_type": "execute_result",
          "data": {
            "text/plain": [
              "Text(0.5, 1.0, 'Dendrogram')"
            ]
          },
          "metadata": {},
          "execution_count": 21
        },
        {
          "output_type": "display_data",
          "data": {
            "text/plain": [
              "<Figure size 1152x720 with 1 Axes>"
            ],
            "image/png": "[encoded data removed]"
          },
          "metadata": {
            "needs_background": "light"
          }
        }
      ],
      "source": [
        "fig=plt.figure(figsize=(16,10))\n",
        "dendrogram = sch.dendrogram(sch.linkage(wine1_normal, method='complete'))\n",
        "plt.title(\"Dendrogram\",size=15)"
      ]
    },
    {
      "cell_type": "code",
      "execution_count": 22,
      "metadata": {
        "id": "3W_e7PDkYap3"
      },
      "outputs": [],
      "source": [
        "hc2 = AgglomerativeClustering(n_clusters=4, affinity = 'euclidean', linkage = 'complete')"
      ]
    },
    {
      "cell_type": "markdown",
      "metadata": {
        "id": "F_uCaBv0Yap4"
      },
      "source": [
        "### Fitting the data on the clustering model"
      ]
    },
    {
      "cell_type": "code",
      "execution_count": 23,
      "metadata": {
        "id": "tIj6whqGYap4"
      },
      "outputs": [],
      "source": [
        "y_hc2 = hc2.fit_predict(wine1_normal)\n",
        "Clusters=pd.DataFrame(y_hc2,columns=['Clusters'])"
      ]
    },
    {
      "cell_type": "markdown",
      "metadata": {
        "id": "FUJaJiFoYap4"
      },
      "source": [
        "### Creating a new cluster column containing the clustering column, with the second hierarchial model that is created"
      ]
    },
    {
      "cell_type": "code",
      "execution_count": 24,
      "metadata": {
        "id": "fDqy-jwjYap4"
      },
      "outputs": [],
      "source": [
        "wine['cluster'] = y_hc2"
      ]
    },
    {
      "cell_type": "markdown",
      "metadata": {
        "id": "cuROoru9Yap5"
      },
      "source": [
        "### Grouping the clusters and checking their means"
      ]
    },
    {
      "cell_type": "code",
      "execution_count": 25,
      "metadata": {
        "colab": {
          "base_uri": "https://localhost:8080/",
          "height": 270
        },
        "id": "gWUoQB5VYap5",
        "outputId": "645aaa5c-4b69-4489-8860-9e1a9ae85a79"
      },
      "outputs": [
        {
          "output_type": "execute_result",
          "data": {
            "text/plain": [
              "  cluster      Type    Alcohol     Malic       Ash Alcalinity   Magnesium  \\\n",
              "               mean       mean      mean      mean       mean        mean   \n",
              "0       0  1.862069  12.415172  1.989828  2.381379  21.117241   93.844828   \n",
              "1       1  1.105263  13.604211  1.982807  2.360526  16.652632  106.368421   \n",
              "2       2  2.941176  13.117843  3.322157  2.431765  21.333333   99.333333   \n",
              "3       3  2.000000  12.465000  1.500833  2.045833  17.341667   98.500000   \n",
              "\n",
              "    Phenols Flavanoids Nonflavanoids Proanthocyanins     Color       Hue  \\\n",
              "       mean       mean          mean            mean      mean      mean   \n",
              "0  2.424828   2.339828      0.366897        1.678103  3.280345  1.057931   \n",
              "1  2.797719   2.920175      0.274386        2.015088  5.326667  1.051579   \n",
              "2  1.675686   0.810588      0.444314        1.164314  7.170980  0.691373   \n",
              "3  1.913333   1.475833      0.402500        0.967500  3.395000  1.155500   \n",
              "\n",
              "   Dilution      Proline  \n",
              "       mean         mean  \n",
              "0  2.978448   573.379310  \n",
              "1  3.141228  1073.052632  \n",
              "2  1.709804   622.490196  \n",
              "3  2.156667   565.000000  "
            ],
            "text/html": [
              "\n",
              "  <div id=\"df-7d11bf3a-2b52-4ec4-ab08-395993210355\">\n",
              "    <div class=\"colab-df-container\">\n",
              "      <div>\n",
              "<style scoped>\n",
              "    .dataframe tbody tr th:only-of-type {\n",
              "        vertical-align: middle;\n",
              "    }\n",
              "\n",
              "    .dataframe tbody tr th {\n",
              "        vertical-align: top;\n",
              "    }\n",
              "\n",
              "    .dataframe thead tr th {\n",
              "        text-align: left;\n",
              "    }\n",
              "</style>\n",
              "<table border=\"1\" class=\"dataframe\">\n",
              "  <thead>\n",
              "    <tr>\n",
              "      <th></th>\n",
              "      <th>cluster</th>\n",
              "      <th>Type</th>\n",
              "      <th>Alcohol</th>\n",
              "      <th>Malic</th>\n",
              "      <th>Ash</th>\n",
              "      <th>Alcalinity</th>\n",
              "      <th>Magnesium</th>\n",
              "      <th>Phenols</th>\n",
              "      <th>Flavanoids</th>\n",
              "      <th>Nonflavanoids</th>\n",
              "      <th>Proanthocyanins</th>\n",
              "      <th>Color</th>\n",
              "      <th>Hue</th>\n",
              "      <th>Dilution</th>\n",
              "      <th>Proline</th>\n",
              "    </tr>\n",
              "    <tr>\n",
              "      <th></th>\n",
              "      <th></th>\n",
              "      <th>mean</th>\n",
              "      <th>mean</th>\n",
              "      <th>mean</th>\n",
              "      <th>mean</th>\n",
              "      <th>mean</th>\n",
              "      <th>mean</th>\n",
              "      <th>mean</th>\n",
              "      <th>mean</th>\n",
              "      <th>mean</th>\n",
              "      <th>mean</th>\n",
              "      <th>mean</th>\n",
              "      <th>mean</th>\n",
              "      <th>mean</th>\n",
              "      <th>mean</th>\n",
              "    </tr>\n",
              "  </thead>\n",
              "  <tbody>\n",
              "    <tr>\n",
              "      <th>0</th>\n",
              "      <td>0</td>\n",
              "      <td>1.862069</td>\n",
              "      <td>12.415172</td>\n",
              "      <td>1.989828</td>\n",
              "      <td>2.381379</td>\n",
              "      <td>21.117241</td>\n",
              "      <td>93.844828</td>\n",
              "      <td>2.424828</td>\n",
              "      <td>2.339828</td>\n",
              "      <td>0.366897</td>\n",
              "      <td>1.678103</td>\n",
              "      <td>3.280345</td>\n",
              "      <td>1.057931</td>\n",
              "      <td>2.978448</td>\n",
              "      <td>573.379310</td>\n",
              "    </tr>\n",
              "    <tr>\n",
              "      <th>1</th>\n",
              "      <td>1</td>\n",
              "      <td>1.105263</td>\n",
              "      <td>13.604211</td>\n",
              "      <td>1.982807</td>\n",
              "      <td>2.360526</td>\n",
              "      <td>16.652632</td>\n",
              "      <td>106.368421</td>\n",
              "      <td>2.797719</td>\n",
              "      <td>2.920175</td>\n",
              "      <td>0.274386</td>\n",
              "      <td>2.015088</td>\n",
              "      <td>5.326667</td>\n",
              "      <td>1.051579</td>\n",
              "      <td>3.141228</td>\n",
              "      <td>1073.052632</td>\n",
              "    </tr>\n",
              "    <tr>\n",
              "      <th>2</th>\n",
              "      <td>2</td>\n",
              "      <td>2.941176</td>\n",
              "      <td>13.117843</td>\n",
              "      <td>3.322157</td>\n",
              "      <td>2.431765</td>\n",
              "      <td>21.333333</td>\n",
              "      <td>99.333333</td>\n",
              "      <td>1.675686</td>\n",
              "      <td>0.810588</td>\n",
              "      <td>0.444314</td>\n",
              "      <td>1.164314</td>\n",
              "      <td>7.170980</td>\n",
              "      <td>0.691373</td>\n",
              "      <td>1.709804</td>\n",
              "      <td>622.490196</td>\n",
              "    </tr>\n",
              "    <tr>\n",
              "      <th>3</th>\n",
              "      <td>3</td>\n",
              "      <td>2.000000</td>\n",
              "      <td>12.465000</td>\n",
              "      <td>1.500833</td>\n",
              "      <td>2.045833</td>\n",
              "      <td>17.341667</td>\n",
              "      <td>98.500000</td>\n",
              "      <td>1.913333</td>\n",
              "      <td>1.475833</td>\n",
              "      <td>0.402500</td>\n",
              "      <td>0.967500</td>\n",
              "      <td>3.395000</td>\n",
              "      <td>1.155500</td>\n",
              "      <td>2.156667</td>\n",
              "      <td>565.000000</td>\n",
              "    </tr>\n",
              "  </tbody>\n",
              "</table>\n",
              "</div>\n",
              "      <button class=\"colab-df-convert\" onclick=\"convertToInteractive('df-7d11bf3a-2b52-4ec4-ab08-395993210355')\"\n",
              "              title=\"Convert this dataframe to an interactive table.\"\n",
              "              style=\"display:none;\">\n",
              "        \n",
              "  <svg xmlns=\"http://www.w3.org/2000/svg\" height=\"24px\"viewBox=\"0 0 24 24\"\n",
              "       width=\"24px\">\n",
              "    <path d=\"M0 0h24v24H0V0z\" fill=\"none\"/>\n",
              "    <path d=\"M18.56 5.44l.94 2.06.94-2.06 2.06-.94-2.06-.94-.94-2.06-.94 2.06-2.06.94zm-11 1L8.5 8.5l.94-2.06 2.06-.94-2.06-.94L8.5 2.5l-.94 2.06-2.06.94zm10 10l.94 2.06.94-2.06 2.06-.94-2.06-.94-.94-2.06-.94 2.06-2.06.94z\"/><path d=\"M17.41 7.96l-1.37-1.37c-.4-.4-.92-.59-1.43-.59-.52 0-1.04.2-1.43.59L10.3 9.45l-7.72 7.72c-.78.78-.78 2.05 0 2.83L4 21.41c.39.39.9.59 1.41.59.51 0 1.02-.2 1.41-.59l7.78-7.78 2.81-2.81c.8-.78.8-2.07 0-2.86zM5.41 20L4 18.59l7.72-7.72 1.47 1.35L5.41 20z\"/>\n",
              "  </svg>\n",
              "      </button>\n",
              "      \n",
              "  <style>\n",
              "    .colab-df-container {\n",
              "      display:flex;\n",
              "      flex-wrap:wrap;\n",
              "      gap: 12px;\n",
              "    }\n",
              "\n",
              "    .colab-df-convert {\n",
              "      background-color: #E8F0FE;\n",
              "      border: none;\n",
              "      border-radius: 50%;\n",
              "      cursor: pointer;\n",
              "      display: none;\n",
              "      fill: #1967D2;\n",
              "      height: 32px;\n",
              "      padding: 0 0 0 0;\n",
              "      width: 32px;\n",
              "    }\n",
              "\n",
              "    .colab-df-convert:hover {\n",
              "      background-color: #E2EBFA;\n",
              "      box-shadow: 0px 1px 2px rgba(60, 64, 67, 0.3), 0px 1px 3px 1px rgba(60, 64, 67, 0.15);\n",
              "      fill: #174EA6;\n",
              "    }\n",
              "\n",
              "    [theme=dark] .colab-df-convert {\n",
              "      background-color: #3B4455;\n",
              "      fill: #D2E3FC;\n",
              "    }\n",
              "\n",
              "    [theme=dark] .colab-df-convert:hover {\n",
              "      background-color: #434B5C;\n",
              "      box-shadow: 0px 1px 3px 1px rgba(0, 0, 0, 0.15);\n",
              "      filter: drop-shadow(0px 1px 2px rgba(0, 0, 0, 0.3));\n",
              "      fill: #FFFFFF;\n",
              "    }\n",
              "  </style>\n",
              "\n",
              "      <script>\n",
              "        const buttonEl =\n",
              "          document.querySelector('#df-7d11bf3a-2b52-4ec4-ab08-395993210355 button.colab-df-convert');\n",
              "        buttonEl.style.display =\n",
              "          google.colab.kernel.accessAllowed ? 'block' : 'none';\n",
              "\n",
              "        async function convertToInteractive(key) {\n",
              "          const element = document.querySelector('#df-7d11bf3a-2b52-4ec4-ab08-395993210355');\n",
              "          const dataTable =\n",
              "            await google.colab.kernel.invokeFunction('convertToInteractive',\n",
              "                                                     [key], {});\n",
              "          if (!dataTable) return;\n",
              "\n",
              "          const docLinkHtml = 'Like what you see? Visit the ' +\n",
              "            '<a target=\"_blank\" href=https://colab.research.google.com/notebooks/data_table.ipynb>data table notebook</a>'\n",
              "            + ' to learn more about interactive tables.';\n",
              "          element.innerHTML = '';\n",
              "          dataTable['output_type'] = 'display_data';\n",
              "          await google.colab.output.renderOutput(dataTable, element);\n",
              "          const docLink = document.createElement('div');\n",
              "          docLink.innerHTML = docLinkHtml;\n",
              "          element.appendChild(docLink);\n",
              "        }\n",
              "      </script>\n",
              "    </div>\n",
              "  </div>\n",
              "  "
            ]
          },
          "metadata": {},
          "execution_count": 25
        }
      ],
      "source": [
        "wine.groupby('cluster').agg(['mean']).reset_index()"
      ]
    },
    {
      "cell_type": "markdown",
      "metadata": {
        "id": "ZXyy4CtwYap5"
      },
      "source": [
        "### Vieweing the number of wine categories in each cluster"
      ]
    },
    {
      "cell_type": "code",
      "execution_count": 26,
      "metadata": {
        "colab": {
          "base_uri": "https://localhost:8080/"
        },
        "id": "HRL7RzK9Yap6",
        "outputId": "38e2483e-1131-4b14-e270-f3e61175f2bb"
      },
      "outputs": [
        {
          "output_type": "stream",
          "name": "stdout",
          "text": [
            "cluster 0\n",
            "Total Members: 58\n",
            "\n",
            "cluster 1\n",
            "Total Members: 57\n",
            "\n",
            "cluster 2\n",
            "Total Members: 51\n",
            "\n",
            "cluster 3\n",
            "Total Members: 12\n",
            "\n"
          ]
        }
      ],
      "source": [
        "for i in range(4):\n",
        "    print(\"cluster\", i)\n",
        "    print(\"Total Members:\", len(list(wine[wine['cluster'] == i]['Type'].values)))\n",
        "    print()\n"
      ]
    },
    {
      "cell_type": "markdown",
      "metadata": {
        "id": "OsLNrm6tYap6"
      },
      "source": [
        "### Applying centroid (ward) linakge method, in hierarchial clustering"
      ]
    },
    {
      "cell_type": "code",
      "execution_count": 27,
      "metadata": {
        "colab": {
          "base_uri": "https://localhost:8080/",
          "height": 555
        },
        "id": "0kVgsB4zYap6",
        "outputId": "00755242-c676-4955-ed79-84b639e3a4eb"
      },
      "outputs": [
        {
          "output_type": "execute_result",
          "data": {
            "text/plain": [
              "Text(0.5, 1.0, 'Dendrogram')"
            ]
          },
          "metadata": {},
          "execution_count": 27
        },
        {
          "output_type": "display_data",
          "data": {
            "text/plain": [
              "<Figure size 1152x720 with 1 Axes>"
            ],
            "image/png": "[encoded data removed]"
          },
          "metadata": {
            "needs_background": "light"
          }
        }
      ],
      "source": [
        "fig=plt.figure(figsize=(16,10))\n",
        "dendrogram = sch.dendrogram(sch.linkage(wine1_normal, method='ward'))\n",
        "plt.title(\"Dendrogram\",size=15)"
      ]
    },
    {
      "cell_type": "markdown",
      "metadata": {
        "id": "yzLPMZCTYap7"
      },
      "source": [
        "### Creating a hierrachial clustering with just three categories"
      ]
    },
    {
      "cell_type": "code",
      "execution_count": 28,
      "metadata": {
        "id": "HyLDGtAgYap7"
      },
      "outputs": [],
      "source": [
        "hc3 = AgglomerativeClustering(n_clusters=3, affinity = 'euclidean', linkage = 'ward')"
      ]
    },
    {
      "cell_type": "markdown",
      "metadata": {
        "id": "rn_nGNc3Yap7"
      },
      "source": [
        "### Fitting the data on the model"
      ]
    },
    {
      "cell_type": "code",
      "execution_count": 29,
      "metadata": {
        "id": "qLZBp8FUYap7"
      },
      "outputs": [],
      "source": [
        "y_hc3 = hc3.fit_predict(wine1_normal)\n",
        "Clusters=pd.DataFrame(y_hc3,columns=['Clusters'])"
      ]
    },
    {
      "cell_type": "markdown",
      "metadata": {
        "id": "WX8u0vAhYap8"
      },
      "source": [
        "### Creating a new cluster column with new hierarchial clustering categories"
      ]
    },
    {
      "cell_type": "code",
      "execution_count": 30,
      "metadata": {
        "id": "YFKcrQdIYap8"
      },
      "outputs": [],
      "source": [
        "wine['cluster'] = y_hc3"
      ]
    },
    {
      "cell_type": "code",
      "execution_count": 31,
      "metadata": {
        "colab": {
          "base_uri": "https://localhost:8080/",
          "height": 239
        },
        "id": "uj25IGOBYap8",
        "outputId": "a4e74dbe-4767-4dcb-ed64-954ee35cb038"
      },
      "outputs": [
        {
          "output_type": "execute_result",
          "data": {
            "text/plain": [
              "  cluster      Type    Alcohol     Malic       Ash Alcalinity   Magnesium  \\\n",
              "               mean       mean      mean      mean       mean        mean   \n",
              "0       0  2.000000  12.203966  1.938966  2.215172  20.208621   92.551724   \n",
              "1       1  2.857143  13.061607  3.166607  2.412857  21.003571   99.857143   \n",
              "2       2  1.078125  13.669219  1.970000  2.463125  17.528125  106.156250   \n",
              "\n",
              "    Phenols Flavanoids Nonflavanoids Proanthocyanins     Color       Hue  \\\n",
              "       mean       mean          mean            mean      mean      mean   \n",
              "0  2.262931   2.088103      0.355345        1.686552  2.895345  1.060000   \n",
              "1  1.694286   0.847857      0.449464        1.129286  6.850179  0.721000   \n",
              "2  2.850000   3.009688      0.291094        1.908125  5.450000  1.071406   \n",
              "\n",
              "   Dilution      Proline  \n",
              "       mean         mean  \n",
              "0  2.862241   501.431034  \n",
              "1  1.727321   624.946429  \n",
              "2  3.158437  1076.046875  "
            ],
            "text/html": [
              "\n",
              "  <div id=\"df-bcbd190f-c35e-4f6f-abd5-5291de3b14e1\">\n",
              "    <div class=\"colab-df-container\">\n",
              "      <div>\n",
              "<style scoped>\n",
              "    .dataframe tbody tr th:only-of-type {\n",
              "        vertical-align: middle;\n",
              "    }\n",
              "\n",
              "    .dataframe tbody tr th {\n",
              "        vertical-align: top;\n",
              "    }\n",
              "\n",
              "    .dataframe thead tr th {\n",
              "        text-align: left;\n",
              "    }\n",
              "</style>\n",
              "<table border=\"1\" class=\"dataframe\">\n",
              "  <thead>\n",
              "    <tr>\n",
              "      <th></th>\n",
              "      <th>cluster</th>\n",
              "      <th>Type</th>\n",
              "      <th>Alcohol</th>\n",
              "      <th>Malic</th>\n",
              "      <th>Ash</th>\n",
              "      <th>Alcalinity</th>\n",
              "      <th>Magnesium</th>\n",
              "      <th>Phenols</th>\n",
              "      <th>Flavanoids</th>\n",
              "      <th>Nonflavanoids</th>\n",
              "      <th>Proanthocyanins</th>\n",
              "      <th>Color</th>\n",
              "      <th>Hue</th>\n",
              "      <th>Dilution</th>\n",
              "      <th>Proline</th>\n",
              "    </tr>\n",
              "    <tr>\n",
              "      <th></th>\n",
              "      <th></th>\n",
              "      <th>mean</th>\n",
              "      <th>mean</th>\n",
              "      <th>mean</th>\n",
              "      <th>mean</th>\n",
              "      <th>mean</th>\n",
              "      <th>mean</th>\n",
              "      <th>mean</th>\n",
              "      <th>mean</th>\n",
              "      <th>mean</th>\n",
              "      <th>mean</th>\n",
              "      <th>mean</th>\n",
              "      <th>mean</th>\n",
              "      <th>mean</th>\n",
              "      <th>mean</th>\n",
              "    </tr>\n",
              "  </thead>\n",
              "  <tbody>\n",
              "    <tr>\n",
              "      <th>0</th>\n",
              "      <td>0</td>\n",
              "      <td>2.000000</td>\n",
              "      <td>12.203966</td>\n",
              "      <td>1.938966</td>\n",
              "      <td>2.215172</td>\n",
              "      <td>20.208621</td>\n",
              "      <td>92.551724</td>\n",
              "      <td>2.262931</td>\n",
              "      <td>2.088103</td>\n",
              "      <td>0.355345</td>\n",
              "      <td>1.686552</td>\n",
              "      <td>2.895345</td>\n",
              "      <td>1.060000</td>\n",
              "      <td>2.862241</td>\n",
              "      <td>501.431034</td>\n",
              "    </tr>\n",
              "    <tr>\n",
              "      <th>1</th>\n",
              "      <td>1</td>\n",
              "      <td>2.857143</td>\n",
              "      <td>13.061607</td>\n",
              "      <td>3.166607</td>\n",
              "      <td>2.412857</td>\n",
              "      <td>21.003571</td>\n",
              "      <td>99.857143</td>\n",
              "      <td>1.694286</td>\n",
              "      <td>0.847857</td>\n",
              "      <td>0.449464</td>\n",
              "      <td>1.129286</td>\n",
              "      <td>6.850179</td>\n",
              "      <td>0.721000</td>\n",
              "      <td>1.727321</td>\n",
              "      <td>624.946429</td>\n",
              "    </tr>\n",
              "    <tr>\n",
              "      <th>2</th>\n",
              "      <td>2</td>\n",
              "      <td>1.078125</td>\n",
              "      <td>13.669219</td>\n",
              "      <td>1.970000</td>\n",
              "      <td>2.463125</td>\n",
              "      <td>17.528125</td>\n",
              "      <td>106.156250</td>\n",
              "      <td>2.850000</td>\n",
              "      <td>3.009688</td>\n",
              "      <td>0.291094</td>\n",
              "      <td>1.908125</td>\n",
              "      <td>5.450000</td>\n",
              "      <td>1.071406</td>\n",
              "      <td>3.158437</td>\n",
              "      <td>1076.046875</td>\n",
              "    </tr>\n",
              "  </tbody>\n",
              "</table>\n",
              "</div>\n",
              "      <button class=\"colab-df-convert\" onclick=\"convertToInteractive('df-bcbd190f-c35e-4f6f-abd5-5291de3b14e1')\"\n",
              "              title=\"Convert this dataframe to an interactive table.\"\n",
              "              style=\"display:none;\">\n",
              "        \n",
              "  <svg xmlns=\"http://www.w3.org/2000/svg\" height=\"24px\"viewBox=\"0 0 24 24\"\n",
              "       width=\"24px\">\n",
              "    <path d=\"M0 0h24v24H0V0z\" fill=\"none\"/>\n",
              "    <path d=\"M18.56 5.44l.94 2.06.94-2.06 2.06-.94-2.06-.94-.94-2.06-.94 2.06-2.06.94zm-11 1L8.5 8.5l.94-2.06 2.06-.94-2.06-.94L8.5 2.5l-.94 2.06-2.06.94zm10 10l.94 2.06.94-2.06 2.06-.94-2.06-.94-.94-2.06-.94 2.06-2.06.94z\"/><path d=\"M17.41 7.96l-1.37-1.37c-.4-.4-.92-.59-1.43-.59-.52 0-1.04.2-1.43.59L10.3 9.45l-7.72 7.72c-.78.78-.78 2.05 0 2.83L4 21.41c.39.39.9.59 1.41.59.51 0 1.02-.2 1.41-.59l7.78-7.78 2.81-2.81c.8-.78.8-2.07 0-2.86zM5.41 20L4 18.59l7.72-7.72 1.47 1.35L5.41 20z\"/>\n",
              "  </svg>\n",
              "      </button>\n",
              "      \n",
              "  <style>\n",
              "    .colab-df-container {\n",
              "      display:flex;\n",
              "      flex-wrap:wrap;\n",
              "      gap: 12px;\n",
              "    }\n",
              "\n",
              "    .colab-df-convert {\n",
              "      background-color: #E8F0FE;\n",
              "      border: none;\n",
              "      border-radius: 50%;\n",
              "      cursor: pointer;\n",
              "      display: none;\n",
              "      fill: #1967D2;\n",
              "      height: 32px;\n",
              "      padding: 0 0 0 0;\n",
              "      width: 32px;\n",
              "    }\n",
              "\n",
              "    .colab-df-convert:hover {\n",
              "      background-color: #E2EBFA;\n",
              "      box-shadow: 0px 1px 2px rgba(60, 64, 67, 0.3), 0px 1px 3px 1px rgba(60, 64, 67, 0.15);\n",
              "      fill: #174EA6;\n",
              "    }\n",
              "\n",
              "    [theme=dark] .colab-df-convert {\n",
              "      background-color: #3B4455;\n",
              "      fill: #D2E3FC;\n",
              "    }\n",
              "\n",
              "    [theme=dark] .colab-df-convert:hover {\n",
              "      background-color: #434B5C;\n",
              "      box-shadow: 0px 1px 3px 1px rgba(0, 0, 0, 0.15);\n",
              "      filter: drop-shadow(0px 1px 2px rgba(0, 0, 0, 0.3));\n",
              "      fill: #FFFFFF;\n",
              "    }\n",
              "  </style>\n",
              "\n",
              "      <script>\n",
              "        const buttonEl =\n",
              "          document.querySelector('#df-bcbd190f-c35e-4f6f-abd5-5291de3b14e1 button.colab-df-convert');\n",
              "        buttonEl.style.display =\n",
              "          google.colab.kernel.accessAllowed ? 'block' : 'none';\n",
              "\n",
              "        async function convertToInteractive(key) {\n",
              "          const element = document.querySelector('#df-bcbd190f-c35e-4f6f-abd5-5291de3b14e1');\n",
              "          const dataTable =\n",
              "            await google.colab.kernel.invokeFunction('convertToInteractive',\n",
              "                                                     [key], {});\n",
              "          if (!dataTable) return;\n",
              "\n",
              "          const docLinkHtml = 'Like what you see? Visit the ' +\n",
              "            '<a target=\"_blank\" href=https://colab.research.google.com/notebooks/data_table.ipynb>data table notebook</a>'\n",
              "            + ' to learn more about interactive tables.';\n",
              "          element.innerHTML = '';\n",
              "          dataTable['output_type'] = 'display_data';\n",
              "          await google.colab.output.renderOutput(dataTable, element);\n",
              "          const docLink = document.createElement('div');\n",
              "          docLink.innerHTML = docLinkHtml;\n",
              "          element.appendChild(docLink);\n",
              "        }\n",
              "      </script>\n",
              "    </div>\n",
              "  </div>\n",
              "  "
            ]
          },
          "metadata": {},
          "execution_count": 31
        }
      ],
      "source": [
        "wine.groupby('cluster').agg(['mean']).reset_index()"
      ]
    },
    {
      "cell_type": "markdown",
      "metadata": {
        "id": "id-mDEeBYap9"
      },
      "source": [
        "### Viewing the number of wine categories in ecah cluster"
      ]
    },
    {
      "cell_type": "code",
      "execution_count": 32,
      "metadata": {
        "colab": {
          "base_uri": "https://localhost:8080/"
        },
        "id": "Crs7n20bYap9",
        "outputId": "186c4bfe-9b1c-454d-ed0f-46ac810f570d"
      },
      "outputs": [
        {
          "output_type": "stream",
          "name": "stdout",
          "text": [
            "cluster 0\n",
            "Total Members: 58\n",
            "\n",
            "cluster 1\n",
            "Total Members: 56\n",
            "\n",
            "cluster 2\n",
            "Total Members: 64\n",
            "\n"
          ]
        }
      ],
      "source": [
        "for i in range(3):\n",
        "    print(\"cluster\", i)\n",
        "    print(\"Total Members:\", len(list(wine[wine['cluster'] == i]['Type'].values)))\n",
        "    print()"
      ]
    },
    {
      "cell_type": "markdown",
      "metadata": {
        "id": "K3EydYrMYap9"
      },
      "source": [
        "### Applying single linkage method"
      ]
    },
    {
      "cell_type": "code",
      "execution_count": 33,
      "metadata": {
        "colab": {
          "base_uri": "https://localhost:8080/",
          "height": 552
        },
        "id": "nnGTsBRdYap9",
        "outputId": "77ef47d1-473a-4b7d-cbb6-a1d305e62d10"
      },
      "outputs": [
        {
          "output_type": "execute_result",
          "data": {
            "text/plain": [
              "Text(0.5, 1.0, 'Dendrogram')"
            ]
          },
          "metadata": {},
          "execution_count": 33
        },
        {
          "output_type": "display_data",
          "data": {
            "text/plain": [
              "<Figure size 1152x720 with 1 Axes>"
            ],
            "image/png": "[encoded data removed]"
          },
          "metadata": {
            "needs_background": "light"
          }
        }
      ],
      "source": [
        "fig=plt.figure(figsize=(16,10))\n",
        "dendrogram = sch.dendrogram(sch.linkage(wine1_normal, method='single'))\n",
        "plt.title(\"Dendrogram\",size=15)"
      ]
    },
    {
      "cell_type": "markdown",
      "metadata": {
        "id": "Whu7wZRXYap-"
      },
      "source": [
        "### Creating a hierarchial clustering with just 2 categories"
      ]
    },
    {
      "cell_type": "code",
      "execution_count": 34,
      "metadata": {
        "id": "5MpfG7OLYap-"
      },
      "outputs": [],
      "source": [
        "hc4 = AgglomerativeClustering(n_clusters=2, affinity = 'euclidean', linkage = 'single')"
      ]
    },
    {
      "cell_type": "markdown",
      "metadata": {
        "id": "UYnCaMKFYap-"
      },
      "source": [
        "### Fitting the data on the model"
      ]
    },
    {
      "cell_type": "code",
      "execution_count": 35,
      "metadata": {
        "id": "6EsI82iyYap-"
      },
      "outputs": [],
      "source": [
        "y_hc4 = hc4.fit_predict(wine1_normal)\n",
        "Clusters=pd.DataFrame(y_hc4,columns=['Clusters'])"
      ]
    },
    {
      "cell_type": "code",
      "execution_count": 36,
      "metadata": {
        "id": "HwxhTpDnYap_"
      },
      "outputs": [],
      "source": [
        "wine['cluster'] = y_hc4"
      ]
    },
    {
      "cell_type": "code",
      "execution_count": 37,
      "metadata": {
        "colab": {
          "base_uri": "https://localhost:8080/",
          "height": 207
        },
        "id": "gfDTZwU8Yap_",
        "outputId": "aa43cc38-3193-4c94-8de8-c73301efdfde"
      },
      "outputs": [
        {
          "output_type": "execute_result",
          "data": {
            "text/plain": [
              "  cluster      Type    Alcohol     Malic       Ash Alcalinity   Magnesium  \\\n",
              "               mean       mean      mean      mean       mean        mean   \n",
              "0       0  1.937143  13.012000  2.355257  2.373371  19.540000   98.885714   \n",
              "1       1  2.000000  12.336667  1.233333  1.966667  16.866667  149.666667   \n",
              "\n",
              "    Phenols Flavanoids Nonflavanoids Proanthocyanins     Color       Hue  \\\n",
              "       mean       mean          mean            mean      mean      mean   \n",
              "0  2.298743     2.0332      0.363429        1.569371  5.094229  0.953863   \n",
              "1  2.083333     1.8000      0.270000        2.846667  2.950000  1.166667   \n",
              "\n",
              "   Dilution     Proline  \n",
              "       mean        mean  \n",
              "0  2.610686  745.954286  \n",
              "1  2.670000  801.666667  "
            ],
            "text/html": [
              "\n",
              "  <div id=\"df-00e4aa23-eff4-4bda-a826-01733af55507\">\n",
              "    <div class=\"colab-df-container\">\n",
              "      <div>\n",
              "<style scoped>\n",
              "    .dataframe tbody tr th:only-of-type {\n",
              "        vertical-align: middle;\n",
              "    }\n",
              "\n",
              "    .dataframe tbody tr th {\n",
              "        vertical-align: top;\n",
              "    }\n",
              "\n",
              "    .dataframe thead tr th {\n",
              "        text-align: left;\n",
              "    }\n",
              "</style>\n",
              "<table border=\"1\" class=\"dataframe\">\n",
              "  <thead>\n",
              "    <tr>\n",
              "      <th></th>\n",
              "      <th>cluster</th>\n",
              "      <th>Type</th>\n",
              "      <th>Alcohol</th>\n",
              "      <th>Malic</th>\n",
              "      <th>Ash</th>\n",
              "      <th>Alcalinity</th>\n",
              "      <th>Magnesium</th>\n",
              "      <th>Phenols</th>\n",
              "      <th>Flavanoids</th>\n",
              "      <th>Nonflavanoids</th>\n",
              "      <th>Proanthocyanins</th>\n",
              "      <th>Color</th>\n",
              "      <th>Hue</th>\n",
              "      <th>Dilution</th>\n",
              "      <th>Proline</th>\n",
              "    </tr>\n",
              "    <tr>\n",
              "      <th></th>\n",
              "      <th></th>\n",
              "      <th>mean</th>\n",
              "      <th>mean</th>\n",
              "      <th>mean</th>\n",
              "      <th>mean</th>\n",
              "      <th>mean</th>\n",
              "      <th>mean</th>\n",
              "      <th>mean</th>\n",
              "      <th>mean</th>\n",
              "      <th>mean</th>\n",
              "      <th>mean</th>\n",
              "      <th>mean</th>\n",
              "      <th>mean</th>\n",
              "      <th>mean</th>\n",
              "      <th>mean</th>\n",
              "    </tr>\n",
              "  </thead>\n",
              "  <tbody>\n",
              "    <tr>\n",
              "      <th>0</th>\n",
              "      <td>0</td>\n",
              "      <td>1.937143</td>\n",
              "      <td>13.012000</td>\n",
              "      <td>2.355257</td>\n",
              "      <td>2.373371</td>\n",
              "      <td>19.540000</td>\n",
              "      <td>98.885714</td>\n",
              "      <td>2.298743</td>\n",
              "      <td>2.0332</td>\n",
              "      <td>0.363429</td>\n",
              "      <td>1.569371</td>\n",
              "      <td>5.094229</td>\n",
              "      <td>0.953863</td>\n",
              "      <td>2.610686</td>\n",
              "      <td>745.954286</td>\n",
              "    </tr>\n",
              "    <tr>\n",
              "      <th>1</th>\n",
              "      <td>1</td>\n",
              "      <td>2.000000</td>\n",
              "      <td>12.336667</td>\n",
              "      <td>1.233333</td>\n",
              "      <td>1.966667</td>\n",
              "      <td>16.866667</td>\n",
              "      <td>149.666667</td>\n",
              "      <td>2.083333</td>\n",
              "      <td>1.8000</td>\n",
              "      <td>0.270000</td>\n",
              "      <td>2.846667</td>\n",
              "      <td>2.950000</td>\n",
              "      <td>1.166667</td>\n",
              "      <td>2.670000</td>\n",
              "      <td>801.666667</td>\n",
              "    </tr>\n",
              "  </tbody>\n",
              "</table>\n",
              "</div>\n",
              "      <button class=\"colab-df-convert\" onclick=\"convertToInteractive('df-00e4aa23-eff4-4bda-a826-01733af55507')\"\n",
              "              title=\"Convert this dataframe to an interactive table.\"\n",
              "              style=\"display:none;\">\n",
              "        \n",
              "  <svg xmlns=\"http://www.w3.org/2000/svg\" height=\"24px\"viewBox=\"0 0 24 24\"\n",
              "       width=\"24px\">\n",
              "    <path d=\"M0 0h24v24H0V0z\" fill=\"none\"/>\n",
              "    <path d=\"M18.56 5.44l.94 2.06.94-2.06 2.06-.94-2.06-.94-.94-2.06-.94 2.06-2.06.94zm-11 1L8.5 8.5l.94-2.06 2.06-.94-2.06-.94L8.5 2.5l-.94 2.06-2.06.94zm10 10l.94 2.06.94-2.06 2.06-.94-2.06-.94-.94-2.06-.94 2.06-2.06.94z\"/><path d=\"M17.41 7.96l-1.37-1.37c-.4-.4-.92-.59-1.43-.59-.52 0-1.04.2-1.43.59L10.3 9.45l-7.72 7.72c-.78.78-.78 2.05 0 2.83L4 21.41c.39.39.9.59 1.41.59.51 0 1.02-.2 1.41-.59l7.78-7.78 2.81-2.81c.8-.78.8-2.07 0-2.86zM5.41 20L4 18.59l7.72-7.72 1.47 1.35L5.41 20z\"/>\n",
              "  </svg>\n",
              "      </button>\n",
              "      \n",
              "  <style>\n",
              "    .colab-df-container {\n",
              "      display:flex;\n",
              "      flex-wrap:wrap;\n",
              "      gap: 12px;\n",
              "    }\n",
              "\n",
              "    .colab-df-convert {\n",
              "      background-color: #E8F0FE;\n",
              "      border: none;\n",
              "      border-radius: 50%;\n",
              "      cursor: pointer;\n",
              "      display: none;\n",
              "      fill: #1967D2;\n",
              "      height: 32px;\n",
              "      padding: 0 0 0 0;\n",
              "      width: 32px;\n",
              "    }\n",
              "\n",
              "    .colab-df-convert:hover {\n",
              "      background-color: #E2EBFA;\n",
              "      box-shadow: 0px 1px 2px rgba(60, 64, 67, 0.3), 0px 1px 3px 1px rgba(60, 64, 67, 0.15);\n",
              "      fill: #174EA6;\n",
              "    }\n",
              "\n",
              "    [theme=dark] .colab-df-convert {\n",
              "      background-color: #3B4455;\n",
              "      fill: #D2E3FC;\n",
              "    }\n",
              "\n",
              "    [theme=dark] .colab-df-convert:hover {\n",
              "      background-color: #434B5C;\n",
              "      box-shadow: 0px 1px 3px 1px rgba(0, 0, 0, 0.15);\n",
              "      filter: drop-shadow(0px 1px 2px rgba(0, 0, 0, 0.3));\n",
              "      fill: #FFFFFF;\n",
              "    }\n",
              "  </style>\n",
              "\n",
              "      <script>\n",
              "        const buttonEl =\n",
              "          document.querySelector('#df-00e4aa23-eff4-4bda-a826-01733af55507 button.colab-df-convert');\n",
              "        buttonEl.style.display =\n",
              "          google.colab.kernel.accessAllowed ? 'block' : 'none';\n",
              "\n",
              "        async function convertToInteractive(key) {\n",
              "          const element = document.querySelector('#df-00e4aa23-eff4-4bda-a826-01733af55507');\n",
              "          const dataTable =\n",
              "            await google.colab.kernel.invokeFunction('convertToInteractive',\n",
              "                                                     [key], {});\n",
              "          if (!dataTable) return;\n",
              "\n",
              "          const docLinkHtml = 'Like what you see? Visit the ' +\n",
              "            '<a target=\"_blank\" href=https://colab.research.google.com/notebooks/data_table.ipynb>data table notebook</a>'\n",
              "            + ' to learn more about interactive tables.';\n",
              "          element.innerHTML = '';\n",
              "          dataTable['output_type'] = 'display_data';\n",
              "          await google.colab.output.renderOutput(dataTable, element);\n",
              "          const docLink = document.createElement('div');\n",
              "          docLink.innerHTML = docLinkHtml;\n",
              "          element.appendChild(docLink);\n",
              "        }\n",
              "      </script>\n",
              "    </div>\n",
              "  </div>\n",
              "  "
            ]
          },
          "metadata": {},
          "execution_count": 37
        }
      ],
      "source": [
        "wine.groupby('cluster').agg(['mean']).reset_index()"
      ]
    },
    {
      "cell_type": "markdown",
      "metadata": {
        "id": "vx3J8_dfYap_"
      },
      "source": [
        "### Viewing the number of categories in the two clusters"
      ]
    },
    {
      "cell_type": "code",
      "execution_count": 38,
      "metadata": {
        "colab": {
          "base_uri": "https://localhost:8080/"
        },
        "id": "inl8P1YTYap_",
        "outputId": "e730bda8-86a0-4759-b0af-99b196f33aa5"
      },
      "outputs": [
        {
          "output_type": "stream",
          "name": "stdout",
          "text": [
            "cluster 0\n",
            "Total Members: 175\n",
            "\n",
            "cluster 1\n",
            "Total Members: 3\n",
            "\n"
          ]
        }
      ],
      "source": [
        "for i in range(2):\n",
        "    print(\"cluster\", i)\n",
        "    print(\"Total Members:\", len(list(wine[wine['cluster'] == i]['Type'].values)))\n",
        "    print()"
      ]
    },
    {
      "cell_type": "markdown",
      "metadata": {
        "id": "ZtDbs7oOYaqA"
      },
      "source": [
        "## Applying Kmeans clustering on the dataset to compare the results"
      ]
    },
    {
      "cell_type": "code",
      "execution_count": 39,
      "metadata": {
        "colab": {
          "base_uri": "https://localhost:8080/",
          "height": 295
        },
        "id": "EBNWMjKqYaqA",
        "outputId": "cc6e0131-a869-4f35-eb30-4aeef51238ff"
      },
      "outputs": [
        {
          "output_type": "display_data",
          "data": {
            "text/plain": [
              "<Figure size 432x288 with 1 Axes>"
            ],
            "image/png": "[encoded data removed]"
          },
          "metadata": {
            "needs_background": "light"
          }
        }
      ],
      "source": [
        "from sklearn.cluster import KMeans\n",
        "wcss = []\n",
        "for i in range(1, 11):\n",
        "    kmeans = KMeans(n_clusters=i,random_state=0)\n",
        "    kmeans.fit(wine1_normal)\n",
        "    wcss.append(kmeans.inertia_)\n",
        "    \n",
        "plt.plot(range(1, 11), wcss)\n",
        "plt.title('Elbow Method')\n",
        "plt.xlabel('Number of clusters')\n",
        "plt.ylabel('WCSS')\n",
        "plt.show()"
      ]
    },
    {
      "cell_type": "markdown",
      "metadata": {
        "id": "0Wm-QI9_YaqB"
      },
      "source": [
        "### Creating 3 clusters using Kmeans"
      ]
    },
    {
      "cell_type": "code",
      "execution_count": 40,
      "metadata": {
        "colab": {
          "base_uri": "https://localhost:8080/"
        },
        "id": "7nr6zOOWYaqB",
        "outputId": "76f5fda3-4d6f-4c0e-f01c-ed08590e824f"
      },
      "outputs": [
        {
          "output_type": "execute_result",
          "data": {
            "text/plain": [
              "KMeans(n_clusters=3, random_state=42)"
            ]
          },
          "metadata": {},
          "execution_count": 40
        }
      ],
      "source": [
        "clusters_new = KMeans(3, random_state=42)\n",
        "clusters_new.fit(wine1_normal)"
      ]
    },
    {
      "cell_type": "markdown",
      "metadata": {
        "id": "4KK-FncRYaqB"
      },
      "source": [
        "### Creating a variable with cluster labels for all the categories"
      ]
    },
    {
      "cell_type": "code",
      "execution_count": 41,
      "metadata": {
        "id": "f7YX1W_wYaqB"
      },
      "outputs": [],
      "source": [
        "KM_label=clusters_new.labels_"
      ]
    },
    {
      "cell_type": "markdown",
      "metadata": {
        "id": "wFMOqaFHYaqC"
      },
      "source": [
        "### Creating a new cluster column in with the labels"
      ]
    },
    {
      "cell_type": "code",
      "execution_count": 42,
      "metadata": {
        "id": "2Uexu_usYaqC"
      },
      "outputs": [],
      "source": [
        "wine['cluster'] = clusters_new.labels_"
      ]
    },
    {
      "cell_type": "code",
      "execution_count": 43,
      "metadata": {
        "colab": {
          "base_uri": "https://localhost:8080/"
        },
        "id": "e9pgU1zJYaqC",
        "outputId": "0e38c7bc-2ce1-49a5-8f3c-74d83be0bfc3"
      },
      "outputs": [
        {
          "output_type": "execute_result",
          "data": {
            "text/plain": [
              "array([[ 0.16490746,  0.87154706,  0.18689833,  0.52436746, -0.07547277,\n",
              "        -0.97933029, -1.21524764,  0.72606354, -0.77970639,  0.94153874,\n",
              "        -1.16478865, -1.29241163, -0.40708796],\n",
              "       [ 0.83523208, -0.30380968,  0.36470604, -0.61019129,  0.5775868 ,\n",
              "         0.88523736,  0.97781956, -0.56208965,  0.58028658,  0.17106348,\n",
              "         0.47398365,  0.77924711,  1.12518529],\n",
              "       [-0.92607185, -0.39404154, -0.49451676,  0.17060184, -0.49171185,\n",
              "        -0.07598265,  0.02081257, -0.03353357,  0.0582655 , -0.90191402,\n",
              "         0.46180361,  0.27076419, -0.75384618]])"
            ]
          },
          "metadata": {},
          "execution_count": 43
        }
      ],
      "source": [
        "clusters_new.cluster_centers_"
      ]
    },
    {
      "cell_type": "markdown",
      "metadata": {
        "id": "MDZ5VKubYaqC"
      },
      "source": [
        "### Grouping the clusters and checking the mean of all the clusters"
      ]
    },
    {
      "cell_type": "code",
      "execution_count": 44,
      "metadata": {
        "colab": {
          "base_uri": "https://localhost:8080/",
          "height": 239
        },
        "id": "aRUZAgmlYaqD",
        "outputId": "eccbb668-706e-4c16-e30a-26f178669162"
      },
      "outputs": [
        {
          "output_type": "execute_result",
          "data": {
            "text/plain": [
              "  cluster      Type    Alcohol     Malic       Ash Alcalinity   Magnesium  \\\n",
              "               mean       mean      mean      mean       mean        mean   \n",
              "0       0  2.941176  13.134118  3.307255  2.417647  21.241176   98.666667   \n",
              "1       1  1.048387  13.676774  1.997903  2.466290  17.462903  107.967742   \n",
              "2       2  2.000000  12.250923  1.897385  2.231231  20.063077   92.738462   \n",
              "\n",
              "    Phenols Flavanoids Nonflavanoids Proanthocyanins     Color       Hue  \\\n",
              "       mean       mean          mean            mean      mean      mean   \n",
              "0  1.683922   0.818824      0.451961        1.145882  7.234706  0.691961   \n",
              "1  2.847581   3.003226      0.292097        1.922097  5.453548  1.065484   \n",
              "2  2.247692   2.050000      0.357692        1.624154  2.973077  1.062708   \n",
              "\n",
              "   Dilution      Proline  \n",
              "       mean         mean  \n",
              "0  1.696667   619.058824  \n",
              "1  3.163387  1100.225806  \n",
              "2  2.803385   510.169231  "
            ],
            "text/html": [
              "\n",
              "  <div id=\"df-029d7aae-7c95-4140-b5d7-a0b52f1e685f\">\n",
              "    <div class=\"colab-df-container\">\n",
              "      <div>\n",
              "<style scoped>\n",
              "    .dataframe tbody tr th:only-of-type {\n",
              "        vertical-align: middle;\n",
              "    }\n",
              "\n",
              "    .dataframe tbody tr th {\n",
              "        vertical-align: top;\n",
              "    }\n",
              "\n",
              "    .dataframe thead tr th {\n",
              "        text-align: left;\n",
              "    }\n",
              "</style>\n",
              "<table border=\"1\" class=\"dataframe\">\n",
              "  <thead>\n",
              "    <tr>\n",
              "      <th></th>\n",
              "      <th>cluster</th>\n",
              "      <th>Type</th>\n",
              "      <th>Alcohol</th>\n",
              "      <th>Malic</th>\n",
              "      <th>Ash</th>\n",
              "      <th>Alcalinity</th>\n",
              "      <th>Magnesium</th>\n",
              "      <th>Phenols</th>\n",
              "      <th>Flavanoids</th>\n",
              "      <th>Nonflavanoids</th>\n",
              "      <th>Proanthocyanins</th>\n",
              "      <th>Color</th>\n",
              "      <th>Hue</th>\n",
              "      <th>Dilution</th>\n",
              "      <th>Proline</th>\n",
              "    </tr>\n",
              "    <tr>\n",
              "      <th></th>\n",
              "      <th></th>\n",
              "      <th>mean</th>\n",
              "      <th>mean</th>\n",
              "      <th>mean</th>\n",
              "      <th>mean</th>\n",
              "      <th>mean</th>\n",
              "      <th>mean</th>\n",
              "      <th>mean</th>\n",
              "      <th>mean</th>\n",
              "      <th>mean</th>\n",
              "      <th>mean</th>\n",
              "      <th>mean</th>\n",
              "      <th>mean</th>\n",
              "      <th>mean</th>\n",
              "      <th>mean</th>\n",
              "    </tr>\n",
              "  </thead>\n",
              "  <tbody>\n",
              "    <tr>\n",
              "      <th>0</th>\n",
              "      <td>0</td>\n",
              "      <td>2.941176</td>\n",
              "      <td>13.134118</td>\n",
              "      <td>3.307255</td>\n",
              "      <td>2.417647</td>\n",
              "      <td>21.241176</td>\n",
              "      <td>98.666667</td>\n",
              "      <td>1.683922</td>\n",
              "      <td>0.818824</td>\n",
              "      <td>0.451961</td>\n",
              "      <td>1.145882</td>\n",
              "      <td>7.234706</td>\n",
              "      <td>0.691961</td>\n",
              "      <td>1.696667</td>\n",
              "      <td>619.058824</td>\n",
              "    </tr>\n",
              "    <tr>\n",
              "      <th>1</th>\n",
              "      <td>1</td>\n",
              "      <td>1.048387</td>\n",
              "      <td>13.676774</td>\n",
              "      <td>1.997903</td>\n",
              "      <td>2.466290</td>\n",
              "      <td>17.462903</td>\n",
              "      <td>107.967742</td>\n",
              "      <td>2.847581</td>\n",
              "      <td>3.003226</td>\n",
              "      <td>0.292097</td>\n",
              "      <td>1.922097</td>\n",
              "      <td>5.453548</td>\n",
              "      <td>1.065484</td>\n",
              "      <td>3.163387</td>\n",
              "      <td>1100.225806</td>\n",
              "    </tr>\n",
              "    <tr>\n",
              "      <th>2</th>\n",
              "      <td>2</td>\n",
              "      <td>2.000000</td>\n",
              "      <td>12.250923</td>\n",
              "      <td>1.897385</td>\n",
              "      <td>2.231231</td>\n",
              "      <td>20.063077</td>\n",
              "      <td>92.738462</td>\n",
              "      <td>2.247692</td>\n",
              "      <td>2.050000</td>\n",
              "      <td>0.357692</td>\n",
              "      <td>1.624154</td>\n",
              "      <td>2.973077</td>\n",
              "      <td>1.062708</td>\n",
              "      <td>2.803385</td>\n",
              "      <td>510.169231</td>\n",
              "    </tr>\n",
              "  </tbody>\n",
              "</table>\n",
              "</div>\n",
              "      <button class=\"colab-df-convert\" onclick=\"convertToInteractive('df-029d7aae-7c95-4140-b5d7-a0b52f1e685f')\"\n",
              "              title=\"Convert this dataframe to an interactive table.\"\n",
              "              style=\"display:none;\">\n",
              "        \n",
              "  <svg xmlns=\"http://www.w3.org/2000/svg\" height=\"24px\"viewBox=\"0 0 24 24\"\n",
              "       width=\"24px\">\n",
              "    <path d=\"M0 0h24v24H0V0z\" fill=\"none\"/>\n",
              "    <path d=\"M18.56 5.44l.94 2.06.94-2.06 2.06-.94-2.06-.94-.94-2.06-.94 2.06-2.06.94zm-11 1L8.5 8.5l.94-2.06 2.06-.94-2.06-.94L8.5 2.5l-.94 2.06-2.06.94zm10 10l.94 2.06.94-2.06 2.06-.94-2.06-.94-.94-2.06-.94 2.06-2.06.94z\"/><path d=\"M17.41 7.96l-1.37-1.37c-.4-.4-.92-.59-1.43-.59-.52 0-1.04.2-1.43.59L10.3 9.45l-7.72 7.72c-.78.78-.78 2.05 0 2.83L4 21.41c.39.39.9.59 1.41.59.51 0 1.02-.2 1.41-.59l7.78-7.78 2.81-2.81c.8-.78.8-2.07 0-2.86zM5.41 20L4 18.59l7.72-7.72 1.47 1.35L5.41 20z\"/>\n",
              "  </svg>\n",
              "      </button>\n",
              "      \n",
              "  <style>\n",
              "    .colab-df-container {\n",
              "      display:flex;\n",
              "      flex-wrap:wrap;\n",
              "      gap: 12px;\n",
              "    }\n",
              "\n",
              "    .colab-df-convert {\n",
              "      background-color: #E8F0FE;\n",
              "      border: none;\n",
              "      border-radius: 50%;\n",
              "      cursor: pointer;\n",
              "      display: none;\n",
              "      fill: #1967D2;\n",
              "      height: 32px;\n",
              "      padding: 0 0 0 0;\n",
              "      width: 32px;\n",
              "    }\n",
              "\n",
              "    .colab-df-convert:hover {\n",
              "      background-color: #E2EBFA;\n",
              "      box-shadow: 0px 1px 2px rgba(60, 64, 67, 0.3), 0px 1px 3px 1px rgba(60, 64, 67, 0.15);\n",
              "      fill: #174EA6;\n",
              "    }\n",
              "\n",
              "    [theme=dark] .colab-df-convert {\n",
              "      background-color: #3B4455;\n",
              "      fill: #D2E3FC;\n",
              "    }\n",
              "\n",
              "    [theme=dark] .colab-df-convert:hover {\n",
              "      background-color: #434B5C;\n",
              "      box-shadow: 0px 1px 3px 1px rgba(0, 0, 0, 0.15);\n",
              "      filter: drop-shadow(0px 1px 2px rgba(0, 0, 0, 0.3));\n",
              "      fill: #FFFFFF;\n",
              "    }\n",
              "  </style>\n",
              "\n",
              "      <script>\n",
              "        const buttonEl =\n",
              "          document.querySelector('#df-029d7aae-7c95-4140-b5d7-a0b52f1e685f button.colab-df-convert');\n",
              "        buttonEl.style.display =\n",
              "          google.colab.kernel.accessAllowed ? 'block' : 'none';\n",
              "\n",
              "        async function convertToInteractive(key) {\n",
              "          const element = document.querySelector('#df-029d7aae-7c95-4140-b5d7-a0b52f1e685f');\n",
              "          const dataTable =\n",
              "            await google.colab.kernel.invokeFunction('convertToInteractive',\n",
              "                                                     [key], {});\n",
              "          if (!dataTable) return;\n",
              "\n",
              "          const docLinkHtml = 'Like what you see? Visit the ' +\n",
              "            '<a target=\"_blank\" href=https://colab.research.google.com/notebooks/data_table.ipynb>data table notebook</a>'\n",
              "            + ' to learn more about interactive tables.';\n",
              "          element.innerHTML = '';\n",
              "          dataTable['output_type'] = 'display_data';\n",
              "          await google.colab.output.renderOutput(dataTable, element);\n",
              "          const docLink = document.createElement('div');\n",
              "          docLink.innerHTML = docLinkHtml;\n",
              "          element.appendChild(docLink);\n",
              "        }\n",
              "      </script>\n",
              "    </div>\n",
              "  </div>\n",
              "  "
            ]
          },
          "metadata": {},
          "execution_count": 44
        }
      ],
      "source": [
        "wine.groupby('cluster').agg(['mean']).reset_index()"
      ]
    },
    {
      "cell_type": "markdown",
      "metadata": {
        "id": "PuF9aY8XYaqD"
      },
      "source": [
        "### Checking the numebr of categories present in ecah Kmeans cluster "
      ]
    },
    {
      "cell_type": "code",
      "execution_count": 45,
      "metadata": {
        "colab": {
          "base_uri": "https://localhost:8080/"
        },
        "id": "6E-QWvk7YaqD",
        "outputId": "cfba1d5f-5307-497a-fbb9-24616867a99a"
      },
      "outputs": [
        {
          "output_type": "stream",
          "name": "stdout",
          "text": [
            "cluster 0\n",
            "Total Members: 51\n",
            "\n",
            "cluster 1\n",
            "Total Members: 62\n",
            "\n",
            "cluster 2\n",
            "Total Members: 65\n",
            "\n"
          ]
        }
      ],
      "source": [
        "for i in range(3):\n",
        "    print(\"cluster\", i)\n",
        "    print(\"Total Members:\", len(list(wine[wine['cluster'] == i]['Type'].values)))\n",
        "    print()"
      ]
    },
    {
      "cell_type": "markdown",
      "metadata": {
        "id": "JBwvlIfrYaqD"
      },
      "source": [
        "# Calculate the silhouette score for all clustering"
      ]
    },
    {
      "cell_type": "code",
      "execution_count": 46,
      "metadata": {
        "colab": {
          "base_uri": "https://localhost:8080/"
        },
        "id": "x-t2WguCYaqE",
        "outputId": "5c4846c0-afa5-4c5a-a818-1a8d6064967d"
      },
      "outputs": [
        {
          "output_type": "execute_result",
          "data": {
            "text/plain": [
              "0.22945756295901437"
            ]
          },
          "metadata": {},
          "execution_count": 46
        }
      ],
      "source": [
        "SH_average=metrics.silhouette_score(wine1_normal,y_hc1)\n",
        "SH_average"
      ]
    },
    {
      "cell_type": "code",
      "execution_count": 47,
      "metadata": {
        "colab": {
          "base_uri": "https://localhost:8080/"
        },
        "id": "EhK1vjMSYaqE",
        "outputId": "5cb111ac-23e6-484d-db07-b11e29afbfc2"
      },
      "outputs": [
        {
          "output_type": "execute_result",
          "data": {
            "text/plain": [
              "0.19382526203175696"
            ]
          },
          "metadata": {},
          "execution_count": 47
        }
      ],
      "source": [
        "SH_Ward=metrics.silhouette_score(wine1_normal,y_hc2)\n",
        "SH_Ward"
      ]
    },
    {
      "cell_type": "code",
      "execution_count": 48,
      "metadata": {
        "colab": {
          "base_uri": "https://localhost:8080/"
        },
        "id": "snmpQBs4YaqE",
        "outputId": "9b6d8ff0-ff53-42ac-9f03-d81afe2cce3f"
      },
      "outputs": [
        {
          "output_type": "execute_result",
          "data": {
            "text/plain": [
              "0.2774439826952265"
            ]
          },
          "metadata": {},
          "execution_count": 48
        }
      ],
      "source": [
        "SH_Complete=metrics.silhouette_score(wine1_normal,y_hc3)\n",
        "SH_Complete"
      ]
    },
    {
      "cell_type": "code",
      "execution_count": 49,
      "metadata": {
        "colab": {
          "base_uri": "https://localhost:8080/"
        },
        "id": "lNTLIJ7WYaqE",
        "outputId": "e7a93946-94e9-4a9b-b7c6-cd40ac6105b8"
      },
      "outputs": [
        {
          "output_type": "execute_result",
          "data": {
            "text/plain": [
              "0.2224506072765093"
            ]
          },
          "metadata": {},
          "execution_count": 49
        }
      ],
      "source": [
        "SH_Single=metrics.silhouette_score(wine1_normal,y_hc4)\n",
        "SH_Single"
      ]
    },
    {
      "cell_type": "code",
      "execution_count": 50,
      "metadata": {
        "colab": {
          "base_uri": "https://localhost:8080/"
        },
        "id": "UAQ2-A55YaqF",
        "outputId": "9014b105-64ba-481f-cebe-359f2f794db6"
      },
      "outputs": [
        {
          "output_type": "execute_result",
          "data": {
            "text/plain": [
              "0.2848589191898987"
            ]
          },
          "metadata": {},
          "execution_count": 50
        }
      ],
      "source": [
        "SH_Kmeans=metrics.silhouette_score(wine1_normal,KM_label)\n",
        "SH_Kmeans"
      ]
    },
    {
      "cell_type": "markdown",
      "metadata": {
        "id": "llrC1a96YaqF"
      },
      "source": [
        "### Consildating the results"
      ]
    },
    {
      "cell_type": "code",
      "execution_count": 51,
      "metadata": {
        "colab": {
          "base_uri": "https://localhost:8080/",
          "height": 206
        },
        "id": "FVMCA5WlYaqF",
        "outputId": "d52317f4-a73f-4425-df3c-bfe096f40b5a"
      },
      "outputs": [
        {
          "output_type": "execute_result",
          "data": {
            "text/plain": [
              "          Model  Silhouette score\n",
              "0  Hierarchial1          0.229458\n",
              "1  Hierarchial2          0.193825\n",
              "2  Hierarchial3          0.277444\n",
              "3  Hierarchial4          0.222451\n",
              "4        Kmeans          0.284859"
            ],
            "text/html": [
              "\n",
              "  <div id=\"df-bec2539d-da40-46ef-a850-7b24387c1703\">\n",
              "    <div class=\"colab-df-container\">\n",
              "      <div>\n",
              "<style scoped>\n",
              "    .dataframe tbody tr th:only-of-type {\n",
              "        vertical-align: middle;\n",
              "    }\n",
              "\n",
              "    .dataframe tbody tr th {\n",
              "        vertical-align: top;\n",
              "    }\n",
              "\n",
              "    .dataframe thead th {\n",
              "        text-align: right;\n",
              "    }\n",
              "</style>\n",
              "<table border=\"1\" class=\"dataframe\">\n",
              "  <thead>\n",
              "    <tr style=\"text-align: right;\">\n",
              "      <th></th>\n",
              "      <th>Model</th>\n",
              "      <th>Silhouette score</th>\n",
              "    </tr>\n",
              "  </thead>\n",
              "  <tbody>\n",
              "    <tr>\n",
              "      <th>0</th>\n",
              "      <td>Hierarchial1</td>\n",
              "      <td>0.229458</td>\n",
              "    </tr>\n",
              "    <tr>\n",
              "      <th>1</th>\n",
              "      <td>Hierarchial2</td>\n",
              "      <td>0.193825</td>\n",
              "    </tr>\n",
              "    <tr>\n",
              "      <th>2</th>\n",
              "      <td>Hierarchial3</td>\n",
              "      <td>0.277444</td>\n",
              "    </tr>\n",
              "    <tr>\n",
              "      <th>3</th>\n",
              "      <td>Hierarchial4</td>\n",
              "      <td>0.222451</td>\n",
              "    </tr>\n",
              "    <tr>\n",
              "      <th>4</th>\n",
              "      <td>Kmeans</td>\n",
              "      <td>0.284859</td>\n",
              "    </tr>\n",
              "  </tbody>\n",
              "</table>\n",
              "</div>\n",
              "      <button class=\"colab-df-convert\" onclick=\"convertToInteractive('df-bec2539d-da40-46ef-a850-7b24387c1703')\"\n",
              "              title=\"Convert this dataframe to an interactive table.\"\n",
              "              style=\"display:none;\">\n",
              "        \n",
              "  <svg xmlns=\"http://www.w3.org/2000/svg\" height=\"24px\"viewBox=\"0 0 24 24\"\n",
              "       width=\"24px\">\n",
              "    <path d=\"M0 0h24v24H0V0z\" fill=\"none\"/>\n",
              "    <path d=\"M18.56 5.44l.94 2.06.94-2.06 2.06-.94-2.06-.94-.94-2.06-.94 2.06-2.06.94zm-11 1L8.5 8.5l.94-2.06 2.06-.94-2.06-.94L8.5 2.5l-.94 2.06-2.06.94zm10 10l.94 2.06.94-2.06 2.06-.94-2.06-.94-.94-2.06-.94 2.06-2.06.94z\"/><path d=\"M17.41 7.96l-1.37-1.37c-.4-.4-.92-.59-1.43-.59-.52 0-1.04.2-1.43.59L10.3 9.45l-7.72 7.72c-.78.78-.78 2.05 0 2.83L4 21.41c.39.39.9.59 1.41.59.51 0 1.02-.2 1.41-.59l7.78-7.78 2.81-2.81c.8-.78.8-2.07 0-2.86zM5.41 20L4 18.59l7.72-7.72 1.47 1.35L5.41 20z\"/>\n",
              "  </svg>\n",
              "      </button>\n",
              "      \n",
              "  <style>\n",
              "    .colab-df-container {\n",
              "      display:flex;\n",
              "      flex-wrap:wrap;\n",
              "      gap: 12px;\n",
              "    }\n",
              "\n",
              "    .colab-df-convert {\n",
              "      background-color: #E8F0FE;\n",
              "      border: none;\n",
              "      border-radius: 50%;\n",
              "      cursor: pointer;\n",
              "      display: none;\n",
              "      fill: #1967D2;\n",
              "      height: 32px;\n",
              "      padding: 0 0 0 0;\n",
              "      width: 32px;\n",
              "    }\n",
              "\n",
              "    .colab-df-convert:hover {\n",
              "      background-color: #E2EBFA;\n",
              "      box-shadow: 0px 1px 2px rgba(60, 64, 67, 0.3), 0px 1px 3px 1px rgba(60, 64, 67, 0.15);\n",
              "      fill: #174EA6;\n",
              "    }\n",
              "\n",
              "    [theme=dark] .colab-df-convert {\n",
              "      background-color: #3B4455;\n",
              "      fill: #D2E3FC;\n",
              "    }\n",
              "\n",
              "    [theme=dark] .colab-df-convert:hover {\n",
              "      background-color: #434B5C;\n",
              "      box-shadow: 0px 1px 3px 1px rgba(0, 0, 0, 0.15);\n",
              "      filter: drop-shadow(0px 1px 2px rgba(0, 0, 0, 0.3));\n",
              "      fill: #FFFFFF;\n",
              "    }\n",
              "  </style>\n",
              "\n",
              "      <script>\n",
              "        const buttonEl =\n",
              "          document.querySelector('#df-bec2539d-da40-46ef-a850-7b24387c1703 button.colab-df-convert');\n",
              "        buttonEl.style.display =\n",
              "          google.colab.kernel.accessAllowed ? 'block' : 'none';\n",
              "\n",
              "        async function convertToInteractive(key) {\n",
              "          const element = document.querySelector('#df-bec2539d-da40-46ef-a850-7b24387c1703');\n",
              "          const dataTable =\n",
              "            await google.colab.kernel.invokeFunction('convertToInteractive',\n",
              "                                                     [key], {});\n",
              "          if (!dataTable) return;\n",
              "\n",
              "          const docLinkHtml = 'Like what you see? Visit the ' +\n",
              "            '<a target=\"_blank\" href=https://colab.research.google.com/notebooks/data_table.ipynb>data table notebook</a>'\n",
              "            + ' to learn more about interactive tables.';\n",
              "          element.innerHTML = '';\n",
              "          dataTable['output_type'] = 'display_data';\n",
              "          await google.colab.output.renderOutput(dataTable, element);\n",
              "          const docLink = document.createElement('div');\n",
              "          docLink.innerHTML = docLinkHtml;\n",
              "          element.appendChild(docLink);\n",
              "        }\n",
              "      </script>\n",
              "    </div>\n",
              "  </div>\n",
              "  "
            ]
          },
          "metadata": {},
          "execution_count": 51
        }
      ],
      "source": [
        "t={'Model':pd.Series(['Hierarchial1','Hierarchial2','Hierarchial3','Hierarchial4','Kmeans']),\n",
        "  'Silhouette score':[SH_average,SH_Ward,SH_Complete,SH_Single,SH_Kmeans]\n",
        "  }\n",
        "t=pd.DataFrame(t)\n",
        "t"
      ]
    },
    {
      "cell_type": "markdown",
      "metadata": {
        "id": "wfh5hzbkYaqG"
      },
      "source": [
        "# Now we perform the PCA on the normalized data"
      ]
    },
    {
      "cell_type": "code",
      "execution_count": 52,
      "metadata": {
        "id": "p4q62GzlYaqG"
      },
      "outputs": [],
      "source": [
        "pca = PCA()\n",
        "pca_values = pca.fit_transform(wine1_normal)"
      ]
    },
    {
      "cell_type": "code",
      "execution_count": 53,
      "metadata": {
        "colab": {
          "base_uri": "https://localhost:8080/"
        },
        "id": "XsqKQgBCYaqG",
        "outputId": "8530f514-d5a7-4515-d40b-b2f4ecf95ad8"
      },
      "outputs": [
        {
          "output_type": "execute_result",
          "data": {
            "text/plain": [
              "array([[ 3.31675081e+00, -1.44346263e+00, -1.65739045e-01, ...,\n",
              "        -4.51563395e-01,  5.40810414e-01, -6.62386309e-02],\n",
              "       [ 2.20946492e+00,  3.33392887e-01, -2.02645737e+00, ...,\n",
              "        -1.42657306e-01,  3.88237741e-01,  3.63650247e-03],\n",
              "       [ 2.51674015e+00, -1.03115130e+00,  9.82818670e-01, ...,\n",
              "        -2.86672847e-01,  5.83573183e-04,  2.17165104e-02],\n",
              "       ...,\n",
              "       [-2.67783946e+00, -2.76089913e+00, -9.40941877e-01, ...,\n",
              "         5.12492025e-01,  6.98766451e-01,  7.20776948e-02],\n",
              "       [-2.38701709e+00, -2.29734668e+00, -5.50696197e-01, ...,\n",
              "         2.99821968e-01,  3.39820654e-01, -2.18657605e-02],\n",
              "       [-3.20875816e+00, -2.76891957e+00,  1.01391366e+00, ...,\n",
              "        -2.29964331e-01, -1.88787963e-01, -3.23964720e-01]])"
            ]
          },
          "metadata": {},
          "execution_count": 53
        }
      ],
      "source": [
        "pca_values"
      ]
    },
    {
      "cell_type": "markdown",
      "metadata": {
        "id": "KdO8WKpmYaqH"
      },
      "source": [
        "### Applying PCA on the dataset"
      ]
    },
    {
      "cell_type": "code",
      "execution_count": 54,
      "metadata": {
        "id": "obZR47dLYaqH"
      },
      "outputs": [],
      "source": [
        "pca = PCA(n_components = 13)\n",
        "pca_values = pca.fit_transform(wine1_normal)"
      ]
    },
    {
      "cell_type": "code",
      "execution_count": 55,
      "metadata": {
        "colab": {
          "base_uri": "https://localhost:8080/"
        },
        "id": "P7c95kaXYaqH",
        "outputId": "e914e662-9fe8-4873-b210-7bebd90f026f"
      },
      "outputs": [
        {
          "output_type": "execute_result",
          "data": {
            "text/plain": [
              "array([0.36198848, 0.1920749 , 0.11123631, 0.0706903 , 0.06563294,\n",
              "       0.04935823, 0.04238679, 0.02680749, 0.02222153, 0.01930019,\n",
              "       0.01736836, 0.01298233, 0.00795215])"
            ]
          },
          "metadata": {},
          "execution_count": 55
        }
      ],
      "source": [
        "var = pca.explained_variance_ratio_\n",
        "var"
      ]
    },
    {
      "cell_type": "markdown",
      "metadata": {
        "id": "YAzdnQmZYaqI"
      },
      "source": [
        "### Cumulative variance "
      ]
    },
    {
      "cell_type": "code",
      "execution_count": 56,
      "metadata": {
        "colab": {
          "base_uri": "https://localhost:8080/"
        },
        "id": "rYpWksNKYaqI",
        "outputId": "e38cc160-bbfa-47a0-d8ae-47dc30e1fca1"
      },
      "outputs": [
        {
          "output_type": "execute_result",
          "data": {
            "text/plain": [
              "array([ 36.2 ,  55.41,  66.53,  73.6 ,  80.16,  85.1 ,  89.34,  92.02,\n",
              "        94.24,  96.17,  97.91,  99.21, 100.01])"
            ]
          },
          "metadata": {},
          "execution_count": 56
        }
      ],
      "source": [
        "var1 = np.cumsum(np.round(var,decimals = 4)*100)\n",
        "var1"
      ]
    },
    {
      "cell_type": "code",
      "execution_count": 57,
      "metadata": {
        "colab": {
          "base_uri": "https://localhost:8080/"
        },
        "id": "U5tZvMuGYaqI",
        "outputId": "e5bc6434-f3a7-4eba-f721-98975afe357d"
      },
      "outputs": [
        {
          "output_type": "execute_result",
          "data": {
            "text/plain": [
              "array([[ 0.1443294 , -0.24518758, -0.00205106, -0.23932041,  0.14199204,\n",
              "         0.39466085,  0.4229343 , -0.2985331 ,  0.31342949, -0.0886167 ,\n",
              "         0.29671456,  0.37616741,  0.28675223],\n",
              "       [-0.48365155, -0.22493093, -0.31606881,  0.0105905 , -0.299634  ,\n",
              "        -0.06503951,  0.00335981, -0.02877949, -0.03930172, -0.52999567,\n",
              "         0.27923515,  0.16449619, -0.36490283],\n",
              "       [-0.20738262,  0.08901289,  0.6262239 ,  0.61208035,  0.13075693,\n",
              "         0.14617896,  0.1506819 ,  0.17036816,  0.14945431, -0.13730621,\n",
              "         0.08522192,  0.16600459, -0.12674592],\n",
              "       [-0.0178563 ,  0.53689028, -0.21417556,  0.06085941, -0.35179658,\n",
              "         0.19806835,  0.15229479, -0.20330102,  0.39905653,  0.06592568,\n",
              "        -0.42777141,  0.18412074, -0.23207086],\n",
              "       [-0.26566365,  0.03521363, -0.14302547,  0.06610294,  0.72704851,\n",
              "        -0.14931841, -0.10902584, -0.50070298,  0.13685982, -0.07643678,\n",
              "        -0.17361452, -0.10116099, -0.1578688 ],\n",
              "       [-0.21353865, -0.53681385, -0.15447466,  0.10082451, -0.03814394,\n",
              "         0.0841223 ,  0.01892002,  0.25859401,  0.53379539,  0.41864414,\n",
              "        -0.10598274, -0.26585107, -0.11972557],\n",
              "       [-0.05639636,  0.42052391, -0.14917061, -0.28696914,  0.3228833 ,\n",
              "        -0.02792498, -0.06068521,  0.59544729,  0.37213935, -0.22771214,\n",
              "         0.23207564, -0.0447637 ,  0.0768045 ],\n",
              "       [-0.39613926, -0.06582674,  0.17026002, -0.42797018,  0.15636143,\n",
              "         0.40593409,  0.18724536,  0.23328465, -0.36822675,  0.03379692,\n",
              "        -0.43662362,  0.07810789, -0.12002267],\n",
              "       [ 0.50861912, -0.07528304, -0.30769445,  0.20044931,  0.27140257,\n",
              "         0.28603452,  0.04957849,  0.19550132, -0.20914487,  0.05621752,\n",
              "         0.08582839,  0.1372269 , -0.57578611],\n",
              "       [ 0.21160473, -0.30907994, -0.02712539,  0.05279942,  0.06787022,\n",
              "        -0.32013135, -0.16315051,  0.21553507,  0.1341839 , -0.29077518,\n",
              "        -0.52239889,  0.52370587,  0.162116  ],\n",
              "       [-0.22591696,  0.07648554, -0.49869142,  0.47931378,  0.07128891,\n",
              "         0.30434119, -0.02569409,  0.11689586, -0.23736257,  0.0318388 ,\n",
              "        -0.04821201,  0.0464233 ,  0.53926983],\n",
              "       [-0.26628645,  0.12169604, -0.04962237, -0.05574287,  0.06222011,\n",
              "        -0.30388245, -0.04289883,  0.04235219, -0.09555303,  0.60422163,\n",
              "         0.259214  ,  0.60095872, -0.07940162],\n",
              "       [ 0.01496997,  0.02596375, -0.14121803,  0.09168285,  0.05677422,\n",
              "        -0.46390791,  0.83225706,  0.11403985, -0.11691707, -0.0119928 ,\n",
              "        -0.08988884, -0.15671813,  0.01444734]])"
            ]
          },
          "metadata": {},
          "execution_count": 57
        }
      ],
      "source": [
        "pca.components_"
      ]
    },
    {
      "cell_type": "markdown",
      "metadata": {
        "id": "_2v3v_AJYaqI"
      },
      "source": [
        "### Plotting the cumulative variance"
      ]
    },
    {
      "cell_type": "code",
      "execution_count": 58,
      "metadata": {
        "colab": {
          "base_uri": "https://localhost:8080/",
          "height": 283
        },
        "id": "yHME_WpeYaqJ",
        "outputId": "d0ed24d8-3b8d-422b-8ee7-c8a3b0a706f1"
      },
      "outputs": [
        {
          "output_type": "execute_result",
          "data": {
            "text/plain": [
              "[<matplotlib.lines.Line2D at 0x7fe50ec43a10>]"
            ]
          },
          "metadata": {},
          "execution_count": 58
        },
        {
          "output_type": "display_data",
          "data": {
            "text/plain": [
              "<Figure size 432x288 with 1 Axes>"
            ],
            "image/png": "[encoded data removed]"
          },
          "metadata": {
            "needs_background": "light"
          }
        }
      ],
      "source": [
        "plt.plot(var1,color=\"red\")"
      ]
    },
    {
      "cell_type": "markdown",
      "metadata": {
        "id": "dhaV-PjiYaqJ"
      },
      "source": [
        "### Taking PC with just three components"
      ]
    },
    {
      "cell_type": "code",
      "execution_count": 59,
      "metadata": {
        "id": "BVtbLoT9YaqJ"
      },
      "outputs": [],
      "source": [
        "wine_pca=pca_values[:,0:3]"
      ]
    },
    {
      "cell_type": "markdown",
      "metadata": {
        "id": "stCDHxlgYaqJ"
      },
      "source": [
        "## Now, creating the cluster by using first 3 PCs"
      ]
    },
    {
      "cell_type": "markdown",
      "metadata": {
        "id": "ZUNOg_DMYaqK"
      },
      "source": [
        "### Applying centroid(ward) linkage method "
      ]
    },
    {
      "cell_type": "code",
      "execution_count": 60,
      "metadata": {
        "colab": {
          "base_uri": "https://localhost:8080/",
          "height": 0
        },
        "id": "esbyLymOYaqK",
        "outputId": "0d3820dd-890c-4f18-993a-477ec053d3e1"
      },
      "outputs": [
        {
          "output_type": "execute_result",
          "data": {
            "text/plain": [
              "Text(0.5, 1.0, 'Dendrogram')"
            ]
          },
          "metadata": {},
          "execution_count": 60
        },
        {
          "output_type": "display_data",
          "data": {
            "text/plain": [
              "<Figure size 1152x720 with 1 Axes>"
            ],
            "image/png": "[encoded data removed]"
          },
          "metadata": {
            "needs_background": "light"
          }
        }
      ],
      "source": [
        "fig=plt.figure(figsize=(16,10))\n",
        "dendrogram = sch.dendrogram(sch.linkage(wine_pca, method='ward'))\n",
        "plt.title(\"Dendrogram\",size=15)"
      ]
    },
    {
      "cell_type": "code",
      "execution_count": 61,
      "metadata": {
        "id": "r9hmpOfwYaqK"
      },
      "outputs": [],
      "source": [
        "hc1_pc = AgglomerativeClustering(n_clusters=3, affinity = 'euclidean', linkage = 'ward')"
      ]
    },
    {
      "cell_type": "markdown",
      "metadata": {
        "id": "a5arzA_zYaqL"
      },
      "source": [
        "### Fit the data on the model"
      ]
    },
    {
      "cell_type": "code",
      "execution_count": 62,
      "metadata": {
        "id": "hLwwmPUGYaqL"
      },
      "outputs": [],
      "source": [
        "y_hc1p = hc1_pc.fit_predict(wine_pca)\n",
        "Clusters=pd.DataFrame(y_hc1p,columns=['Clusters'])"
      ]
    },
    {
      "cell_type": "code",
      "execution_count": 63,
      "metadata": {
        "id": "Rjn62LN7YaqM"
      },
      "outputs": [],
      "source": [
        "wine['cluster'] = y_hc1p"
      ]
    },
    {
      "cell_type": "code",
      "execution_count": 64,
      "metadata": {
        "colab": {
          "base_uri": "https://localhost:8080/",
          "height": 0
        },
        "id": "ckTuC4oFYaqM",
        "outputId": "7c8b3025-d6ec-497e-eb3f-177277c31f68"
      },
      "outputs": [
        {
          "output_type": "execute_result",
          "data": {
            "text/plain": [
              "  cluster      Type    Alcohol     Malic       Ash Alcalinity   Magnesium  \\\n",
              "               mean       mean      mean      mean       mean        mean   \n",
              "0       0  2.030303  12.264242  1.932121  2.245455  20.087879   91.666667   \n",
              "1       1  2.978723  13.171489  3.431702  2.441064  21.595745   98.829787   \n",
              "2       2  1.092308  13.624769  1.954769  2.435538  17.373846  108.600000   \n",
              "\n",
              "    Phenols Flavanoids Nonflavanoids Proanthocyanins     Color       Hue  \\\n",
              "       mean       mean          mean            mean      mean      mean   \n",
              "0  2.220152   1.991364      0.367727        1.540455  3.036364  1.042515   \n",
              "1  1.674894   0.792979      0.452766        1.165957  7.452553  0.682979   \n",
              "2  2.819692   2.961692      0.290154        1.949385  5.379538  1.069538   \n",
              "\n",
              "   Dilution      Proline  \n",
              "       mean         mean  \n",
              "0  2.729848   504.439394  \n",
              "1  1.702553   627.021277  \n",
              "2  3.149077  1079.753846  "
            ],
            "text/html": [
              "\n",
              "  <div id=\"df-8728341f-e844-4d55-bdd2-fe51e498a7a5\">\n",
              "    <div class=\"colab-df-container\">\n",
              "      <div>\n",
              "<style scoped>\n",
              "    .dataframe tbody tr th:only-of-type {\n",
              "        vertical-align: middle;\n",
              "    }\n",
              "\n",
              "    .dataframe tbody tr th {\n",
              "        vertical-align: top;\n",
              "    }\n",
              "\n",
              "    .dataframe thead tr th {\n",
              "        text-align: left;\n",
              "    }\n",
              "</style>\n",
              "<table border=\"1\" class=\"dataframe\">\n",
              "  <thead>\n",
              "    <tr>\n",
              "      <th></th>\n",
              "      <th>cluster</th>\n",
              "      <th>Type</th>\n",
              "      <th>Alcohol</th>\n",
              "      <th>Malic</th>\n",
              "      <th>Ash</th>\n",
              "      <th>Alcalinity</th>\n",
              "      <th>Magnesium</th>\n",
              "      <th>Phenols</th>\n",
              "      <th>Flavanoids</th>\n",
              "      <th>Nonflavanoids</th>\n",
              "      <th>Proanthocyanins</th>\n",
              "      <th>Color</th>\n",
              "      <th>Hue</th>\n",
              "      <th>Dilution</th>\n",
              "      <th>Proline</th>\n",
              "    </tr>\n",
              "    <tr>\n",
              "      <th></th>\n",
              "      <th></th>\n",
              "      <th>mean</th>\n",
              "      <th>mean</th>\n",
              "      <th>mean</th>\n",
              "      <th>mean</th>\n",
              "      <th>mean</th>\n",
              "      <th>mean</th>\n",
              "      <th>mean</th>\n",
              "      <th>mean</th>\n",
              "      <th>mean</th>\n",
              "      <th>mean</th>\n",
              "      <th>mean</th>\n",
              "      <th>mean</th>\n",
              "      <th>mean</th>\n",
              "      <th>mean</th>\n",
              "    </tr>\n",
              "  </thead>\n",
              "  <tbody>\n",
              "    <tr>\n",
              "      <th>0</th>\n",
              "      <td>0</td>\n",
              "      <td>2.030303</td>\n",
              "      <td>12.264242</td>\n",
              "      <td>1.932121</td>\n",
              "      <td>2.245455</td>\n",
              "      <td>20.087879</td>\n",
              "      <td>91.666667</td>\n",
              "      <td>2.220152</td>\n",
              "      <td>1.991364</td>\n",
              "      <td>0.367727</td>\n",
              "      <td>1.540455</td>\n",
              "      <td>3.036364</td>\n",
              "      <td>1.042515</td>\n",
              "      <td>2.729848</td>\n",
              "      <td>504.439394</td>\n",
              "    </tr>\n",
              "    <tr>\n",
              "      <th>1</th>\n",
              "      <td>1</td>\n",
              "      <td>2.978723</td>\n",
              "      <td>13.171489</td>\n",
              "      <td>3.431702</td>\n",
              "      <td>2.441064</td>\n",
              "      <td>21.595745</td>\n",
              "      <td>98.829787</td>\n",
              "      <td>1.674894</td>\n",
              "      <td>0.792979</td>\n",
              "      <td>0.452766</td>\n",
              "      <td>1.165957</td>\n",
              "      <td>7.452553</td>\n",
              "      <td>0.682979</td>\n",
              "      <td>1.702553</td>\n",
              "      <td>627.021277</td>\n",
              "    </tr>\n",
              "    <tr>\n",
              "      <th>2</th>\n",
              "      <td>2</td>\n",
              "      <td>1.092308</td>\n",
              "      <td>13.624769</td>\n",
              "      <td>1.954769</td>\n",
              "      <td>2.435538</td>\n",
              "      <td>17.373846</td>\n",
              "      <td>108.600000</td>\n",
              "      <td>2.819692</td>\n",
              "      <td>2.961692</td>\n",
              "      <td>0.290154</td>\n",
              "      <td>1.949385</td>\n",
              "      <td>5.379538</td>\n",
              "      <td>1.069538</td>\n",
              "      <td>3.149077</td>\n",
              "      <td>1079.753846</td>\n",
              "    </tr>\n",
              "  </tbody>\n",
              "</table>\n",
              "</div>\n",
              "      <button class=\"colab-df-convert\" onclick=\"convertToInteractive('df-8728341f-e844-4d55-bdd2-fe51e498a7a5')\"\n",
              "              title=\"Convert this dataframe to an interactive table.\"\n",
              "              style=\"display:none;\">\n",
              "        \n",
              "  <svg xmlns=\"http://www.w3.org/2000/svg\" height=\"24px\"viewBox=\"0 0 24 24\"\n",
              "       width=\"24px\">\n",
              "    <path d=\"M0 0h24v24H0V0z\" fill=\"none\"/>\n",
              "    <path d=\"M18.56 5.44l.94 2.06.94-2.06 2.06-.94-2.06-.94-.94-2.06-.94 2.06-2.06.94zm-11 1L8.5 8.5l.94-2.06 2.06-.94-2.06-.94L8.5 2.5l-.94 2.06-2.06.94zm10 10l.94 2.06.94-2.06 2.06-.94-2.06-.94-.94-2.06-.94 2.06-2.06.94z\"/><path d=\"M17.41 7.96l-1.37-1.37c-.4-.4-.92-.59-1.43-.59-.52 0-1.04.2-1.43.59L10.3 9.45l-7.72 7.72c-.78.78-.78 2.05 0 2.83L4 21.41c.39.39.9.59 1.41.59.51 0 1.02-.2 1.41-.59l7.78-7.78 2.81-2.81c.8-.78.8-2.07 0-2.86zM5.41 20L4 18.59l7.72-7.72 1.47 1.35L5.41 20z\"/>\n",
              "  </svg>\n",
              "      </button>\n",
              "      \n",
              "  <style>\n",
              "    .colab-df-container {\n",
              "      display:flex;\n",
              "      flex-wrap:wrap;\n",
              "      gap: 12px;\n",
              "    }\n",
              "\n",
              "    .colab-df-convert {\n",
              "      background-color: #E8F0FE;\n",
              "      border: none;\n",
              "      border-radius: 50%;\n",
              "      cursor: pointer;\n",
              "      display: none;\n",
              "      fill: #1967D2;\n",
              "      height: 32px;\n",
              "      padding: 0 0 0 0;\n",
              "      width: 32px;\n",
              "    }\n",
              "\n",
              "    .colab-df-convert:hover {\n",
              "      background-color: #E2EBFA;\n",
              "      box-shadow: 0px 1px 2px rgba(60, 64, 67, 0.3), 0px 1px 3px 1px rgba(60, 64, 67, 0.15);\n",
              "      fill: #174EA6;\n",
              "    }\n",
              "\n",
              "    [theme=dark] .colab-df-convert {\n",
              "      background-color: #3B4455;\n",
              "      fill: #D2E3FC;\n",
              "    }\n",
              "\n",
              "    [theme=dark] .colab-df-convert:hover {\n",
              "      background-color: #434B5C;\n",
              "      box-shadow: 0px 1px 3px 1px rgba(0, 0, 0, 0.15);\n",
              "      filter: drop-shadow(0px 1px 2px rgba(0, 0, 0, 0.3));\n",
              "      fill: #FFFFFF;\n",
              "    }\n",
              "  </style>\n",
              "\n",
              "      <script>\n",
              "        const buttonEl =\n",
              "          document.querySelector('#df-8728341f-e844-4d55-bdd2-fe51e498a7a5 button.colab-df-convert');\n",
              "        buttonEl.style.display =\n",
              "          google.colab.kernel.accessAllowed ? 'block' : 'none';\n",
              "\n",
              "        async function convertToInteractive(key) {\n",
              "          const element = document.querySelector('#df-8728341f-e844-4d55-bdd2-fe51e498a7a5');\n",
              "          const dataTable =\n",
              "            await google.colab.kernel.invokeFunction('convertToInteractive',\n",
              "                                                     [key], {});\n",
              "          if (!dataTable) return;\n",
              "\n",
              "          const docLinkHtml = 'Like what you see? Visit the ' +\n",
              "            '<a target=\"_blank\" href=https://colab.research.google.com/notebooks/data_table.ipynb>data table notebook</a>'\n",
              "            + ' to learn more about interactive tables.';\n",
              "          element.innerHTML = '';\n",
              "          dataTable['output_type'] = 'display_data';\n",
              "          await google.colab.output.renderOutput(dataTable, element);\n",
              "          const docLink = document.createElement('div');\n",
              "          docLink.innerHTML = docLinkHtml;\n",
              "          element.appendChild(docLink);\n",
              "        }\n",
              "      </script>\n",
              "    </div>\n",
              "  </div>\n",
              "  "
            ]
          },
          "metadata": {},
          "execution_count": 64
        }
      ],
      "source": [
        "wine.groupby('cluster').agg(['mean']).reset_index()"
      ]
    },
    {
      "cell_type": "markdown",
      "metadata": {
        "id": "3DuadAItYaqN"
      },
      "source": [
        "### Viewing the number of wine categories in each cluster"
      ]
    },
    {
      "cell_type": "code",
      "execution_count": 65,
      "metadata": {
        "colab": {
          "base_uri": "https://localhost:8080/"
        },
        "id": "DG8UpNhDYaqO",
        "outputId": "77c7d7c3-bb70-40a5-9f11-f1cd5aa8d5a5"
      },
      "outputs": [
        {
          "output_type": "stream",
          "name": "stdout",
          "text": [
            "cluster 0\n",
            "Total Members: 66\n",
            "\n",
            "cluster 1\n",
            "Total Members: 47\n",
            "\n",
            "cluster 2\n",
            "Total Members: 65\n",
            "\n"
          ]
        }
      ],
      "source": [
        "for i in range(3):\n",
        "    print(\"cluster\", i)\n",
        "    print(\"Total Members:\", len(list(wine[wine['cluster'] == i]['Type'].values)))\n",
        "    print()"
      ]
    },
    {
      "cell_type": "markdown",
      "metadata": {
        "id": "mUVA3t3UYaqO"
      },
      "source": [
        "### Applying average linkage method"
      ]
    },
    {
      "cell_type": "code",
      "execution_count": 66,
      "metadata": {
        "colab": {
          "base_uri": "https://localhost:8080/",
          "height": 0
        },
        "id": "ZSO6MLwSYaqP",
        "outputId": "2d8a4f49-7a8c-4f87-93fb-ddcc753eb709"
      },
      "outputs": [
        {
          "output_type": "execute_result",
          "data": {
            "text/plain": [
              "Text(0.5, 1.0, 'Dendrogram')"
            ]
          },
          "metadata": {},
          "execution_count": 66
        },
        {
          "output_type": "display_data",
          "data": {
            "text/plain": [
              "<Figure size 1152x720 with 1 Axes>"
            ],
            "image/png": "[encoded data removed]"
          },
          "metadata": {
            "needs_background": "light"
          }
        }
      ],
      "source": [
        "fig=plt.figure(figsize=(16,10))\n",
        "dendrogram = sch.dendrogram(sch.linkage(wine_pca, method='average'))\n",
        "plt.title(\"Dendrogram\",size=15)"
      ]
    },
    {
      "cell_type": "code",
      "execution_count": 67,
      "metadata": {
        "id": "T9sg3yi6YaqP"
      },
      "outputs": [],
      "source": [
        "hc2_pc = AgglomerativeClustering(n_clusters=5, affinity = 'euclidean', linkage = 'average')"
      ]
    },
    {
      "cell_type": "markdown",
      "metadata": {
        "id": "VrM7c49_YaqQ"
      },
      "source": [
        "### Fit the data on the model"
      ]
    },
    {
      "cell_type": "code",
      "execution_count": 68,
      "metadata": {
        "id": "tCC8t-QmYaqQ"
      },
      "outputs": [],
      "source": [
        "y_hc2p = hc2_pc.fit_predict(wine_pca)\n",
        "Clusters=pd.DataFrame(y_hc2p,columns=['Clusters'])"
      ]
    },
    {
      "cell_type": "markdown",
      "metadata": {
        "id": "_qF69F61YaqR"
      },
      "source": [
        "### Creating a new column cluster with the clustered labels"
      ]
    },
    {
      "cell_type": "code",
      "execution_count": 69,
      "metadata": {
        "id": "3JtjhPohYaqS"
      },
      "outputs": [],
      "source": [
        "wine['cluster'] = y_hc2p"
      ]
    },
    {
      "cell_type": "code",
      "execution_count": 70,
      "metadata": {
        "colab": {
          "base_uri": "https://localhost:8080/",
          "height": 0
        },
        "id": "Duq_GWpJYaqS",
        "outputId": "19878298-833d-4912-aa5e-0218629ff9ba"
      },
      "outputs": [
        {
          "output_type": "execute_result",
          "data": {
            "text/plain": [
              "  cluster      Type    Alcohol     Malic       Ash Alcalinity   Magnesium  \\\n",
              "               mean       mean      mean      mean       mean        mean   \n",
              "0       0  2.000000  12.215833  1.971000  2.265167  20.498333   91.083333   \n",
              "1       1  1.065574  13.684754  1.945902  2.399836  16.800000  107.524590   \n",
              "2       2  2.923077  13.138077  3.261731  2.416538  21.159615   98.884615   \n",
              "3       3  2.000000  12.370000  0.940000  1.360000  10.600000   88.000000   \n",
              "4       4  1.500000  12.710000  2.090000  2.980000  26.125000  125.000000   \n",
              "\n",
              "    Phenols Flavanoids Nonflavanoids Proanthocyanins     Color       Hue  \\\n",
              "       mean       mean          mean            mean      mean      mean   \n",
              "0  2.247667   2.084500      0.361167        1.619833  2.943000  1.059100   \n",
              "1  2.809344   2.937213      0.283934        1.953115  5.449508  1.067377   \n",
              "2  1.700192   0.828077      0.453846        1.131923  7.156538  0.698269   \n",
              "3  1.980000   0.570000      0.280000        0.420000  1.950000  1.050000   \n",
              "4  2.977500   3.335000      0.385000        1.892500  4.312500  1.102500   \n",
              "\n",
              "   Dilution      Proline  \n",
              "       mean         mean  \n",
              "0  2.831833   498.683333  \n",
              "1  3.137213  1101.131148  \n",
              "2  1.701154   621.576923  \n",
              "3  1.820000   520.000000  \n",
              "4  3.330000   753.750000  "
            ],
            "text/html": [
              "\n",
              "  <div id=\"df-c7fec339-f7a1-4c6e-b3d4-e23681e3dfe1\">\n",
              "    <div class=\"colab-df-container\">\n",
              "      <div>\n",
              "<style scoped>\n",
              "    .dataframe tbody tr th:only-of-type {\n",
              "        vertical-align: middle;\n",
              "    }\n",
              "\n",
              "    .dataframe tbody tr th {\n",
              "        vertical-align: top;\n",
              "    }\n",
              "\n",
              "    .dataframe thead tr th {\n",
              "        text-align: left;\n",
              "    }\n",
              "</style>\n",
              "<table border=\"1\" class=\"dataframe\">\n",
              "  <thead>\n",
              "    <tr>\n",
              "      <th></th>\n",
              "      <th>cluster</th>\n",
              "      <th>Type</th>\n",
              "      <th>Alcohol</th>\n",
              "      <th>Malic</th>\n",
              "      <th>Ash</th>\n",
              "      <th>Alcalinity</th>\n",
              "      <th>Magnesium</th>\n",
              "      <th>Phenols</th>\n",
              "      <th>Flavanoids</th>\n",
              "      <th>Nonflavanoids</th>\n",
              "      <th>Proanthocyanins</th>\n",
              "      <th>Color</th>\n",
              "      <th>Hue</th>\n",
              "      <th>Dilution</th>\n",
              "      <th>Proline</th>\n",
              "    </tr>\n",
              "    <tr>\n",
              "      <th></th>\n",
              "      <th></th>\n",
              "      <th>mean</th>\n",
              "      <th>mean</th>\n",
              "      <th>mean</th>\n",
              "      <th>mean</th>\n",
              "      <th>mean</th>\n",
              "      <th>mean</th>\n",
              "      <th>mean</th>\n",
              "      <th>mean</th>\n",
              "      <th>mean</th>\n",
              "      <th>mean</th>\n",
              "      <th>mean</th>\n",
              "      <th>mean</th>\n",
              "      <th>mean</th>\n",
              "      <th>mean</th>\n",
              "    </tr>\n",
              "  </thead>\n",
              "  <tbody>\n",
              "    <tr>\n",
              "      <th>0</th>\n",
              "      <td>0</td>\n",
              "      <td>2.000000</td>\n",
              "      <td>12.215833</td>\n",
              "      <td>1.971000</td>\n",
              "      <td>2.265167</td>\n",
              "      <td>20.498333</td>\n",
              "      <td>91.083333</td>\n",
              "      <td>2.247667</td>\n",
              "      <td>2.084500</td>\n",
              "      <td>0.361167</td>\n",
              "      <td>1.619833</td>\n",
              "      <td>2.943000</td>\n",
              "      <td>1.059100</td>\n",
              "      <td>2.831833</td>\n",
              "      <td>498.683333</td>\n",
              "    </tr>\n",
              "    <tr>\n",
              "      <th>1</th>\n",
              "      <td>1</td>\n",
              "      <td>1.065574</td>\n",
              "      <td>13.684754</td>\n",
              "      <td>1.945902</td>\n",
              "      <td>2.399836</td>\n",
              "      <td>16.800000</td>\n",
              "      <td>107.524590</td>\n",
              "      <td>2.809344</td>\n",
              "      <td>2.937213</td>\n",
              "      <td>0.283934</td>\n",
              "      <td>1.953115</td>\n",
              "      <td>5.449508</td>\n",
              "      <td>1.067377</td>\n",
              "      <td>3.137213</td>\n",
              "      <td>1101.131148</td>\n",
              "    </tr>\n",
              "    <tr>\n",
              "      <th>2</th>\n",
              "      <td>2</td>\n",
              "      <td>2.923077</td>\n",
              "      <td>13.138077</td>\n",
              "      <td>3.261731</td>\n",
              "      <td>2.416538</td>\n",
              "      <td>21.159615</td>\n",
              "      <td>98.884615</td>\n",
              "      <td>1.700192</td>\n",
              "      <td>0.828077</td>\n",
              "      <td>0.453846</td>\n",
              "      <td>1.131923</td>\n",
              "      <td>7.156538</td>\n",
              "      <td>0.698269</td>\n",
              "      <td>1.701154</td>\n",
              "      <td>621.576923</td>\n",
              "    </tr>\n",
              "    <tr>\n",
              "      <th>3</th>\n",
              "      <td>3</td>\n",
              "      <td>2.000000</td>\n",
              "      <td>12.370000</td>\n",
              "      <td>0.940000</td>\n",
              "      <td>1.360000</td>\n",
              "      <td>10.600000</td>\n",
              "      <td>88.000000</td>\n",
              "      <td>1.980000</td>\n",
              "      <td>0.570000</td>\n",
              "      <td>0.280000</td>\n",
              "      <td>0.420000</td>\n",
              "      <td>1.950000</td>\n",
              "      <td>1.050000</td>\n",
              "      <td>1.820000</td>\n",
              "      <td>520.000000</td>\n",
              "    </tr>\n",
              "    <tr>\n",
              "      <th>4</th>\n",
              "      <td>4</td>\n",
              "      <td>1.500000</td>\n",
              "      <td>12.710000</td>\n",
              "      <td>2.090000</td>\n",
              "      <td>2.980000</td>\n",
              "      <td>26.125000</td>\n",
              "      <td>125.000000</td>\n",
              "      <td>2.977500</td>\n",
              "      <td>3.335000</td>\n",
              "      <td>0.385000</td>\n",
              "      <td>1.892500</td>\n",
              "      <td>4.312500</td>\n",
              "      <td>1.102500</td>\n",
              "      <td>3.330000</td>\n",
              "      <td>753.750000</td>\n",
              "    </tr>\n",
              "  </tbody>\n",
              "</table>\n",
              "</div>\n",
              "      <button class=\"colab-df-convert\" onclick=\"convertToInteractive('df-c7fec339-f7a1-4c6e-b3d4-e23681e3dfe1')\"\n",
              "              title=\"Convert this dataframe to an interactive table.\"\n",
              "              style=\"display:none;\">\n",
              "        \n",
              "  <svg xmlns=\"http://www.w3.org/2000/svg\" height=\"24px\"viewBox=\"0 0 24 24\"\n",
              "       width=\"24px\">\n",
              "    <path d=\"M0 0h24v24H0V0z\" fill=\"none\"/>\n",
              "    <path d=\"M18.56 5.44l.94 2.06.94-2.06 2.06-.94-2.06-.94-.94-2.06-.94 2.06-2.06.94zm-11 1L8.5 8.5l.94-2.06 2.06-.94-2.06-.94L8.5 2.5l-.94 2.06-2.06.94zm10 10l.94 2.06.94-2.06 2.06-.94-2.06-.94-.94-2.06-.94 2.06-2.06.94z\"/><path d=\"M17.41 7.96l-1.37-1.37c-.4-.4-.92-.59-1.43-.59-.52 0-1.04.2-1.43.59L10.3 9.45l-7.72 7.72c-.78.78-.78 2.05 0 2.83L4 21.41c.39.39.9.59 1.41.59.51 0 1.02-.2 1.41-.59l7.78-7.78 2.81-2.81c.8-.78.8-2.07 0-2.86zM5.41 20L4 18.59l7.72-7.72 1.47 1.35L5.41 20z\"/>\n",
              "  </svg>\n",
              "      </button>\n",
              "      \n",
              "  <style>\n",
              "    .colab-df-container {\n",
              "      display:flex;\n",
              "      flex-wrap:wrap;\n",
              "      gap: 12px;\n",
              "    }\n",
              "\n",
              "    .colab-df-convert {\n",
              "      background-color: #E8F0FE;\n",
              "      border: none;\n",
              "      border-radius: 50%;\n",
              "      cursor: pointer;\n",
              "      display: none;\n",
              "      fill: #1967D2;\n",
              "      height: 32px;\n",
              "      padding: 0 0 0 0;\n",
              "      width: 32px;\n",
              "    }\n",
              "\n",
              "    .colab-df-convert:hover {\n",
              "      background-color: #E2EBFA;\n",
              "      box-shadow: 0px 1px 2px rgba(60, 64, 67, 0.3), 0px 1px 3px 1px rgba(60, 64, 67, 0.15);\n",
              "      fill: #174EA6;\n",
              "    }\n",
              "\n",
              "    [theme=dark] .colab-df-convert {\n",
              "      background-color: #3B4455;\n",
              "      fill: #D2E3FC;\n",
              "    }\n",
              "\n",
              "    [theme=dark] .colab-df-convert:hover {\n",
              "      background-color: #434B5C;\n",
              "      box-shadow: 0px 1px 3px 1px rgba(0, 0, 0, 0.15);\n",
              "      filter: drop-shadow(0px 1px 2px rgba(0, 0, 0, 0.3));\n",
              "      fill: #FFFFFF;\n",
              "    }\n",
              "  </style>\n",
              "\n",
              "      <script>\n",
              "        const buttonEl =\n",
              "          document.querySelector('#df-c7fec339-f7a1-4c6e-b3d4-e23681e3dfe1 button.colab-df-convert');\n",
              "        buttonEl.style.display =\n",
              "          google.colab.kernel.accessAllowed ? 'block' : 'none';\n",
              "\n",
              "        async function convertToInteractive(key) {\n",
              "          const element = document.querySelector('#df-c7fec339-f7a1-4c6e-b3d4-e23681e3dfe1');\n",
              "          const dataTable =\n",
              "            await google.colab.kernel.invokeFunction('convertToInteractive',\n",
              "                                                     [key], {});\n",
              "          if (!dataTable) return;\n",
              "\n",
              "          const docLinkHtml = 'Like what you see? Visit the ' +\n",
              "            '<a target=\"_blank\" href=https://colab.research.google.com/notebooks/data_table.ipynb>data table notebook</a>'\n",
              "            + ' to learn more about interactive tables.';\n",
              "          element.innerHTML = '';\n",
              "          dataTable['output_type'] = 'display_data';\n",
              "          await google.colab.output.renderOutput(dataTable, element);\n",
              "          const docLink = document.createElement('div');\n",
              "          docLink.innerHTML = docLinkHtml;\n",
              "          element.appendChild(docLink);\n",
              "        }\n",
              "      </script>\n",
              "    </div>\n",
              "  </div>\n",
              "  "
            ]
          },
          "metadata": {},
          "execution_count": 70
        }
      ],
      "source": [
        "wine.groupby('cluster').agg(['mean']).reset_index()"
      ]
    },
    {
      "cell_type": "markdown",
      "metadata": {
        "id": "gYG0_pRgYaqT"
      },
      "source": [
        "### Viewing the number of categories in each cluster"
      ]
    },
    {
      "cell_type": "code",
      "execution_count": 71,
      "metadata": {
        "colab": {
          "base_uri": "https://localhost:8080/"
        },
        "id": "NuuPuVjuYaqU",
        "outputId": "c3e56091-ae95-40ed-e911-abf7e17a655e"
      },
      "outputs": [
        {
          "output_type": "stream",
          "name": "stdout",
          "text": [
            "cluster 0\n",
            "Total Members: 60\n",
            "\n",
            "cluster 1\n",
            "Total Members: 61\n",
            "\n",
            "cluster 2\n",
            "Total Members: 52\n",
            "\n",
            "cluster 3\n",
            "Total Members: 1\n",
            "\n",
            "cluster 4\n",
            "Total Members: 4\n",
            "\n"
          ]
        }
      ],
      "source": [
        "for i in range(5):\n",
        "    print(\"cluster\", i)\n",
        "    print(\"Total Members:\", len(list(wine[wine['cluster'] == i]['Type'].values)))\n",
        "    print()"
      ]
    },
    {
      "cell_type": "markdown",
      "metadata": {
        "id": "QVzkU2SaYaqU"
      },
      "source": [
        "### Applying complete linakge method"
      ]
    },
    {
      "cell_type": "code",
      "execution_count": 72,
      "metadata": {
        "colab": {
          "base_uri": "https://localhost:8080/",
          "height": 0
        },
        "id": "rt9iKeHAYaqV",
        "outputId": "e78b649b-5a24-4257-e58f-b257615fb8a5"
      },
      "outputs": [
        {
          "output_type": "execute_result",
          "data": {
            "text/plain": [
              "Text(0.5, 1.0, 'Dendrogram')"
            ]
          },
          "metadata": {},
          "execution_count": 72
        },
        {
          "output_type": "display_data",
          "data": {
            "text/plain": [
              "<Figure size 1152x720 with 1 Axes>"
            ],
            "image/png": "[encoded data removed]"
          },
          "metadata": {
            "needs_background": "light"
          }
        }
      ],
      "source": [
        "fig=plt.figure(figsize=(16,10))\n",
        "dendrogram = sch.dendrogram(sch.linkage(wine_pca, method='complete'))\n",
        "plt.title(\"Dendrogram\",size=15)"
      ]
    },
    {
      "cell_type": "code",
      "execution_count": 73,
      "metadata": {
        "id": "mkD8H5XQYaqW"
      },
      "outputs": [],
      "source": [
        "hc3_pc = AgglomerativeClustering(n_clusters=4, affinity = 'euclidean', linkage = 'complete')"
      ]
    },
    {
      "cell_type": "code",
      "execution_count": 74,
      "metadata": {
        "id": "nZjEHxlxYaqW"
      },
      "outputs": [],
      "source": [
        "y_hc3p = hc3_pc.fit_predict(wine_pca)\n",
        "Clusters=pd.DataFrame(y_hc3p,columns=['Clusters'])"
      ]
    },
    {
      "cell_type": "code",
      "execution_count": 75,
      "metadata": {
        "id": "_blCio60YaqX"
      },
      "outputs": [],
      "source": [
        "wine['cluster'] = y_hc3p"
      ]
    },
    {
      "cell_type": "code",
      "execution_count": 76,
      "metadata": {
        "colab": {
          "base_uri": "https://localhost:8080/",
          "height": 0
        },
        "id": "L4bsTyrMYaqX",
        "outputId": "efbe0f6a-7606-4323-c17d-f6c29c2be4c4"
      },
      "outputs": [
        {
          "output_type": "execute_result",
          "data": {
            "text/plain": [
              "  cluster      Type    Alcohol     Malic       Ash Alcalinity   Magnesium  \\\n",
              "               mean       mean      mean      mean       mean        mean   \n",
              "0       0  1.964286  12.193929  2.023571  2.449286  22.453571   94.321429   \n",
              "1       1  2.940000  13.115600  3.381800  2.449800  21.750000   98.480000   \n",
              "2       2  2.045455  12.429091  1.612727  1.984545  17.918182   91.772727   \n",
              "3       3  1.256410  13.377692  1.982564  2.391154  17.432051  104.743590   \n",
              "\n",
              "    Phenols Flavanoids Nonflavanoids Proanthocyanins     Color       Hue  \\\n",
              "       mean       mean          mean            mean      mean      mean   \n",
              "0  2.129643   2.066786      0.422857        1.504643  2.934643  1.050000   \n",
              "1  1.701000   0.844400      0.457800        1.190400  7.216000  0.694800   \n",
              "2  2.021818   1.668636      0.349545        1.211818  3.138636  1.044364   \n",
              "3  2.812436   2.877051      0.281923        1.985513  4.978462  1.068077   \n",
              "\n",
              "   Dilution     Proline  \n",
              "       mean        mean  \n",
              "0  2.814643  503.571429  \n",
              "1  1.741800  619.020000  \n",
              "2  2.534091  522.863636  \n",
              "3  3.118333  979.397436  "
            ],
            "text/html": [
              "\n",
              "  <div id=\"df-9da311b2-6a0c-4c99-a0cc-0de6edc9cbbb\">\n",
              "    <div class=\"colab-df-container\">\n",
              "      <div>\n",
              "<style scoped>\n",
              "    .dataframe tbody tr th:only-of-type {\n",
              "        vertical-align: middle;\n",
              "    }\n",
              "\n",
              "    .dataframe tbody tr th {\n",
              "        vertical-align: top;\n",
              "    }\n",
              "\n",
              "    .dataframe thead tr th {\n",
              "        text-align: left;\n",
              "    }\n",
              "</style>\n",
              "<table border=\"1\" class=\"dataframe\">\n",
              "  <thead>\n",
              "    <tr>\n",
              "      <th></th>\n",
              "      <th>cluster</th>\n",
              "      <th>Type</th>\n",
              "      <th>Alcohol</th>\n",
              "      <th>Malic</th>\n",
              "      <th>Ash</th>\n",
              "      <th>Alcalinity</th>\n",
              "      <th>Magnesium</th>\n",
              "      <th>Phenols</th>\n",
              "      <th>Flavanoids</th>\n",
              "      <th>Nonflavanoids</th>\n",
              "      <th>Proanthocyanins</th>\n",
              "      <th>Color</th>\n",
              "      <th>Hue</th>\n",
              "      <th>Dilution</th>\n",
              "      <th>Proline</th>\n",
              "    </tr>\n",
              "    <tr>\n",
              "      <th></th>\n",
              "      <th></th>\n",
              "      <th>mean</th>\n",
              "      <th>mean</th>\n",
              "      <th>mean</th>\n",
              "      <th>mean</th>\n",
              "      <th>mean</th>\n",
              "      <th>mean</th>\n",
              "      <th>mean</th>\n",
              "      <th>mean</th>\n",
              "      <th>mean</th>\n",
              "      <th>mean</th>\n",
              "      <th>mean</th>\n",
              "      <th>mean</th>\n",
              "      <th>mean</th>\n",
              "      <th>mean</th>\n",
              "    </tr>\n",
              "  </thead>\n",
              "  <tbody>\n",
              "    <tr>\n",
              "      <th>0</th>\n",
              "      <td>0</td>\n",
              "      <td>1.964286</td>\n",
              "      <td>12.193929</td>\n",
              "      <td>2.023571</td>\n",
              "      <td>2.449286</td>\n",
              "      <td>22.453571</td>\n",
              "      <td>94.321429</td>\n",
              "      <td>2.129643</td>\n",
              "      <td>2.066786</td>\n",
              "      <td>0.422857</td>\n",
              "      <td>1.504643</td>\n",
              "      <td>2.934643</td>\n",
              "      <td>1.050000</td>\n",
              "      <td>2.814643</td>\n",
              "      <td>503.571429</td>\n",
              "    </tr>\n",
              "    <tr>\n",
              "      <th>1</th>\n",
              "      <td>1</td>\n",
              "      <td>2.940000</td>\n",
              "      <td>13.115600</td>\n",
              "      <td>3.381800</td>\n",
              "      <td>2.449800</td>\n",
              "      <td>21.750000</td>\n",
              "      <td>98.480000</td>\n",
              "      <td>1.701000</td>\n",
              "      <td>0.844400</td>\n",
              "      <td>0.457800</td>\n",
              "      <td>1.190400</td>\n",
              "      <td>7.216000</td>\n",
              "      <td>0.694800</td>\n",
              "      <td>1.741800</td>\n",
              "      <td>619.020000</td>\n",
              "    </tr>\n",
              "    <tr>\n",
              "      <th>2</th>\n",
              "      <td>2</td>\n",
              "      <td>2.045455</td>\n",
              "      <td>12.429091</td>\n",
              "      <td>1.612727</td>\n",
              "      <td>1.984545</td>\n",
              "      <td>17.918182</td>\n",
              "      <td>91.772727</td>\n",
              "      <td>2.021818</td>\n",
              "      <td>1.668636</td>\n",
              "      <td>0.349545</td>\n",
              "      <td>1.211818</td>\n",
              "      <td>3.138636</td>\n",
              "      <td>1.044364</td>\n",
              "      <td>2.534091</td>\n",
              "      <td>522.863636</td>\n",
              "    </tr>\n",
              "    <tr>\n",
              "      <th>3</th>\n",
              "      <td>3</td>\n",
              "      <td>1.256410</td>\n",
              "      <td>13.377692</td>\n",
              "      <td>1.982564</td>\n",
              "      <td>2.391154</td>\n",
              "      <td>17.432051</td>\n",
              "      <td>104.743590</td>\n",
              "      <td>2.812436</td>\n",
              "      <td>2.877051</td>\n",
              "      <td>0.281923</td>\n",
              "      <td>1.985513</td>\n",
              "      <td>4.978462</td>\n",
              "      <td>1.068077</td>\n",
              "      <td>3.118333</td>\n",
              "      <td>979.397436</td>\n",
              "    </tr>\n",
              "  </tbody>\n",
              "</table>\n",
              "</div>\n",
              "      <button class=\"colab-df-convert\" onclick=\"convertToInteractive('df-9da311b2-6a0c-4c99-a0cc-0de6edc9cbbb')\"\n",
              "              title=\"Convert this dataframe to an interactive table.\"\n",
              "              style=\"display:none;\">\n",
              "        \n",
              "  <svg xmlns=\"http://www.w3.org/2000/svg\" height=\"24px\"viewBox=\"0 0 24 24\"\n",
              "       width=\"24px\">\n",
              "    <path d=\"M0 0h24v24H0V0z\" fill=\"none\"/>\n",
              "    <path d=\"M18.56 5.44l.94 2.06.94-2.06 2.06-.94-2.06-.94-.94-2.06-.94 2.06-2.06.94zm-11 1L8.5 8.5l.94-2.06 2.06-.94-2.06-.94L8.5 2.5l-.94 2.06-2.06.94zm10 10l.94 2.06.94-2.06 2.06-.94-2.06-.94-.94-2.06-.94 2.06-2.06.94z\"/><path d=\"M17.41 7.96l-1.37-1.37c-.4-.4-.92-.59-1.43-.59-.52 0-1.04.2-1.43.59L10.3 9.45l-7.72 7.72c-.78.78-.78 2.05 0 2.83L4 21.41c.39.39.9.59 1.41.59.51 0 1.02-.2 1.41-.59l7.78-7.78 2.81-2.81c.8-.78.8-2.07 0-2.86zM5.41 20L4 18.59l7.72-7.72 1.47 1.35L5.41 20z\"/>\n",
              "  </svg>\n",
              "      </button>\n",
              "      \n",
              "  <style>\n",
              "    .colab-df-container {\n",
              "      display:flex;\n",
              "      flex-wrap:wrap;\n",
              "      gap: 12px;\n",
              "    }\n",
              "\n",
              "    .colab-df-convert {\n",
              "      background-color: #E8F0FE;\n",
              "      border: none;\n",
              "      border-radius: 50%;\n",
              "      cursor: pointer;\n",
              "      display: none;\n",
              "      fill: #1967D2;\n",
              "      height: 32px;\n",
              "      padding: 0 0 0 0;\n",
              "      width: 32px;\n",
              "    }\n",
              "\n",
              "    .colab-df-convert:hover {\n",
              "      background-color: #E2EBFA;\n",
              "      box-shadow: 0px 1px 2px rgba(60, 64, 67, 0.3), 0px 1px 3px 1px rgba(60, 64, 67, 0.15);\n",
              "      fill: #174EA6;\n",
              "    }\n",
              "\n",
              "    [theme=dark] .colab-df-convert {\n",
              "      background-color: #3B4455;\n",
              "      fill: #D2E3FC;\n",
              "    }\n",
              "\n",
              "    [theme=dark] .colab-df-convert:hover {\n",
              "      background-color: #434B5C;\n",
              "      box-shadow: 0px 1px 3px 1px rgba(0, 0, 0, 0.15);\n",
              "      filter: drop-shadow(0px 1px 2px rgba(0, 0, 0, 0.3));\n",
              "      fill: #FFFFFF;\n",
              "    }\n",
              "  </style>\n",
              "\n",
              "      <script>\n",
              "        const buttonEl =\n",
              "          document.querySelector('#df-9da311b2-6a0c-4c99-a0cc-0de6edc9cbbb button.colab-df-convert');\n",
              "        buttonEl.style.display =\n",
              "          google.colab.kernel.accessAllowed ? 'block' : 'none';\n",
              "\n",
              "        async function convertToInteractive(key) {\n",
              "          const element = document.querySelector('#df-9da311b2-6a0c-4c99-a0cc-0de6edc9cbbb');\n",
              "          const dataTable =\n",
              "            await google.colab.kernel.invokeFunction('convertToInteractive',\n",
              "                                                     [key], {});\n",
              "          if (!dataTable) return;\n",
              "\n",
              "          const docLinkHtml = 'Like what you see? Visit the ' +\n",
              "            '<a target=\"_blank\" href=https://colab.research.google.com/notebooks/data_table.ipynb>data table notebook</a>'\n",
              "            + ' to learn more about interactive tables.';\n",
              "          element.innerHTML = '';\n",
              "          dataTable['output_type'] = 'display_data';\n",
              "          await google.colab.output.renderOutput(dataTable, element);\n",
              "          const docLink = document.createElement('div');\n",
              "          docLink.innerHTML = docLinkHtml;\n",
              "          element.appendChild(docLink);\n",
              "        }\n",
              "      </script>\n",
              "    </div>\n",
              "  </div>\n",
              "  "
            ]
          },
          "metadata": {},
          "execution_count": 76
        }
      ],
      "source": [
        "wine.groupby('cluster').agg(['mean']).reset_index()"
      ]
    },
    {
      "cell_type": "markdown",
      "metadata": {
        "id": "25AHNfN1YaqX"
      },
      "source": [
        "### Viewing the number of wine categories in each cluster"
      ]
    },
    {
      "cell_type": "code",
      "execution_count": 77,
      "metadata": {
        "colab": {
          "base_uri": "https://localhost:8080/"
        },
        "id": "7HfGIaIqYaqY",
        "outputId": "8360d88f-623b-4729-a295-243ecae71068"
      },
      "outputs": [
        {
          "output_type": "stream",
          "name": "stdout",
          "text": [
            "cluster 0\n",
            "Total Members: 28\n",
            "\n",
            "cluster 1\n",
            "Total Members: 50\n",
            "\n",
            "cluster 2\n",
            "Total Members: 22\n",
            "\n",
            "cluster 3\n",
            "Total Members: 78\n",
            "\n"
          ]
        }
      ],
      "source": [
        "for i in range(4):\n",
        "    print(\"cluster\", i)\n",
        "    print(\"Total Members:\", len(list(wine[wine['cluster'] == i]['Type'].values)))\n",
        "    print()"
      ]
    },
    {
      "cell_type": "markdown",
      "metadata": {
        "id": "-C_25ZVZYaqY"
      },
      "source": [
        "### Applying single linkage method"
      ]
    },
    {
      "cell_type": "code",
      "execution_count": 78,
      "metadata": {
        "colab": {
          "base_uri": "https://localhost:8080/",
          "height": 0
        },
        "id": "WRAcZ2AqYaqY",
        "outputId": "f42b28fb-5d2b-4623-9598-0096e5fc795b"
      },
      "outputs": [
        {
          "output_type": "execute_result",
          "data": {
            "text/plain": [
              "Text(0.5, 1.0, 'Dendrogram')"
            ]
          },
          "metadata": {},
          "execution_count": 78
        },
        {
          "output_type": "display_data",
          "data": {
            "text/plain": [
              "<Figure size 1152x720 with 1 Axes>"
            ],
            "image/png": "[encoded data removed]"
          },
          "metadata": {
            "needs_background": "light"
          }
        }
      ],
      "source": [
        "fig=plt.figure(figsize=(16,10))\n",
        "dendrogram = sch.dendrogram(sch.linkage(wine_pca, method='single'))\n",
        "plt.title(\"Dendrogram\",size=15)"
      ]
    },
    {
      "cell_type": "code",
      "execution_count": 79,
      "metadata": {
        "id": "pMsN7upsYaqZ"
      },
      "outputs": [],
      "source": [
        "hc4_pc = AgglomerativeClustering(n_clusters=2, affinity = 'euclidean', linkage = 'single')"
      ]
    },
    {
      "cell_type": "code",
      "execution_count": 80,
      "metadata": {
        "id": "qN0JLBlXYaqZ"
      },
      "outputs": [],
      "source": [
        "y_hc4p = hc4_pc.fit_predict(wine_pca)\n",
        "Clusters=pd.DataFrame(y_hc4p,columns=['Clusters'])"
      ]
    },
    {
      "cell_type": "code",
      "execution_count": 81,
      "metadata": {
        "id": "l2bcLn1iYaqZ"
      },
      "outputs": [],
      "source": [
        "wine['cluster'] = y_hc4p"
      ]
    },
    {
      "cell_type": "markdown",
      "metadata": {
        "id": "m3wxDxarYaqa"
      },
      "source": [
        "### Viewing the numebr of wine categories in each cluster"
      ]
    },
    {
      "cell_type": "code",
      "execution_count": 82,
      "metadata": {
        "colab": {
          "base_uri": "https://localhost:8080/"
        },
        "id": "pITvblLwYaqa",
        "outputId": "70ed5f92-73fb-484f-f85b-b0debca5ee90"
      },
      "outputs": [
        {
          "output_type": "stream",
          "name": "stdout",
          "text": [
            "cluster 0\n",
            "Total Members: 177\n",
            "\n",
            "cluster 1\n",
            "Total Members: 1\n",
            "\n"
          ]
        }
      ],
      "source": [
        "for i in range(2):\n",
        "    print(\"cluster\", i)\n",
        "    print(\"Total Members:\", len(list(wine[wine['cluster'] == i]['Type'].values)))\n",
        "    print()"
      ]
    },
    {
      "cell_type": "markdown",
      "metadata": {
        "id": "t1HrekJrYaqa"
      },
      "source": [
        "### Applying kmeans clustering "
      ]
    },
    {
      "cell_type": "code",
      "execution_count": 83,
      "metadata": {
        "colab": {
          "base_uri": "https://localhost:8080/",
          "height": 0
        },
        "id": "ZzzCqwhBYaqb",
        "outputId": "66cb5a9f-873d-4295-b301-5d615a9850f9"
      },
      "outputs": [
        {
          "output_type": "display_data",
          "data": {
            "text/plain": [
              "<Figure size 432x288 with 1 Axes>"
            ],
            "image/png": "[encoded data removed]"
          },
          "metadata": {
            "needs_background": "light"
          }
        }
      ],
      "source": [
        "wcss = []\n",
        "for i in range(1, 11):\n",
        "    kmeans = KMeans(n_clusters=i,random_state=0)\n",
        "    kmeans.fit(wine_pca)\n",
        "    wcss.append(kmeans.inertia_)\n",
        "    \n",
        "plt.plot(range(1, 11), wcss)\n",
        "plt.title('Elbow Method')\n",
        "plt.xlabel('Number of clusters')\n",
        "plt.ylabel('WCSS')\n",
        "plt.show()"
      ]
    },
    {
      "cell_type": "markdown",
      "metadata": {
        "id": "EvuW6U2jYaqc"
      },
      "source": [
        "### Creating a Kmeans model with three clusters and fitting on the pca data"
      ]
    },
    {
      "cell_type": "code",
      "execution_count": 84,
      "metadata": {
        "colab": {
          "base_uri": "https://localhost:8080/"
        },
        "id": "wnxrfOSnYaqc",
        "outputId": "ea2b65c7-6f4a-4d57-e756-fa7769b02faf"
      },
      "outputs": [
        {
          "output_type": "execute_result",
          "data": {
            "text/plain": [
              "KMeans(n_clusters=3, random_state=42)"
            ]
          },
          "metadata": {},
          "execution_count": 84
        }
      ],
      "source": [
        "from sklearn.cluster import KMeans\n",
        "clusters_new = KMeans(3, random_state=42)\n",
        "clusters_new.fit(wine_pca)"
      ]
    },
    {
      "cell_type": "code",
      "execution_count": 85,
      "metadata": {
        "id": "MH-CemMpYaqe"
      },
      "outputs": [],
      "source": [
        "KM_pca_label=clusters_new.labels_"
      ]
    },
    {
      "cell_type": "code",
      "execution_count": 86,
      "metadata": {
        "id": "jZHckHWEYaqe"
      },
      "outputs": [],
      "source": [
        "wine['cluster'] = clusters_new.labels_"
      ]
    },
    {
      "cell_type": "code",
      "execution_count": 87,
      "metadata": {
        "colab": {
          "base_uri": "https://localhost:8080/"
        },
        "id": "xOKMDAE-Yaqf",
        "outputId": "e4e4f9df-dacf-4cbd-bddb-5dbbdc191fa5"
      },
      "outputs": [
        {
          "output_type": "execute_result",
          "data": {
            "text/plain": [
              "array([[-2.72003575e+00, -1.12565126e+00, -2.39093241e-01],\n",
              "       [ 2.27619360e+00, -9.32054027e-01,  1.52803156e-03],\n",
              "       [-3.69566084e-02,  1.77223945e+00,  1.86138728e-01]])"
            ]
          },
          "metadata": {},
          "execution_count": 87
        }
      ],
      "source": [
        "clusters_new.cluster_centers_"
      ]
    },
    {
      "cell_type": "code",
      "execution_count": 88,
      "metadata": {
        "colab": {
          "base_uri": "https://localhost:8080/",
          "height": 0
        },
        "id": "z9MfAWM2Yaqh",
        "outputId": "dee17163-0cc2-4689-a7a1-7790574bc966"
      },
      "outputs": [
        {
          "output_type": "execute_result",
          "data": {
            "text/plain": [
              "  cluster      Type    Alcohol     Malic       Ash Alcalinity   Magnesium  \\\n",
              "               mean       mean      mean      mean       mean        mean   \n",
              "0       0  2.941176  13.134118  3.307255  2.417647  21.241176   98.666667   \n",
              "1       1  1.048387  13.676774  1.997903  2.466290  17.462903  107.967742   \n",
              "2       2  2.000000  12.250923  1.897385  2.231231  20.063077   92.738462   \n",
              "\n",
              "    Phenols Flavanoids Nonflavanoids Proanthocyanins     Color       Hue  \\\n",
              "       mean       mean          mean            mean      mean      mean   \n",
              "0  1.683922   0.818824      0.451961        1.145882  7.234706  0.691961   \n",
              "1  2.847581   3.003226      0.292097        1.922097  5.453548  1.065484   \n",
              "2  2.247692   2.050000      0.357692        1.624154  2.973077  1.062708   \n",
              "\n",
              "   Dilution      Proline  \n",
              "       mean         mean  \n",
              "0  1.696667   619.058824  \n",
              "1  3.163387  1100.225806  \n",
              "2  2.803385   510.169231  "
            ],
            "text/html": [
              "\n",
              "  <div id=\"df-8dc6e7fe-9b65-4c6c-a7fa-92be265544bc\">\n",
              "    <div class=\"colab-df-container\">\n",
              "      <div>\n",
              "<style scoped>\n",
              "    .dataframe tbody tr th:only-of-type {\n",
              "        vertical-align: middle;\n",
              "    }\n",
              "\n",
              "    .dataframe tbody tr th {\n",
              "        vertical-align: top;\n",
              "    }\n",
              "\n",
              "    .dataframe thead tr th {\n",
              "        text-align: left;\n",
              "    }\n",
              "</style>\n",
              "<table border=\"1\" class=\"dataframe\">\n",
              "  <thead>\n",
              "    <tr>\n",
              "      <th></th>\n",
              "      <th>cluster</th>\n",
              "      <th>Type</th>\n",
              "      <th>Alcohol</th>\n",
              "      <th>Malic</th>\n",
              "      <th>Ash</th>\n",
              "      <th>Alcalinity</th>\n",
              "      <th>Magnesium</th>\n",
              "      <th>Phenols</th>\n",
              "      <th>Flavanoids</th>\n",
              "      <th>Nonflavanoids</th>\n",
              "      <th>Proanthocyanins</th>\n",
              "      <th>Color</th>\n",
              "      <th>Hue</th>\n",
              "      <th>Dilution</th>\n",
              "      <th>Proline</th>\n",
              "    </tr>\n",
              "    <tr>\n",
              "      <th></th>\n",
              "      <th></th>\n",
              "      <th>mean</th>\n",
              "      <th>mean</th>\n",
              "      <th>mean</th>\n",
              "      <th>mean</th>\n",
              "      <th>mean</th>\n",
              "      <th>mean</th>\n",
              "      <th>mean</th>\n",
              "      <th>mean</th>\n",
              "      <th>mean</th>\n",
              "      <th>mean</th>\n",
              "      <th>mean</th>\n",
              "      <th>mean</th>\n",
              "      <th>mean</th>\n",
              "      <th>mean</th>\n",
              "    </tr>\n",
              "  </thead>\n",
              "  <tbody>\n",
              "    <tr>\n",
              "      <th>0</th>\n",
              "      <td>0</td>\n",
              "      <td>2.941176</td>\n",
              "      <td>13.134118</td>\n",
              "      <td>3.307255</td>\n",
              "      <td>2.417647</td>\n",
              "      <td>21.241176</td>\n",
              "      <td>98.666667</td>\n",
              "      <td>1.683922</td>\n",
              "      <td>0.818824</td>\n",
              "      <td>0.451961</td>\n",
              "      <td>1.145882</td>\n",
              "      <td>7.234706</td>\n",
              "      <td>0.691961</td>\n",
              "      <td>1.696667</td>\n",
              "      <td>619.058824</td>\n",
              "    </tr>\n",
              "    <tr>\n",
              "      <th>1</th>\n",
              "      <td>1</td>\n",
              "      <td>1.048387</td>\n",
              "      <td>13.676774</td>\n",
              "      <td>1.997903</td>\n",
              "      <td>2.466290</td>\n",
              "      <td>17.462903</td>\n",
              "      <td>107.967742</td>\n",
              "      <td>2.847581</td>\n",
              "      <td>3.003226</td>\n",
              "      <td>0.292097</td>\n",
              "      <td>1.922097</td>\n",
              "      <td>5.453548</td>\n",
              "      <td>1.065484</td>\n",
              "      <td>3.163387</td>\n",
              "      <td>1100.225806</td>\n",
              "    </tr>\n",
              "    <tr>\n",
              "      <th>2</th>\n",
              "      <td>2</td>\n",
              "      <td>2.000000</td>\n",
              "      <td>12.250923</td>\n",
              "      <td>1.897385</td>\n",
              "      <td>2.231231</td>\n",
              "      <td>20.063077</td>\n",
              "      <td>92.738462</td>\n",
              "      <td>2.247692</td>\n",
              "      <td>2.050000</td>\n",
              "      <td>0.357692</td>\n",
              "      <td>1.624154</td>\n",
              "      <td>2.973077</td>\n",
              "      <td>1.062708</td>\n",
              "      <td>2.803385</td>\n",
              "      <td>510.169231</td>\n",
              "    </tr>\n",
              "  </tbody>\n",
              "</table>\n",
              "</div>\n",
              "      <button class=\"colab-df-convert\" onclick=\"convertToInteractive('df-8dc6e7fe-9b65-4c6c-a7fa-92be265544bc')\"\n",
              "              title=\"Convert this dataframe to an interactive table.\"\n",
              "              style=\"display:none;\">\n",
              "        \n",
              "  <svg xmlns=\"http://www.w3.org/2000/svg\" height=\"24px\"viewBox=\"0 0 24 24\"\n",
              "       width=\"24px\">\n",
              "    <path d=\"M0 0h24v24H0V0z\" fill=\"none\"/>\n",
              "    <path d=\"M18.56 5.44l.94 2.06.94-2.06 2.06-.94-2.06-.94-.94-2.06-.94 2.06-2.06.94zm-11 1L8.5 8.5l.94-2.06 2.06-.94-2.06-.94L8.5 2.5l-.94 2.06-2.06.94zm10 10l.94 2.06.94-2.06 2.06-.94-2.06-.94-.94-2.06-.94 2.06-2.06.94z\"/><path d=\"M17.41 7.96l-1.37-1.37c-.4-.4-.92-.59-1.43-.59-.52 0-1.04.2-1.43.59L10.3 9.45l-7.72 7.72c-.78.78-.78 2.05 0 2.83L4 21.41c.39.39.9.59 1.41.59.51 0 1.02-.2 1.41-.59l7.78-7.78 2.81-2.81c.8-.78.8-2.07 0-2.86zM5.41 20L4 18.59l7.72-7.72 1.47 1.35L5.41 20z\"/>\n",
              "  </svg>\n",
              "      </button>\n",
              "      \n",
              "  <style>\n",
              "    .colab-df-container {\n",
              "      display:flex;\n",
              "      flex-wrap:wrap;\n",
              "      gap: 12px;\n",
              "    }\n",
              "\n",
              "    .colab-df-convert {\n",
              "      background-color: #E8F0FE;\n",
              "      border: none;\n",
              "      border-radius: 50%;\n",
              "      cursor: pointer;\n",
              "      display: none;\n",
              "      fill: #1967D2;\n",
              "      height: 32px;\n",
              "      padding: 0 0 0 0;\n",
              "      width: 32px;\n",
              "    }\n",
              "\n",
              "    .colab-df-convert:hover {\n",
              "      background-color: #E2EBFA;\n",
              "      box-shadow: 0px 1px 2px rgba(60, 64, 67, 0.3), 0px 1px 3px 1px rgba(60, 64, 67, 0.15);\n",
              "      fill: #174EA6;\n",
              "    }\n",
              "\n",
              "    [theme=dark] .colab-df-convert {\n",
              "      background-color: #3B4455;\n",
              "      fill: #D2E3FC;\n",
              "    }\n",
              "\n",
              "    [theme=dark] .colab-df-convert:hover {\n",
              "      background-color: #434B5C;\n",
              "      box-shadow: 0px 1px 3px 1px rgba(0, 0, 0, 0.15);\n",
              "      filter: drop-shadow(0px 1px 2px rgba(0, 0, 0, 0.3));\n",
              "      fill: #FFFFFF;\n",
              "    }\n",
              "  </style>\n",
              "\n",
              "      <script>\n",
              "        const buttonEl =\n",
              "          document.querySelector('#df-8dc6e7fe-9b65-4c6c-a7fa-92be265544bc button.colab-df-convert');\n",
              "        buttonEl.style.display =\n",
              "          google.colab.kernel.accessAllowed ? 'block' : 'none';\n",
              "\n",
              "        async function convertToInteractive(key) {\n",
              "          const element = document.querySelector('#df-8dc6e7fe-9b65-4c6c-a7fa-92be265544bc');\n",
              "          const dataTable =\n",
              "            await google.colab.kernel.invokeFunction('convertToInteractive',\n",
              "                                                     [key], {});\n",
              "          if (!dataTable) return;\n",
              "\n",
              "          const docLinkHtml = 'Like what you see? Visit the ' +\n",
              "            '<a target=\"_blank\" href=https://colab.research.google.com/notebooks/data_table.ipynb>data table notebook</a>'\n",
              "            + ' to learn more about interactive tables.';\n",
              "          element.innerHTML = '';\n",
              "          dataTable['output_type'] = 'display_data';\n",
              "          await google.colab.output.renderOutput(dataTable, element);\n",
              "          const docLink = document.createElement('div');\n",
              "          docLink.innerHTML = docLinkHtml;\n",
              "          element.appendChild(docLink);\n",
              "        }\n",
              "      </script>\n",
              "    </div>\n",
              "  </div>\n",
              "  "
            ]
          },
          "metadata": {},
          "execution_count": 88
        }
      ],
      "source": [
        "wine.groupby('cluster').agg(['mean']).reset_index()"
      ]
    },
    {
      "cell_type": "markdown",
      "metadata": {
        "id": "TmIvsYIGYaqi"
      },
      "source": [
        "### Viewing the number of wine categories in each cluster"
      ]
    },
    {
      "cell_type": "code",
      "execution_count": 89,
      "metadata": {
        "colab": {
          "base_uri": "https://localhost:8080/"
        },
        "id": "02WYW_jsYaqi",
        "outputId": "c674a388-f175-4500-9322-82efab9410f6"
      },
      "outputs": [
        {
          "output_type": "stream",
          "name": "stdout",
          "text": [
            "cluster 0\n",
            "Total Members: 51\n",
            "\n",
            "cluster 1\n",
            "Total Members: 62\n",
            "\n",
            "cluster 2\n",
            "Total Members: 65\n",
            "\n"
          ]
        }
      ],
      "source": [
        "for i in range(3):\n",
        "    print(\"cluster\", i)\n",
        "    print(\"Total Members:\", len(list(wine[wine['cluster'] == i]['Type'].values)))\n",
        "    print()"
      ]
    },
    {
      "cell_type": "markdown",
      "metadata": {
        "id": "vGLp-TTjYaqj"
      },
      "source": [
        "# Calculating the silhouette score on the pca clusters"
      ]
    },
    {
      "cell_type": "code",
      "execution_count": 90,
      "metadata": {
        "colab": {
          "base_uri": "https://localhost:8080/"
        },
        "id": "VTGViSSQYaqk",
        "outputId": "022aad72-fa84-4b01-873d-540ddf06a22f"
      },
      "outputs": [
        {
          "output_type": "execute_result",
          "data": {
            "text/plain": [
              "0.44594921980629687"
            ]
          },
          "metadata": {},
          "execution_count": 90
        }
      ],
      "source": [
        "SH_ward_PCA=metrics.silhouette_score(wine_pca,y_hc1p)\n",
        "SH_ward_PCA"
      ]
    },
    {
      "cell_type": "code",
      "execution_count": 91,
      "metadata": {
        "colab": {
          "base_uri": "https://localhost:8080/"
        },
        "id": "QXM_FGOSYaqk",
        "outputId": "ec33eab3-41e9-485a-a334-8c9010e75f52"
      },
      "outputs": [
        {
          "output_type": "execute_result",
          "data": {
            "text/plain": [
              "0.4465449278023582"
            ]
          },
          "metadata": {},
          "execution_count": 91
        }
      ],
      "source": [
        "SH_average_PCA=metrics.silhouette_score(wine_pca,y_hc2p)\n",
        "SH_average_PCA"
      ]
    },
    {
      "cell_type": "code",
      "execution_count": 92,
      "metadata": {
        "colab": {
          "base_uri": "https://localhost:8080/"
        },
        "id": "aLweYjwoYaql",
        "outputId": "42d1158d-50c2-4bcf-b109-57eb271922b5"
      },
      "outputs": [
        {
          "output_type": "execute_result",
          "data": {
            "text/plain": [
              "0.35784842685673074"
            ]
          },
          "metadata": {},
          "execution_count": 92
        }
      ],
      "source": [
        "SH_complete_PCA=metrics.silhouette_score(wine_pca,y_hc3p)\n",
        "SH_complete_PCA"
      ]
    },
    {
      "cell_type": "code",
      "execution_count": 93,
      "metadata": {
        "colab": {
          "base_uri": "https://localhost:8080/"
        },
        "id": "uzS4s9-TYaqm",
        "outputId": "62d56ad5-2279-4a31-837b-a205600aa66a"
      },
      "outputs": [
        {
          "output_type": "execute_result",
          "data": {
            "text/plain": [
              "0.36310673051041403"
            ]
          },
          "metadata": {},
          "execution_count": 93
        }
      ],
      "source": [
        "SH_single_PCA=metrics.silhouette_score(wine_pca,y_hc4p)\n",
        "SH_single_PCA"
      ]
    },
    {
      "cell_type": "code",
      "execution_count": 94,
      "metadata": {
        "colab": {
          "base_uri": "https://localhost:8080/"
        },
        "id": "cT_fxd0oYaqm",
        "outputId": "6748ca2d-a6dd-4a1f-9350-3e4c69c4d506"
      },
      "outputs": [
        {
          "output_type": "execute_result",
          "data": {
            "text/plain": [
              "0.45379998482576156"
            ]
          },
          "metadata": {},
          "execution_count": 94
        }
      ],
      "source": [
        "SH_kmeans_PCA=metrics.silhouette_score(wine_pca,KM_pca_label)\n",
        "SH_kmeans_PCA"
      ]
    },
    {
      "cell_type": "markdown",
      "metadata": {
        "id": "YhtxUQpeYaqn"
      },
      "source": [
        "### Consolidating the results"
      ]
    },
    {
      "cell_type": "code",
      "execution_count": 95,
      "metadata": {
        "colab": {
          "base_uri": "https://localhost:8080/",
          "height": 206
        },
        "id": "ksFuFiflYaqn",
        "outputId": "fbb7f16d-1bf1-445e-e7c6-03745a4f1a6a"
      },
      "outputs": [
        {
          "output_type": "execute_result",
          "data": {
            "text/plain": [
              "         Model  silhouette score        Model_pca  PCA Silhouette score \n",
              "0   SH_average          0.229458      SH_ward_PCA               0.445949\n",
              "1      SH_Ward          0.193825   SH_average_PCA               0.446545\n",
              "2  SH_Complete          0.277444  SH_complete_PCA               0.357848\n",
              "3    SH_Single          0.222451    SH_single_PCA               0.363107\n",
              "4    SH_Kmeans          0.284859    SH_kmeans_PCA               0.453800"
            ],
            "text/html": [
              "\n",
              "  <div id=\"df-54ba5bcb-e640-415d-a006-ea697de52e7b\">\n",
              "    <div class=\"colab-df-container\">\n",
              "      <div>\n",
              "<style scoped>\n",
              "    .dataframe tbody tr th:only-of-type {\n",
              "        vertical-align: middle;\n",
              "    }\n",
              "\n",
              "    .dataframe tbody tr th {\n",
              "        vertical-align: top;\n",
              "    }\n",
              "\n",
              "    .dataframe thead th {\n",
              "        text-align: right;\n",
              "    }\n",
              "</style>\n",
              "<table border=\"1\" class=\"dataframe\">\n",
              "  <thead>\n",
              "    <tr style=\"text-align: right;\">\n",
              "      <th></th>\n",
              "      <th>Model</th>\n",
              "      <th>silhouette score</th>\n",
              "      <th>Model_pca</th>\n",
              "      <th>PCA Silhouette score</th>\n",
              "    </tr>\n",
              "  </thead>\n",
              "  <tbody>\n",
              "    <tr>\n",
              "      <th>0</th>\n",
              "      <td>SH_average</td>\n",
              "      <td>0.229458</td>\n",
              "      <td>SH_ward_PCA</td>\n",
              "      <td>0.445949</td>\n",
              "    </tr>\n",
              "    <tr>\n",
              "      <th>1</th>\n",
              "      <td>SH_Ward</td>\n",
              "      <td>0.193825</td>\n",
              "      <td>SH_average_PCA</td>\n",
              "      <td>0.446545</td>\n",
              "    </tr>\n",
              "    <tr>\n",
              "      <th>2</th>\n",
              "      <td>SH_Complete</td>\n",
              "      <td>0.277444</td>\n",
              "      <td>SH_complete_PCA</td>\n",
              "      <td>0.357848</td>\n",
              "    </tr>\n",
              "    <tr>\n",
              "      <th>3</th>\n",
              "      <td>SH_Single</td>\n",
              "      <td>0.222451</td>\n",
              "      <td>SH_single_PCA</td>\n",
              "      <td>0.363107</td>\n",
              "    </tr>\n",
              "    <tr>\n",
              "      <th>4</th>\n",
              "      <td>SH_Kmeans</td>\n",
              "      <td>0.284859</td>\n",
              "      <td>SH_kmeans_PCA</td>\n",
              "      <td>0.453800</td>\n",
              "    </tr>\n",
              "  </tbody>\n",
              "</table>\n",
              "</div>\n",
              "      <button class=\"colab-df-convert\" onclick=\"convertToInteractive('df-54ba5bcb-e640-415d-a006-ea697de52e7b')\"\n",
              "              title=\"Convert this dataframe to an interactive table.\"\n",
              "              style=\"display:none;\">\n",
              "        \n",
              "  <svg xmlns=\"http://www.w3.org/2000/svg\" height=\"24px\"viewBox=\"0 0 24 24\"\n",
              "       width=\"24px\">\n",
              "    <path d=\"M0 0h24v24H0V0z\" fill=\"none\"/>\n",
              "    <path d=\"M18.56 5.44l.94 2.06.94-2.06 2.06-.94-2.06-.94-.94-2.06-.94 2.06-2.06.94zm-11 1L8.5 8.5l.94-2.06 2.06-.94-2.06-.94L8.5 2.5l-.94 2.06-2.06.94zm10 10l.94 2.06.94-2.06 2.06-.94-2.06-.94-.94-2.06-.94 2.06-2.06.94z\"/><path d=\"M17.41 7.96l-1.37-1.37c-.4-.4-.92-.59-1.43-.59-.52 0-1.04.2-1.43.59L10.3 9.45l-7.72 7.72c-.78.78-.78 2.05 0 2.83L4 21.41c.39.39.9.59 1.41.59.51 0 1.02-.2 1.41-.59l7.78-7.78 2.81-2.81c.8-.78.8-2.07 0-2.86zM5.41 20L4 18.59l7.72-7.72 1.47 1.35L5.41 20z\"/>\n",
              "  </svg>\n",
              "      </button>\n",
              "      \n",
              "  <style>\n",
              "    .colab-df-container {\n",
              "      display:flex;\n",
              "      flex-wrap:wrap;\n",
              "      gap: 12px;\n",
              "    }\n",
              "\n",
              "    .colab-df-convert {\n",
              "      background-color: #E8F0FE;\n",
              "      border: none;\n",
              "      border-radius: 50%;\n",
              "      cursor: pointer;\n",
              "      display: none;\n",
              "      fill: #1967D2;\n",
              "      height: 32px;\n",
              "      padding: 0 0 0 0;\n",
              "      width: 32px;\n",
              "    }\n",
              "\n",
              "    .colab-df-convert:hover {\n",
              "      background-color: #E2EBFA;\n",
              "      box-shadow: 0px 1px 2px rgba(60, 64, 67, 0.3), 0px 1px 3px 1px rgba(60, 64, 67, 0.15);\n",
              "      fill: #174EA6;\n",
              "    }\n",
              "\n",
              "    [theme=dark] .colab-df-convert {\n",
              "      background-color: #3B4455;\n",
              "      fill: #D2E3FC;\n",
              "    }\n",
              "\n",
              "    [theme=dark] .colab-df-convert:hover {\n",
              "      background-color: #434B5C;\n",
              "      box-shadow: 0px 1px 3px 1px rgba(0, 0, 0, 0.15);\n",
              "      filter: drop-shadow(0px 1px 2px rgba(0, 0, 0, 0.3));\n",
              "      fill: #FFFFFF;\n",
              "    }\n",
              "  </style>\n",
              "\n",
              "      <script>\n",
              "        const buttonEl =\n",
              "          document.querySelector('#df-54ba5bcb-e640-415d-a006-ea697de52e7b button.colab-df-convert');\n",
              "        buttonEl.style.display =\n",
              "          google.colab.kernel.accessAllowed ? 'block' : 'none';\n",
              "\n",
              "        async function convertToInteractive(key) {\n",
              "          const element = document.querySelector('#df-54ba5bcb-e640-415d-a006-ea697de52e7b');\n",
              "          const dataTable =\n",
              "            await google.colab.kernel.invokeFunction('convertToInteractive',\n",
              "                                                     [key], {});\n",
              "          if (!dataTable) return;\n",
              "\n",
              "          const docLinkHtml = 'Like what you see? Visit the ' +\n",
              "            '<a target=\"_blank\" href=https://colab.research.google.com/notebooks/data_table.ipynb>data table notebook</a>'\n",
              "            + ' to learn more about interactive tables.';\n",
              "          element.innerHTML = '';\n",
              "          dataTable['output_type'] = 'display_data';\n",
              "          await google.colab.output.renderOutput(dataTable, element);\n",
              "          const docLink = document.createElement('div');\n",
              "          docLink.innerHTML = docLinkHtml;\n",
              "          element.appendChild(docLink);\n",
              "        }\n",
              "      </script>\n",
              "    </div>\n",
              "  </div>\n",
              "  "
            ]
          },
          "metadata": {},
          "execution_count": 95
        }
      ],
      "source": [
        "t={'Model':pd.Series(['SH_average','SH_Ward','SH_Complete','SH_Single','SH_Kmeans']),\n",
        "  'silhouette score':[SH_average,SH_Ward,SH_Complete,SH_Single,SH_Kmeans],\n",
        "   'Model_pca':['SH_ward_PCA','SH_average_PCA','SH_complete_PCA','SH_single_PCA','SH_kmeans_PCA'],\n",
        "   'PCA Silhouette score ':[SH_ward_PCA,SH_average_PCA,SH_complete_PCA,SH_single_PCA,SH_kmeans_PCA]\n",
        "  }\n",
        "t=pd.DataFrame(t)\n",
        "t"
      ]
    },
    {
      "cell_type": "markdown",
      "metadata": {
        "id": "3-NaPhU3Yaqo"
      },
      "source": [
        "## inferece\n",
        "### I have analysed that before performing PCA the cluster result is similar. But, after performing PCA, we gain a double silhohuette score, which means that the complexity or overlaping of data is decreased after performing PCA.\n",
        "\n",
        "### And from clustring point of view in both the case (before PCA and after PCA), creating 3 clusters are good, when clustering is done using centroid linkage and kmeans clsutering.\n"
      ]
    }
  ],
  "metadata": {
    "kernelspec": {
      "display_name": "Python 3",
      "language": "python",
      "name": "python3"
    },
    "language_info": {
      "codemirror_mode": {
        "name": "ipython",
        "version": 3
      },
      "file_extension": ".py",
      "mimetype": "text/x-python",
      "name": "python",
      "nbconvert_exporter": "python",
      "pygments_lexer": "ipython3",
      "version": "3.8.8"
    },
    "colab": {
      "provenance": []
    }
  },
  "nbformat": 4,
  "nbformat_minor": 0
}